{
  "cells": [
    {
      "cell_type": "markdown",
      "metadata": {
        "id": "view-in-github",
        "colab_type": "text"
      },
      "source": [
        "<a href=\"https://colab.research.google.com/github/Stratoudakis/app/blob/master/%CE%91%CE%BD%CF%84%CE%AF%CE%B3%CF%81%CE%B1%CF%86%CE%BF_%CE%91%CE%BD%CF%84%CE%AF%CE%B3%CF%81%CE%B1%CF%86%CE%BF_lab3_empty.ipynb\" target=\"_parent\"><img src=\"https://colab.research.google.com/assets/colab-badge.svg\" alt=\"Open In Colab\"/></a>"
      ]
    },
    {
      "cell_type": "markdown",
      "source": [
        "# NLP 2024\n",
        "# Lab 3: Attention and Pre-trained Models\n",
        "\n",
        "Our practical journey in NLP has so far covered the following:\n",
        "- Lab 1: Train a bag-of-words model (with variations): In that case, we learned word meanings from the data itself.\n",
        "- Lab 2: Train an embedding-based model: We still learn from the data itself but hopefully with more effective ways to capture semantics and context.\n",
        "- Lab 2: Use pre-trained embeddings: We still learn from the data, and pre-training helps generalize.\n",
        "\n",
        "Now, it's time to not only use a set of pre-trained word vectors (aka representations) but to also use a pre-trained model (like BERT). The model is pre-trained on vast amounts of data and that allows for better generalization. At the same, as we discussed in class, BERT models are based on transformers, which use attention to model sequences (in our case sequences of words). BERT provides for contextualized embeddings, aka the embeddding vector of a word is only determined once the actual context of that word is known: Practically, this allows for words to have different embedding vectors depending on their actual context (e.g. think of the word \"bank\" and it's multiple meanings in different contexts).\n",
        "\n",
        "In this lab, we will learn how to load and use pre-trained models (e.g. BERT) from Huggingface. We will be using the same dataset/task as the previous lab, also for comparison reasons."
      ],
      "metadata": {
        "collapsed": false,
        "pycharm": {
          "name": "#%% md\n"
        },
        "id": "yzKuNRxBvH92"
      }
    },
    {
      "cell_type": "markdown",
      "source": [
        "By the end of this lab you should be able to:\n",
        "\n",
        "- Load and/or use pre-trained models and tokenizers to solve different NLP tasks\n",
        "- Inspect and analyze the innter workings (hidden layers etc.) of attention models (like BERT)\n",
        "- Use attention models to get sentence representations (aka sentence embeddings)\n",
        "- Use BERT sentence embeddings to solve more complicated tasks like information retrieval\n",
        "- Compare performance of differemt models on different NLP tasks and assess their effectiveness\n",
        "- Load and use the basics of `pytorch` (important framework in NLP)\n",
        "\n",
        "### Score breakdown\n",
        "\n",
        "| Exercise            | Points |\n",
        "|---------------------|--------|\n",
        "| [Exercise 1](#e1)   | 3      |\n",
        "| [Exercise 2](#e2)   | 3      |\n",
        "| [Exercise 3](#e3)   | 10     |\n",
        "| [Exercise 4](#e4)   | 5      |\n",
        "| [Exercise 5](#e5)   | 5      |\n",
        "| [Exercise 6](#e6)   | 3      |\n",
        "| [Exercise 7](#e7)   | 3      |\n",
        "| [Exercise 8](#e8)   | 3      |\n",
        "| [Exercise 9](#e9)   | 5      |\n",
        "| [Exercise 10](#e10) | 5      |\n",
        "| [Exercise 11](#e11) | 5      |\n",
        "| [Exercise 12](#e12) | 10     |\n",
        "| [Exercise 13](#e12) | 10     |\n",
        "| Total               | 70     |\n",
        "\n",
        "This score will be scaled down to 1 and that will be your final lab score.\n",
        "\n",
        "### Instructions for delivery (Deadline: 31/May late night, wildcards possible)\n",
        "\n",
        "+ Make sure that you include a proper amount/mix of comments, results and code.\n",
        "+ In the end, make sure that all cells are executed properly and everything you need to show is in your (execucted) notebook.\n",
        "+ You are asked to deliver only your executed notebook file, .ipnyb and nothing else. Enjoy!\n",
        "+ Honor code applies to these tasks. Only individual work should be submitted.\n",
        "+ While you may talk with others about this lab, we ask that you write your solutions individually. If you do discuss specific tasks with others please include their names below.\n",
        "+ It is mandatory to list and disclose any website (or other resource) you used (e.g. stackoverflow) as well as any genAI tools (e.g. chatGPT) used."
      ],
      "metadata": {
        "collapsed": false,
        "pycharm": {
          "name": "#%% md\n"
        },
        "id": "-Ft-ojwLvH93"
      }
    },
    {
      "cell_type": "markdown",
      "source": [
        "Collaborators: list collaborators here\n",
        "\n",
        "**I talked with Jerry about...**"
      ],
      "metadata": {
        "collapsed": false,
        "pycharm": {
          "name": "#%% md\n"
        },
        "id": "fsdyWxxOvH94"
      }
    },
    {
      "cell_type": "markdown",
      "source": [
        "Use of genAI tools (e.g. chatGPT), websites (e.g. stackoverflow): list websites where you found code (or other info) as well as include information on how you used genAI tools (e.g. prompts):\n",
        "\n",
        "I asked chatGPT about..."
      ],
      "metadata": {
        "collapsed": false,
        "pycharm": {
          "name": "#%% md\n"
        },
        "id": "1xqVXzhavH94"
      }
    },
    {
      "cell_type": "markdown",
      "source": [
        "## 0. Setup (Huggingface + PyTorch  = ❤️)\n",
        "\n",
        "You should know the drill by now. As in the last lab, we will be using huggingface datasets library ([https://huggingface.co/datasets](https://huggingface.co/datasets)). You can find the detailed documentation and tutorials here: [https://huggingface.co/docs/datasets/en/index](https://huggingface.co/docs/datasets/en/index)\n",
        "\n",
        "If you don't have it installed you can run the code below:"
      ],
      "metadata": {
        "collapsed": false,
        "pycharm": {
          "name": "#%% md\n"
        },
        "id": "DtIOSNGHvH95"
      }
    },
    {
      "cell_type": "code",
      "execution_count": null,
      "outputs": [
        {
          "output_type": "stream",
          "name": "stdout",
          "text": [
            "Collecting datasets~=2.18.0\n",
            "  Downloading datasets-2.18.0-py3-none-any.whl (510 kB)\n",
            "\u001b[2K     \u001b[90m━━━━━━━━━━━━━━━━━━━━━━━━━━━━━━━━━━━━━━━━\u001b[0m \u001b[32m510.5/510.5 kB\u001b[0m \u001b[31m7.0 MB/s\u001b[0m eta \u001b[36m0:00:00\u001b[0m\n",
            "\u001b[?25hRequirement already satisfied: filelock in /usr/local/lib/python3.10/dist-packages (from datasets~=2.18.0) (3.14.0)\n",
            "Requirement already satisfied: numpy>=1.17 in /usr/local/lib/python3.10/dist-packages (from datasets~=2.18.0) (1.25.2)\n",
            "Requirement already satisfied: pyarrow>=12.0.0 in /usr/local/lib/python3.10/dist-packages (from datasets~=2.18.0) (14.0.2)\n",
            "Requirement already satisfied: pyarrow-hotfix in /usr/local/lib/python3.10/dist-packages (from datasets~=2.18.0) (0.6)\n",
            "Collecting dill<0.3.9,>=0.3.0 (from datasets~=2.18.0)\n",
            "  Downloading dill-0.3.8-py3-none-any.whl (116 kB)\n",
            "\u001b[2K     \u001b[90m━━━━━━━━━━━━━━━━━━━━━━━━━━━━━━━━━━━━━━━━\u001b[0m \u001b[32m116.3/116.3 kB\u001b[0m \u001b[31m9.3 MB/s\u001b[0m eta \u001b[36m0:00:00\u001b[0m\n",
            "\u001b[?25hRequirement already satisfied: pandas in /usr/local/lib/python3.10/dist-packages (from datasets~=2.18.0) (2.0.3)\n",
            "Requirement already satisfied: requests>=2.19.0 in /usr/local/lib/python3.10/dist-packages (from datasets~=2.18.0) (2.31.0)\n",
            "Requirement already satisfied: tqdm>=4.62.1 in /usr/local/lib/python3.10/dist-packages (from datasets~=2.18.0) (4.66.4)\n",
            "Collecting xxhash (from datasets~=2.18.0)\n",
            "  Downloading xxhash-3.4.1-cp310-cp310-manylinux_2_17_x86_64.manylinux2014_x86_64.whl (194 kB)\n",
            "\u001b[2K     \u001b[90m━━━━━━━━━━━━━━━━━━━━━━━━━━━━━━━━━━━━━━━━\u001b[0m \u001b[32m194.1/194.1 kB\u001b[0m \u001b[31m9.0 MB/s\u001b[0m eta \u001b[36m0:00:00\u001b[0m\n",
            "\u001b[?25hCollecting multiprocess (from datasets~=2.18.0)\n",
            "  Downloading multiprocess-0.70.16-py310-none-any.whl (134 kB)\n",
            "\u001b[2K     \u001b[90m━━━━━━━━━━━━━━━━━━━━━━━━━━━━━━━━━━━━━━━━\u001b[0m \u001b[32m134.8/134.8 kB\u001b[0m \u001b[31m11.0 MB/s\u001b[0m eta \u001b[36m0:00:00\u001b[0m\n",
            "\u001b[?25hRequirement already satisfied: fsspec[http]<=2024.2.0,>=2023.1.0 in /usr/local/lib/python3.10/dist-packages (from datasets~=2.18.0) (2023.6.0)\n",
            "Requirement already satisfied: aiohttp in /usr/local/lib/python3.10/dist-packages (from datasets~=2.18.0) (3.9.5)\n",
            "Requirement already satisfied: huggingface-hub>=0.19.4 in /usr/local/lib/python3.10/dist-packages (from datasets~=2.18.0) (0.23.1)\n",
            "Requirement already satisfied: packaging in /usr/local/lib/python3.10/dist-packages (from datasets~=2.18.0) (24.0)\n",
            "Requirement already satisfied: pyyaml>=5.1 in /usr/local/lib/python3.10/dist-packages (from datasets~=2.18.0) (6.0.1)\n",
            "Requirement already satisfied: aiosignal>=1.1.2 in /usr/local/lib/python3.10/dist-packages (from aiohttp->datasets~=2.18.0) (1.3.1)\n",
            "Requirement already satisfied: attrs>=17.3.0 in /usr/local/lib/python3.10/dist-packages (from aiohttp->datasets~=2.18.0) (23.2.0)\n",
            "Requirement already satisfied: frozenlist>=1.1.1 in /usr/local/lib/python3.10/dist-packages (from aiohttp->datasets~=2.18.0) (1.4.1)\n",
            "Requirement already satisfied: multidict<7.0,>=4.5 in /usr/local/lib/python3.10/dist-packages (from aiohttp->datasets~=2.18.0) (6.0.5)\n",
            "Requirement already satisfied: yarl<2.0,>=1.0 in /usr/local/lib/python3.10/dist-packages (from aiohttp->datasets~=2.18.0) (1.9.4)\n",
            "Requirement already satisfied: async-timeout<5.0,>=4.0 in /usr/local/lib/python3.10/dist-packages (from aiohttp->datasets~=2.18.0) (4.0.3)\n",
            "Requirement already satisfied: typing-extensions>=3.7.4.3 in /usr/local/lib/python3.10/dist-packages (from huggingface-hub>=0.19.4->datasets~=2.18.0) (4.11.0)\n",
            "Requirement already satisfied: charset-normalizer<4,>=2 in /usr/local/lib/python3.10/dist-packages (from requests>=2.19.0->datasets~=2.18.0) (3.3.2)\n",
            "Requirement already satisfied: idna<4,>=2.5 in /usr/local/lib/python3.10/dist-packages (from requests>=2.19.0->datasets~=2.18.0) (3.7)\n",
            "Requirement already satisfied: urllib3<3,>=1.21.1 in /usr/local/lib/python3.10/dist-packages (from requests>=2.19.0->datasets~=2.18.0) (2.0.7)\n",
            "Requirement already satisfied: certifi>=2017.4.17 in /usr/local/lib/python3.10/dist-packages (from requests>=2.19.0->datasets~=2.18.0) (2024.2.2)\n",
            "Requirement already satisfied: python-dateutil>=2.8.2 in /usr/local/lib/python3.10/dist-packages (from pandas->datasets~=2.18.0) (2.8.2)\n",
            "Requirement already satisfied: pytz>=2020.1 in /usr/local/lib/python3.10/dist-packages (from pandas->datasets~=2.18.0) (2023.4)\n",
            "Requirement already satisfied: tzdata>=2022.1 in /usr/local/lib/python3.10/dist-packages (from pandas->datasets~=2.18.0) (2024.1)\n",
            "Requirement already satisfied: six>=1.5 in /usr/local/lib/python3.10/dist-packages (from python-dateutil>=2.8.2->pandas->datasets~=2.18.0) (1.16.0)\n"
          ]
        }
      ],
      "source": [
        "! pip install -U datasets~=2.18.0"
      ],
      "metadata": {
        "pycharm": {
          "name": "#%%\n"
        },
        "id": "BXnS23EOvH95",
        "colab": {
          "base_uri": "https://localhost:8080/"
        },
        "outputId": "24dd4379-8715-4b94-b411-f46d86f40fa6"
      }
    },
    {
      "cell_type": "markdown",
      "source": [
        "Next, we will need [PyTorch](https://pytorch.org/) installed. It is a very popular deep learning library that offers modularized versions of many of the sequence models we discussed in class. It's an important tool that you may want to practice further if you want to dive deeper into NLP, since much of the current academic and industrial research uses it.\n",
        "\n",
        "Some resources to look further are given below.\n",
        "\n",
        "* [Documentation](https://pytorch.org/docs/stable/index.html) (We will need this soon)\n",
        "\n",
        "* [Installation Instructions](https://pytorch.org/get-started/locally/)\n",
        "\n",
        "* [Quickstart Tutorial](https://pytorch.org/tutorials/beginner/basics/quickstart_tutorial.html)\n",
        "\n",
        "The cell below should install the library:"
      ],
      "metadata": {
        "collapsed": false,
        "pycharm": {
          "name": "#%% md\n"
        },
        "id": "guiiBjRS3yDc"
      }
    },
    {
      "cell_type": "code",
      "execution_count": null,
      "outputs": [],
      "source": [
        "! pip install torch torchvision torchaudio"
      ],
      "metadata": {
        "pycharm": {
          "name": "#%%\n"
        },
        "id": "YxhaW5aEvH96"
      }
    },
    {
      "cell_type": "markdown",
      "source": [
        "The last bit we need is the huggingface transformers library (here is the documentation [https://huggingface.co/docs/transformers/en/index](https://huggingface.co/docs/transformers/en/index)). Transformers are one of the most influential architectures in handling sequences (not only in language). As we discussed in lectures, they excel at taking into account context (which is the salt-and-pepper of NLP) with mechansisms such as self-attetion, which allows them to weigh the importance of different words in a sentence. If you want to know more, revisit the course material (slides and textbook).\n",
        "\n",
        "We already used huggingface datasets in previous labs and huggingface transformers integrates nicely with that. Apart from the ease of use, huggingface is also providing pre-trained models of different kinds. The list can be found [here](https://huggingface.co/models) ([https://huggingface.co/models](https://huggingface.co/models)). The following line should be enough to install huggingface transformers library:"
      ],
      "metadata": {
        "collapsed": false,
        "pycharm": {
          "name": "#%% md\n"
        },
        "id": "WxQp0Rwj3yDd"
      }
    },
    {
      "cell_type": "code",
      "execution_count": null,
      "outputs": [
        {
          "output_type": "stream",
          "name": "stdout",
          "text": [
            "Collecting transformers~=4.30.2\n",
            "  Downloading transformers-4.30.2-py3-none-any.whl (7.2 MB)\n",
            "\u001b[2K     \u001b[90m━━━━━━━━━━━━━━━━━━━━━━━━━━━━━━━━━━━━━━━━\u001b[0m \u001b[32m7.2/7.2 MB\u001b[0m \u001b[31m17.7 MB/s\u001b[0m eta \u001b[36m0:00:00\u001b[0m\n",
            "\u001b[?25hRequirement already satisfied: filelock in /usr/local/lib/python3.10/dist-packages (from transformers~=4.30.2) (3.14.0)\n",
            "Requirement already satisfied: huggingface-hub<1.0,>=0.14.1 in /usr/local/lib/python3.10/dist-packages (from transformers~=4.30.2) (0.23.1)\n",
            "Requirement already satisfied: numpy>=1.17 in /usr/local/lib/python3.10/dist-packages (from transformers~=4.30.2) (1.25.2)\n",
            "Requirement already satisfied: packaging>=20.0 in /usr/local/lib/python3.10/dist-packages (from transformers~=4.30.2) (24.0)\n",
            "Requirement already satisfied: pyyaml>=5.1 in /usr/local/lib/python3.10/dist-packages (from transformers~=4.30.2) (6.0.1)\n",
            "Requirement already satisfied: regex!=2019.12.17 in /usr/local/lib/python3.10/dist-packages (from transformers~=4.30.2) (2023.12.25)\n",
            "Requirement already satisfied: requests in /usr/local/lib/python3.10/dist-packages (from transformers~=4.30.2) (2.31.0)\n",
            "Collecting tokenizers!=0.11.3,<0.14,>=0.11.1 (from transformers~=4.30.2)\n",
            "  Downloading tokenizers-0.13.3-cp310-cp310-manylinux_2_17_x86_64.manylinux2014_x86_64.whl (7.8 MB)\n",
            "\u001b[2K     \u001b[90m━━━━━━━━━━━━━━━━━━━━━━━━━━━━━━━━━━━━━━━━\u001b[0m \u001b[32m7.8/7.8 MB\u001b[0m \u001b[31m41.2 MB/s\u001b[0m eta \u001b[36m0:00:00\u001b[0m\n",
            "\u001b[?25hRequirement already satisfied: safetensors>=0.3.1 in /usr/local/lib/python3.10/dist-packages (from transformers~=4.30.2) (0.4.3)\n",
            "Requirement already satisfied: tqdm>=4.27 in /usr/local/lib/python3.10/dist-packages (from transformers~=4.30.2) (4.66.4)\n",
            "Requirement already satisfied: fsspec>=2023.5.0 in /usr/local/lib/python3.10/dist-packages (from huggingface-hub<1.0,>=0.14.1->transformers~=4.30.2) (2023.6.0)\n",
            "Requirement already satisfied: typing-extensions>=3.7.4.3 in /usr/local/lib/python3.10/dist-packages (from huggingface-hub<1.0,>=0.14.1->transformers~=4.30.2) (4.11.0)\n",
            "Requirement already satisfied: charset-normalizer<4,>=2 in /usr/local/lib/python3.10/dist-packages (from requests->transformers~=4.30.2) (3.3.2)\n",
            "Requirement already satisfied: idna<4,>=2.5 in /usr/local/lib/python3.10/dist-packages (from requests->transformers~=4.30.2) (3.7)\n",
            "Requirement already satisfied: urllib3<3,>=1.21.1 in /usr/local/lib/python3.10/dist-packages (from requests->transformers~=4.30.2) (2.0.7)\n",
            "Requirement already satisfied: certifi>=2017.4.17 in /usr/local/lib/python3.10/dist-packages (from requests->transformers~=4.30.2) (2024.2.2)\n",
            "Installing collected packages: tokenizers, transformers\n",
            "  Attempting uninstall: tokenizers\n",
            "    Found existing installation: tokenizers 0.19.1\n",
            "    Uninstalling tokenizers-0.19.1:\n",
            "      Successfully uninstalled tokenizers-0.19.1\n",
            "  Attempting uninstall: transformers\n",
            "    Found existing installation: transformers 4.41.0\n",
            "    Uninstalling transformers-4.41.0:\n",
            "      Successfully uninstalled transformers-4.41.0\n",
            "Successfully installed tokenizers-0.13.3 transformers-4.30.2\n"
          ]
        }
      ],
      "source": [
        "! pip install transformers~=4.30.2"
      ],
      "metadata": {
        "pycharm": {
          "name": "#%%\n"
        },
        "id": "7qGxwe83vH97",
        "colab": {
          "base_uri": "https://localhost:8080/"
        },
        "outputId": "fcfc439f-4ae8-4a87-82ef-bdff559b2dd2"
      }
    },
    {
      "cell_type": "markdown",
      "source": [
        "As usual, we start by importing some essential Python libraries that we will be using."
      ],
      "metadata": {
        "collapsed": false,
        "pycharm": {
          "name": "#%% md\n"
        },
        "id": "6JuIqVctvH97"
      }
    },
    {
      "cell_type": "code",
      "execution_count": null,
      "outputs": [],
      "source": [
        "import math\n",
        "import numpy as np\n",
        "import matplotlib.pyplot as plt\n",
        "import datasets\n",
        "import transformers\n",
        "import tqdm\n",
        "import torch"
      ],
      "metadata": {
        "pycharm": {
          "name": "#%%\n"
        },
        "id": "TF1I55snvH98"
      }
    },
    {
      "cell_type": "markdown",
      "source": [
        "## 1. Load and Preprocess Data\n",
        "\n",
        "For easiness and comparison purposes, we will ue the same dataset as in the previous lab. That will help us re-visit the approach and see whether contextualized architectures can do better in the same problem/task/dataset.\n",
        "\n",
        "As a reminder:\n",
        "\n",
        "*Sentence compression* involves rephrasing sentences to make them shorter while still retaining the original meaning. A reliable compression system would be valuable for mobile devices and could also serve as a component in an extractive summarization system.\n",
        "\n",
        "The dataset we are going to use can be found on [Huggingface](https://huggingface.co/datasets/embedding-data/sentence-compression). It concerns a set of 180,000 pairs of sentences, aka it is a parallel corpus of sentences and their equivalent compressions. It has been collected by harvesting news articles from the Internet where the headline appears to be similar to the first sentence and that property is used to find an \"extractive\" compression of the sentence.\n",
        "\n",
        "For example, for the sentence\n",
        "\n",
        "`\"Regulators Friday shut down a small Florida bank, bringing to 119 the number of US bank failures this year amid mounting loan defaults\"`\n",
        "\n",
        "the compressed equivalent (based on the dataset) is:\n",
        "\n",
        "`\"Regulators shut down small Florida bank\"`.\n",
        "\n",
        "\n",
        "For more information you can read the original paper (from Google) [here](https://aclanthology.org/D13-1155.pdf). If you haven't done so for Lab 2, we strongly recommend going over the paper to gain further insights"
      ],
      "metadata": {
        "collapsed": false,
        "pycharm": {
          "name": "#%% md\n"
        },
        "id": "U5geMu9qvH98"
      }
    },
    {
      "cell_type": "markdown",
      "source": [
        "### 1.1 Loading the Dataset\n",
        "\n",
        "The dataset will be loaded as a huggingface datgaset. This may take a few minutes because of the large size of the data.\n",
        "\n",
        "Make sure to inspect the dataset and make sure it is imported properly."
      ],
      "metadata": {
        "collapsed": false,
        "pycharm": {
          "name": "#%% md\n"
        },
        "id": "JSktNuydvH99"
      }
    },
    {
      "cell_type": "code",
      "execution_count": null,
      "outputs": [
        {
          "output_type": "stream",
          "name": "stderr",
          "text": [
            "/usr/local/lib/python3.10/dist-packages/huggingface_hub/utils/_token.py:89: UserWarning: \n",
            "The secret `HF_TOKEN` does not exist in your Colab secrets.\n",
            "To authenticate with the Hugging Face Hub, create a token in your settings tab (https://huggingface.co/settings/tokens), set it as secret in your Google Colab and restart your session.\n",
            "You will be able to reuse this secret in all of your notebooks.\n",
            "Please note that authentication is recommended but still optional to access public models or datasets.\n",
            "  warnings.warn(\n"
          ]
        },
        {
          "output_type": "display_data",
          "data": {
            "text/plain": [
              "Downloading readme:   0%|          | 0.00/4.88k [00:00<?, ?B/s]"
            ],
            "application/vnd.jupyter.widget-view+json": {
              "version_major": 2,
              "version_minor": 0,
              "model_id": "b71473cbff8c47ed937153efa11be02a"
            }
          },
          "metadata": {}
        },
        {
          "output_type": "display_data",
          "data": {
            "text/plain": [
              "Downloading data:   0%|          | 0.00/14.2M [00:00<?, ?B/s]"
            ],
            "application/vnd.jupyter.widget-view+json": {
              "version_major": 2,
              "version_minor": 0,
              "model_id": "b8506cd1185a45938cc6e81abddfa3f1"
            }
          },
          "metadata": {}
        },
        {
          "output_type": "display_data",
          "data": {
            "text/plain": [
              "Generating train split: 0 examples [00:00, ? examples/s]"
            ],
            "application/vnd.jupyter.widget-view+json": {
              "version_major": 2,
              "version_minor": 0,
              "model_id": "f89f9d451a18457da6365c15fa62f9ae"
            }
          },
          "metadata": {}
        },
        {
          "output_type": "stream",
          "name": "stdout",
          "text": [
            "DatasetDict({\n",
            "    train: Dataset({\n",
            "        features: ['set'],\n",
            "        num_rows: 180000\n",
            "    })\n",
            "})\n"
          ]
        }
      ],
      "source": [
        "ds = datasets.load_dataset('embedding-data/sentence-compression')\n",
        "print(ds)"
      ],
      "metadata": {
        "pycharm": {
          "name": "#%%\n"
        },
        "id": "729opcYhvH9-",
        "colab": {
          "base_uri": "https://localhost:8080/",
          "height": 341,
          "referenced_widgets": [
            "b71473cbff8c47ed937153efa11be02a",
            "b5c066edfd8b4448ba2b41b9021773e4",
            "d89863514715480f9698c82836e659c4",
            "c49bd09873264fce89f913d7b8fd5774",
            "222cfe7934574e4e8689c6ec27aca201",
            "c73ce6b26a4c41e69576c697799f5873",
            "84076a89b0ef4081b3115d3eb3aac5d1",
            "aa76c03babe84bdfae5aa1df029cf902",
            "ad3bdba160e34607a1ec82f83242db92",
            "5d9f34dc4fd242ecb51769069ee2bc4e",
            "0c775289a8654e218ccb56fb8e177410",
            "b8506cd1185a45938cc6e81abddfa3f1",
            "3202277fbae24f05b74f7872f62f7d61",
            "50186e270bd8487fb789d59e9fc39a25",
            "8f90cd031b004f1bb85eb9f8824c0636",
            "57395469a82d48439be4af52f845996c",
            "d1e6e157527048a6a54ff0706cff424a",
            "a852bf8c664d4fc2aacb6401e427c4b0",
            "db54c5ec8d084bc192e0d9f755bc6011",
            "188a26170cd94b3e91cd8ca9ac2fecbe",
            "b4331a1460d6416e8a97218a88203add",
            "1ecc5e26f5964188864b0743d9464817",
            "f89f9d451a18457da6365c15fa62f9ae",
            "62d89a2b2cf646c4ad4fb3780ba7efa1",
            "e38d4328408e437092debbc3d04e5944",
            "ed7ef440f9a2473f946d39d0f516e7a7",
            "d091774770714b70a9a5ed72249ef066",
            "123dac6b2be64e5a9ba696ea348affc9",
            "f89944da6bb7455996b05adc34de7760",
            "ef4450e99e0c4f2c948807cf517fa3ac",
            "f139fd57e4eb439499eeb5393146bfd2",
            "7f5af9f8150b47cfb48951b04b497177",
            "367684fa11d24ebe8135392952ef2e31"
          ]
        },
        "outputId": "cf9e8ea3-4530-4b3c-e1c6-a5d5f837f3c2"
      }
    },
    {
      "cell_type": "code",
      "execution_count": null,
      "outputs": [
        {
          "output_type": "stream",
          "name": "stdout",
          "text": [
            "{'set': [\"The USHL completed an expansion draft on Monday as 10 players who were on the rosters of USHL teams during the 2009-10 season were selected by the League's two newest entries, the Muskegon Lumberjacks and Dubuque Fighting Saints.\", 'USHL completes expansion draft']}\n",
            "{'set': ['Major League Baseball Commissioner Bud Selig will be speaking at St. Norbert College next month.', 'Bud Selig to speak at St. Norbert College']}\n",
            "{'set': [\"It's fresh cherry time in Michigan and the best time to enjoy this delicious and nutritious fruit.\", \"It's cherry time\"]}\n",
            "{'set': ['An Evesham man is facing charges in Pennsylvania after he allegedly dragged his girlfriend from the side of his pickup truck on the campus of Kutztown University in the early morning hours of Dec. 5, police said.', 'Evesham man faces charges for Pa.']}\n",
            "{'set': [\"NRT LLC, one of the nation's largest residential real estate brokerage companies, announced several executive appointments within its Coldwell Banker Residential Brokerage operations in Southern California.\", 'NRT announces executive appointments at its Coldwell Banker operations in Southern California']}\n",
            "{'set': ['THE JSE kept toying with an all time high by midday today as resources continued to fuel the bourse.', 'JSE keeps toying with all time high']}\n",
            "{'set': ['The government is defending the latest police crime statistics despite a worrying rise in the recorded amount of violent offending.', 'Government defends crime statistics']}\n",
            "{'set': ['The renovated Marappalam bridge, which had been opened for two-wheelers last week, was opened for other vehicles also on Friday.', 'Marappalam bridge opened']}\n",
            "{'set': ['A new survey shows 30 percent of Californians use Twitter, and more and more of us are using our smart phones to go online.', 'Survey: 30 percent of Californians use Twitter']}\n",
            "{'set': ['Brightpoint ,a provider of logistic services to the mobile industry, has started operations in the Turkish market.', 'Brightpoint starts operations on Turkish market']}\n"
          ]
        }
      ],
      "source": [
        "for i in range(10):\n",
        "    print(ds['train'][i])"
      ],
      "metadata": {
        "pycharm": {
          "name": "#%%\n"
        },
        "id": "OW2K2bIlvH9-",
        "colab": {
          "base_uri": "https://localhost:8080/"
        },
        "outputId": "ee48ee15-1c69-4bc5-d746-ce967e11ac29"
      }
    },
    {
      "cell_type": "markdown",
      "source": [
        "The dataset comes with a `train` split so we will have to split that into `train`/`test` ourselves with the line below."
      ],
      "metadata": {
        "collapsed": false,
        "pycharm": {
          "name": "#%% md\n"
        },
        "id": "xPb472EOvH9-"
      }
    },
    {
      "cell_type": "code",
      "execution_count": null,
      "outputs": [
        {
          "output_type": "stream",
          "name": "stdout",
          "text": [
            "DatasetDict({\n",
            "    train: Dataset({\n",
            "        features: ['set'],\n",
            "        num_rows: 144000\n",
            "    })\n",
            "    test: Dataset({\n",
            "        features: ['set'],\n",
            "        num_rows: 36000\n",
            "    })\n",
            "})\n"
          ]
        }
      ],
      "source": [
        "split_ds = ds['train'].train_test_split(test_size=0.2)\n",
        "print(split_ds)"
      ],
      "metadata": {
        "pycharm": {
          "name": "#%%\n"
        },
        "id": "-jVcxqAlvH9-",
        "colab": {
          "base_uri": "https://localhost:8080/"
        },
        "outputId": "d5403ad0-dec7-4b9a-9f33-618fe3591bbc"
      }
    },
    {
      "cell_type": "markdown",
      "source": [
        "### 1.2 Preprocessing the dataset\n",
        "\n",
        "In this section we will prepare the dataset. Note that previously, we had very much full control over the vocabulary of the dataset (in terms of pre-processing including tokenization). That is because we wanted to build our own embedding model.\n",
        "\n",
        "By using a *pre-trained* model (like we are going to do at this lab), we need to adhere to the way this model was trained (including the tokenization). Huggingface provides the models, along with the relevant tokenizers, therefore cleaning is not necessary (as in previous labs). You can still include it if you think this would improve the results of the retrieval in the later parts of the lab."
      ],
      "metadata": {
        "collapsed": false,
        "pycharm": {
          "name": "#%% md\n"
        },
        "id": "eFcCNQK-vH9_"
      }
    },
    {
      "cell_type": "markdown",
      "source": [
        "<a name='e1'></a>\n",
        "### Exercise 1 (3 points)\n",
        "Instead of cleaning, we will unpack the `set` (containing tuples of full and compressed sentences) column into separate `sentence` and `compressed` columns. This will make it a bit easier for us later.\n",
        "\n",
        "One key difference in this function is the fact that it will accept a batch of examples (instead of a single example in the exercises in the previous lab). You can iterate through the examples this way:\n",
        "\n",
        "```\n",
        "for set in examples['set']\n",
        "```\n",
        "\n",
        "The new columns should be lists containing strings (full or compressed sentences) extracted from the `set` column.\n",
        "\n",
        "Fill in the function below to complete this task"
      ],
      "metadata": {
        "collapsed": false,
        "pycharm": {
          "name": "#%% md\n"
        },
        "id": "zV_I_tNP3yDf"
      }
    },
    {
      "cell_type": "code",
      "execution_count": null,
      "outputs": [],
      "source": [
        "def unpack(examples):\n",
        "    \"\"\"\n",
        "    Unpacks the column `set` into two columns `sentence` and `compressed`.\n",
        "    Args:\n",
        "        examples: a batch of examples from the dataset\n",
        "\n",
        "    Returns: modified examples with two new columns: `sentence` and `compressed`\n",
        "\n",
        "    \"\"\"\n",
        "    sentences = []\n",
        "    compressed_sentences = []\n",
        "\n",
        "    ### YOUR CODE HERE\n",
        "\n",
        "    for set in examples['set']:\n",
        "\n",
        "        sentence, compressed_sentence = set\n",
        "\n",
        "        sentences.append(sentence)\n",
        "\n",
        "        compressed_sentences.append(compressed_sentence)\n",
        "\n",
        "\n",
        "    ### YOUR CODE ENDS HERE\n",
        "\n",
        "    examples['sentence'] = sentences\n",
        "    examples['compressed'] = compressed_sentences\n",
        "    return examples"
      ],
      "metadata": {
        "pycharm": {
          "name": "#%%\n"
        },
        "id": "Y-EAcw6rvH-A"
      }
    },
    {
      "cell_type": "markdown",
      "source": [
        "In the next cell, we will apply the `unpack` function to the whole dataset. Notice that we also drop the original `set` column."
      ],
      "metadata": {
        "collapsed": false,
        "pycharm": {
          "name": "#%% md\n"
        },
        "id": "iHWdv9wf3yDg"
      }
    },
    {
      "cell_type": "code",
      "execution_count": null,
      "outputs": [
        {
          "output_type": "display_data",
          "data": {
            "text/plain": [
              "Map:   0%|          | 0/144000 [00:00<?, ? examples/s]"
            ],
            "application/vnd.jupyter.widget-view+json": {
              "version_major": 2,
              "version_minor": 0,
              "model_id": "4d40158f6f6540babf48b6b938c774c7"
            }
          },
          "metadata": {}
        },
        {
          "output_type": "display_data",
          "data": {
            "text/plain": [
              "Map:   0%|          | 0/36000 [00:00<?, ? examples/s]"
            ],
            "application/vnd.jupyter.widget-view+json": {
              "version_major": 2,
              "version_minor": 0,
              "model_id": "8ab0c2bdce2e4821ab0e3711212ff89a"
            }
          },
          "metadata": {}
        },
        {
          "output_type": "stream",
          "name": "stdout",
          "text": [
            "DatasetDict({\n",
            "    train: Dataset({\n",
            "        features: ['sentence', 'compressed'],\n",
            "        num_rows: 144000\n",
            "    })\n",
            "    test: Dataset({\n",
            "        features: ['sentence', 'compressed'],\n",
            "        num_rows: 36000\n",
            "    })\n",
            "})\n"
          ]
        }
      ],
      "source": [
        "split_ds = split_ds.map(unpack, batched=True, remove_columns=['set'])\n",
        "print(split_ds)"
      ],
      "metadata": {
        "pycharm": {
          "name": "#%%\n"
        },
        "id": "WE3A4nlhvH-B",
        "colab": {
          "base_uri": "https://localhost:8080/",
          "height": 255,
          "referenced_widgets": [
            "4d40158f6f6540babf48b6b938c774c7",
            "ae9149e14a534d908b2becfde9618c3e",
            "a0c2da126e754340bfa9e4a02cb1b082",
            "cf6b3133845e4f7dba48c1f7168b9e74",
            "470f77c18d5f4f18b052ede93cc44640",
            "42fb0130fcb6499d9c6eee4f63d69ab7",
            "2b1c9c1a2eec4416b0e30a5b3fb5eabd",
            "5156bc78ff2844bfbca0ea1cc1b99ac5",
            "2caf16c79a6d4b3cb38f4d418908750c",
            "08d24d317ea24904b1e700a5cb17d824",
            "2ccedefe7d244ceeaf4806d3bbaa081e",
            "8ab0c2bdce2e4821ab0e3711212ff89a",
            "94c2cb10a8ca490090ab86c2a36ccda1",
            "fda4ce7161854dd997db17e39f70e74c",
            "e76ddc33b7394d3ba6567a66c8bff10d",
            "d7ef391c713945eda0b7b6feaaf89d37",
            "21a65bc8f0a6405baf8f99bec0394b18",
            "85b8397d1ba7499987f9fad342ba1104",
            "038a1a4cafc54a3685a8b88ca15a73a3",
            "117e9214707c4d658a394eacb28a3a37",
            "0c254b4af83c4032bdf058bab8727a02",
            "241216d7dddb4ea0a5ebcd4f6134966e"
          ]
        },
        "outputId": "55994aa1-819d-4195-8806-c7cbd0e0aa18"
      }
    },
    {
      "cell_type": "markdown",
      "source": [
        "Let's examine some examples from the dataset and make sure that we got the results we wanted."
      ],
      "metadata": {
        "collapsed": false,
        "pycharm": {
          "name": "#%% md\n"
        },
        "id": "9C4CriktvH-B"
      }
    },
    {
      "cell_type": "code",
      "execution_count": null,
      "outputs": [
        {
          "output_type": "stream",
          "name": "stdout",
          "text": [
            "{'sentence': 'Good Friday went bad for an Oshawa man who now finds himself at odds with the law after Peterborough police found someone urinating on a business in the downtown.', 'compressed': 'Good Friday goes bad for Oshawa man'}\n",
            "{'sentence': \"South Australia's fauna emblem the southern hairy-nosed wombat is starving in the Murraylands, according to an animal welfare group.\", 'compressed': 'Wombats starving in Murraylands'}\n",
            "{'sentence': 'Udinese have snapped up Swiss midfielder Gelson Fernandes on loan until the end of the current campaign.', 'compressed': 'Udinese snap up Gelson Fernandes on loan'}\n",
            "{'sentence': 'Jacob Zuma, the ANC president, on Friday ruled out an early national and provincial election.', 'compressed': 'Zuma rules out early elections'}\n",
            "{'sentence': \"No, I don't think music can be an instrument of peace.\", 'compressed': 'Can music be an instrument of peace?'}\n",
            "{'sentence': 'Senator Brad Ashford of Omaha, chairman of the Judiciary Committee, says too many teens are locked up.', 'compressed': 'Too many teens locked up'}\n",
            "{'sentence': 'Democrats are not expected to return today to the Indiana House to end the standoff that has shut down the Indiana House for more than two weeks.', 'compressed': 'Dems not expected to return today'}\n",
            "{'sentence': 'After his requests to defend himself were denied, Muzzammil Hassan requested to leave the courtroom, as he threatened to do earlier Thursday afternoon .', 'compressed': 'Hassan requests to leave courtroom'}\n",
            "{'sentence': 'Ben Fogle, the TV presenter and adventurer, has become a father for the first time.', 'compressed': 'Ben Fogle becomes a father'}\n",
            "{'sentence': 'Two Sedro-Woolley women were injured yesterday in a crash on SR-9 near Mosier Road north of Sedro-Woolley.', 'compressed': 'Two women injured in crash'}\n"
          ]
        }
      ],
      "source": [
        "for i in range(10):\n",
        "    print(split_ds['train'][i])"
      ],
      "metadata": {
        "pycharm": {
          "name": "#%%\n"
        },
        "id": "FB0CcieNvH-B",
        "colab": {
          "base_uri": "https://localhost:8080/"
        },
        "outputId": "05aace2c-3998-4917-ac99-dc33689aa06e"
      }
    },
    {
      "cell_type": "markdown",
      "source": [
        "In this lab, we will be using only pre-trained models. That means that we won't be training any new model. This is the reason we can select only the `test` subset for the rest of the notebook (this is where we will be assessing the performance of the pre-trained models). At the same time, we will save much time, as we will not be processing the `train` subset."
      ],
      "metadata": {
        "collapsed": false,
        "pycharm": {
          "name": "#%% md\n"
        },
        "id": "PBSo6FUe3yDh"
      }
    },
    {
      "cell_type": "code",
      "execution_count": null,
      "outputs": [
        {
          "output_type": "stream",
          "name": "stdout",
          "text": [
            "Dataset({\n",
            "    features: ['sentence', 'compressed'],\n",
            "    num_rows: 36000\n",
            "})\n"
          ]
        }
      ],
      "source": [
        "test_ds = split_ds['test']\n",
        "print(test_ds)"
      ],
      "metadata": {
        "pycharm": {
          "name": "#%%\n"
        },
        "id": "2_O8Q3Be3yDh",
        "colab": {
          "base_uri": "https://localhost:8080/"
        },
        "outputId": "e0334216-0089-44c0-cbf3-48954be619d6"
      }
    },
    {
      "cell_type": "markdown",
      "source": [
        "### 1.3 Loading the Tokenizer\n",
        "\n",
        "For the first part of this lab, we will be using a pre-trained BERT model from Huggingface, namely the [BERT Uncased](https://huggingface.co/google-bert/bert-base-uncased). You can read the original paper that introduced this model [here](https://aclanthology.org/N19-1423.pdf). This paper has been once of the most cited papers ever (currently having more than 100,000 citations).\n",
        "\n",
        "We will specify the model name that can be found on the model's card on huggingface (revisit the first link). Make sure to check what other information Huggingface is offering (e.g. how to use the model, limitations, how to inference, etc.)."
      ],
      "metadata": {
        "collapsed": false,
        "pycharm": {
          "name": "#%% md\n"
        },
        "id": "TNWtEeYovH-B"
      }
    },
    {
      "cell_type": "code",
      "execution_count": null,
      "outputs": [],
      "source": [
        "model_name = 'google-bert/bert-base-uncased'"
      ],
      "metadata": {
        "pycharm": {
          "name": "#%%\n"
        },
        "id": "WDOZFXQW3yDh"
      }
    },
    {
      "cell_type": "markdown",
      "source": [
        "The models on huggingface come with their own tokenizers. They are loaded separately from the models. We can use [AutoTokenizer](https://huggingface.co/docs/transformers/v4.40.2/en/model_doc/auto#transformers.AutoTokenizer)'s `from_pretrained()` method to load it.\n",
        "\n",
        "Inspect the output: The loaded object is of `BertTokenizerFast` class. Check the documentation [here](https://huggingface.co/docs/transformers/model_doc/bert#transformers.BertTokenizerFast).\n",
        "\n",
        "* What is the vocabulary size?\n",
        "\n",
        "* What are the special tokens and their functions?\n",
        "\n",
        "Check the original paper to know more and discuss also with your TAs."
      ],
      "metadata": {
        "collapsed": false,
        "pycharm": {
          "name": "#%% md\n"
        },
        "id": "4BQvzgnY3yDh"
      }
    },
    {
      "cell_type": "code",
      "execution_count": null,
      "outputs": [
        {
          "output_type": "stream",
          "name": "stderr",
          "text": [
            "/usr/local/lib/python3.10/dist-packages/huggingface_hub/file_download.py:1132: FutureWarning: `resume_download` is deprecated and will be removed in version 1.0.0. Downloads always resume when possible. If you want to force a new download, use `force_download=True`.\n",
            "  warnings.warn(\n"
          ]
        },
        {
          "output_type": "display_data",
          "data": {
            "text/plain": [
              "tokenizer_config.json:   0%|          | 0.00/48.0 [00:00<?, ?B/s]"
            ],
            "application/vnd.jupyter.widget-view+json": {
              "version_major": 2,
              "version_minor": 0,
              "model_id": "ae46ede060ce44339e7ba13c1006ec38"
            }
          },
          "metadata": {}
        },
        {
          "output_type": "display_data",
          "data": {
            "text/plain": [
              "config.json:   0%|          | 0.00/570 [00:00<?, ?B/s]"
            ],
            "application/vnd.jupyter.widget-view+json": {
              "version_major": 2,
              "version_minor": 0,
              "model_id": "84bbde85fab14901a0d354d68aec18e9"
            }
          },
          "metadata": {}
        },
        {
          "output_type": "display_data",
          "data": {
            "text/plain": [
              "vocab.txt:   0%|          | 0.00/232k [00:00<?, ?B/s]"
            ],
            "application/vnd.jupyter.widget-view+json": {
              "version_major": 2,
              "version_minor": 0,
              "model_id": "867055cd54f44a83a5ab20216ff24238"
            }
          },
          "metadata": {}
        },
        {
          "output_type": "display_data",
          "data": {
            "text/plain": [
              "tokenizer.json:   0%|          | 0.00/466k [00:00<?, ?B/s]"
            ],
            "application/vnd.jupyter.widget-view+json": {
              "version_major": 2,
              "version_minor": 0,
              "model_id": "256cc924a83b4ec2b8521efb290893c4"
            }
          },
          "metadata": {}
        },
        {
          "output_type": "stream",
          "name": "stdout",
          "text": [
            "BertTokenizerFast(name_or_path='google-bert/bert-base-uncased', vocab_size=30522, model_max_length=512, is_fast=True, padding_side='right', truncation_side='right', special_tokens={'unk_token': '[UNK]', 'sep_token': '[SEP]', 'pad_token': '[PAD]', 'cls_token': '[CLS]', 'mask_token': '[MASK]'}, clean_up_tokenization_spaces=True)\n"
          ]
        }
      ],
      "source": [
        "tokenizer = transformers.AutoTokenizer.from_pretrained(model_name)\n",
        "print(tokenizer)"
      ],
      "metadata": {
        "pycharm": {
          "name": "#%%\n"
        },
        "id": "65tANDf83yDh",
        "colab": {
          "base_uri": "https://localhost:8080/",
          "height": 217,
          "referenced_widgets": [
            "ae46ede060ce44339e7ba13c1006ec38",
            "c216efa2b41e4637b4f17d91c9c3b8ac",
            "cb174b11122f483ab7c7661fcccaba50",
            "41baca791448455fbfe0639d59e7b647",
            "49ddc450b9c64bfb975c7d9a144db16a",
            "e96ebb1f932c4878869a429c581dde2c",
            "190299a0fee14b74956f1a1785d2a6bf",
            "220a2e14a7dd444ea393162a144c531c",
            "ec6eba9941064a45969fa72a21a8a00d",
            "f5f94027fa434f64aa67912ad5a4e460",
            "9abe1f2d095143a79b7d142d2a3948bd",
            "84bbde85fab14901a0d354d68aec18e9",
            "c7e200f9f3ad415586990880618d0687",
            "1d7073193f434bbb9f9557d7d0869a04",
            "74b4af4f3a3948c4bc901c0608c4448f",
            "bb352d1ca428442ea8e6e2f8f3e5459a",
            "2aaa113a73b94b84b57cb9b5da6b65cc",
            "7ea65119cb1943968cef556d4f0c262b",
            "fb401eba9c3e469281329310d1ea84a5",
            "67a7c6f1525c458cb0de5b51742e2881",
            "cceb853e0e6d4c6e834fd47be16e0ec4",
            "842ccf496f0b46cba95f926b38b76b32",
            "867055cd54f44a83a5ab20216ff24238",
            "fde1f345a58848e6a824bc6e5521b05c",
            "30cdc7ff51f64d9786056fbc9c69ada0",
            "cf6953b8fdd744a5b460e45b6c4aca52",
            "3e03d12f4a8444fa818ed03b43731462",
            "cc8bddefa46742df88a69240e18182f2",
            "1a62bfed32f74f5494dbc6b1d2f94ede",
            "693a3678ca7f4d3d944b8928e0efa389",
            "756dca1ad33149be80d805a01b05b3ae",
            "97c8e9bb8c044b6daaf9bbea97ccbeb4",
            "479e84d63634495f859299bcc5947715",
            "256cc924a83b4ec2b8521efb290893c4",
            "0a94b7a6d6a449a4a58368bcc6343a77",
            "2a6d496dec6b4b21a521c0eb736001c3",
            "d86a2b93b79d4ed9b30b1871d262851b",
            "90bc08ce23b0484ab2bd4c51e1453e54",
            "dd8a5fed31084e749e12b0e7257d0a99",
            "868adcb2a63841c3ad3a39fc8b21e736",
            "be547eb8ad7b45d58d164daedf8963f1",
            "9c22399fa42445c488e3fac3b53bc00f",
            "307cfaa258a74ec58ade809e56fd5327",
            "c26fd3f9c57c4a3da42c33207b21eec4"
          ]
        },
        "outputId": "673e6be4-f978-423c-92e6-1841733fa241"
      }
    },
    {
      "cell_type": "markdown",
      "source": [
        "Next, let's see how we can use it to tokenize some text."
      ],
      "metadata": {
        "collapsed": false,
        "pycharm": {
          "name": "#%% md\n"
        },
        "id": "wAsysDPF3yDi"
      }
    },
    {
      "cell_type": "code",
      "execution_count": null,
      "outputs": [
        {
          "output_type": "stream",
          "name": "stdout",
          "text": [
            "Microsoft chops hosted software price, London Transport gets lost property system, file-sharers are big spenders too, and hacker charged in cloning scheme.\n",
            "---\n",
            "<class 'transformers.tokenization_utils_base.BatchEncoding'>\n",
            "---\n",
            "{'input_ids': tensor([[  101,  7513, 24494,  2015,  4354,  4007,  3976,  1010,  2414,  3665,\n",
            "          4152,  2439,  3200,  2291,  1010,  5371,  1011,  3745,  2869,  2024,\n",
            "          2502,  5247,  2545,  2205,  1010,  1998, 23307,  5338,  1999, 18856,\n",
            "         13369,  5679,  1012,   102]]), 'token_type_ids': tensor([[0, 0, 0, 0, 0, 0, 0, 0, 0, 0, 0, 0, 0, 0, 0, 0, 0, 0, 0, 0, 0, 0, 0, 0,\n",
            "         0, 0, 0, 0, 0, 0, 0, 0, 0, 0]]), 'attention_mask': tensor([[1, 1, 1, 1, 1, 1, 1, 1, 1, 1, 1, 1, 1, 1, 1, 1, 1, 1, 1, 1, 1, 1, 1, 1,\n",
            "         1, 1, 1, 1, 1, 1, 1, 1, 1, 1]])}\n"
          ]
        }
      ],
      "source": [
        "print(test_ds[0]['sentence'])\n",
        "tokenized = tokenizer(test_ds[0]['sentence'], padding=True, return_tensors='pt')\n",
        "print(\"---\")\n",
        "print(type(tokenized))\n",
        "print(\"---\")\n",
        "print(tokenized)"
      ],
      "metadata": {
        "pycharm": {
          "name": "#%%\n"
        },
        "id": "rXuyD9zS3yDi",
        "colab": {
          "base_uri": "https://localhost:8080/"
        },
        "outputId": "af059dbf-bfc6-4e76-8aea-b6a8f8428ee2"
      }
    },
    {
      "cell_type": "markdown",
      "source": [
        "Examine the outputs: The tokenizer returned three things:\n",
        "- `input_ids` - this is a PyTorch tensor ([https://pytorch.org/docs/stable/tensors.html](https://pytorch.org/docs/stable/tensors.html)) with the indices of our tokens. PyTorch tensors are similar to numpy arrays. They hold data in a multidimensional array or matrix. The difference is that PyTorch tensors can be placed and modified on the GPU which greatly improves the speed of execution.\n",
        "- `token_type_ids` - this tensor holds the information about the index of the sentence. This has to do with the classification objective from the original paper, where two sentences were given and the model had to predict if they are connected. Because we only included a single sentence, we have only zeros here. We will not be concerned with it in this lab.\n",
        "- `attention_mask` - holds the mask that the model will use to determine if the tokens in the `input_ids` are the real tokens or *padding*. Padding is a technique used to ensure that all input sequences have the same length. BERT (like many other NLP models) process data in batches and requires each sequence in a batch to have the same length, so sequences that are shorter than the maximum sequence length in the batch are padded with special tokens. In this case, because we only inputted a single sentence, the mask contains only ones. Later you will see examples where this is not the case."
      ],
      "metadata": {
        "collapsed": false,
        "pycharm": {
          "name": "#%% md\n"
        },
        "id": "p_QbX2W93yDi"
      }
    },
    {
      "cell_type": "markdown",
      "source": [
        "Let's see how exactly the sentence was tokenized and how we can retrieve the original text. Notice that some words have been split into multiple tokens (remember when we discussed sub-word tokenization in class?). Also pay attention to the added special tokens, namely `CLS` and `SEP`:\n",
        "\n",
        "The `[CLS]` token is a special classification token added at the beginning of every input sequence. It stands for \"classification\" (daah!) and is used by BERT to aggregate information from the entire sequence. The final hidden state corresponding to this token (after passing through the transformer layers) is used as the aggregate sequence representation for classification tasks. We will use this later in the lab!\n",
        "\n",
        "The `[SEP]` token is used to separate different segments or sentences within the input sequence. It stands for \"separator\" (daaah again!)."
      ],
      "metadata": {
        "collapsed": false,
        "pycharm": {
          "name": "#%% md\n"
        },
        "id": "56sjQFDF3yDi"
      }
    },
    {
      "cell_type": "code",
      "execution_count": null,
      "outputs": [
        {
          "output_type": "stream",
          "name": "stdout",
          "text": [
            "torch.Size([1, 34])\n",
            "---\n",
            "['[CLS]', 'microsoft', 'chop', '##s', 'hosted', 'software', 'price', ',', 'london', 'transport', 'gets', 'lost', 'property', 'system', ',', 'file', '-', 'share', '##rs', 'are', 'big', 'spend', '##ers', 'too', ',', 'and', 'hacker', 'charged', 'in', 'cl', '##oning', 'scheme', '.', '[SEP]']\n",
            "---\n",
            "34\n",
            "---\n",
            "[CLS] microsoft chops hosted software price, london transport gets lost property system, file - sharers are big spenders too, and hacker charged in cloning scheme. [SEP]\n",
            "---\n",
            "microsoft chops hosted software price, london transport gets lost property system, file - sharers are big spenders too, and hacker charged in cloning scheme.\n"
          ]
        }
      ],
      "source": [
        "print(tokenized['input_ids'].shape)\n",
        "print(\"---\")\n",
        "print(tokenizer.convert_ids_to_tokens(tokenized['input_ids'][0]))\n",
        "print(\"---\")\n",
        "print(len(tokenizer.convert_ids_to_tokens(tokenized['input_ids'][0])))\n",
        "print(\"---\")\n",
        "print(tokenizer.decode(tokenized['input_ids'][0]))\n",
        "print(\"---\")\n",
        "print(tokenizer.decode(tokenized['input_ids'][0], skip_special_tokens=True))"
      ],
      "metadata": {
        "pycharm": {
          "name": "#%%\n"
        },
        "id": "lJjEcuCz3yDi",
        "colab": {
          "base_uri": "https://localhost:8080/"
        },
        "outputId": "59466a09-234f-46a3-fb08-accbac83e6f4"
      }
    },
    {
      "cell_type": "markdown",
      "source": [
        "Tokenizer can process a list of sentences. This will create a batched output with tensor's first dimension corresponding to the batch size (the number of sentences we passed to the tokenizer). Examine the following cell and make sure it makes sense to you."
      ],
      "metadata": {
        "collapsed": false,
        "pycharm": {
          "name": "#%% md\n"
        },
        "id": "R1zOEq9I3yDi"
      }
    },
    {
      "cell_type": "code",
      "execution_count": null,
      "outputs": [
        {
          "output_type": "stream",
          "name": "stdout",
          "text": [
            "['Microsoft chops hosted software price, London Transport gets lost property system, file-sharers are big spenders too, and hacker charged in cloning scheme.', \"A 43-year-old Jordanian merchant has been charged with premeditated murder for allegedly beating his second wife to death over ``family differences,'' a judicial official said on Tuesday.\", 'New details are emerging about a downtown Wilmington bar fight that landed three bouncers in jail and another man in the hospital.']\n",
            "{'input_ids': tensor([[  101,  7513, 24494,  2015,  4354,  4007,  3976,  1010,  2414,  3665,\n",
            "          4152,  2439,  3200,  2291,  1010,  5371,  1011,  3745,  2869,  2024,\n",
            "          2502,  5247,  2545,  2205,  1010,  1998, 23307,  5338,  1999, 18856,\n",
            "         13369,  5679,  1012,   102,     0,     0,     0,     0,     0,     0,\n",
            "             0],\n",
            "        [  101,  1037,  4724,  1011,  2095,  1011,  2214, 26276,  6432,  2038,\n",
            "          2042,  5338,  2007, 26563,  2098, 15198,  4028,  2005,  9382,  6012,\n",
            "          2010,  2117,  2564,  2000,  2331,  2058,  1036,  1036,  2155,  5966,\n",
            "          1010,  1005,  1005,  1037,  8268,  2880,  2056,  2006,  9857,  1012,\n",
            "           102],\n",
            "        [  101,  2047,  4751,  2024,  8361,  2055,  1037,  5116, 17025,  3347,\n",
            "          2954,  2008,  5565,  2093, 17523,  2869,  1999,  7173,  1998,  2178,\n",
            "          2158,  1999,  1996,  2902,  1012,   102,     0,     0,     0,     0,\n",
            "             0,     0,     0,     0,     0,     0,     0,     0,     0,     0,\n",
            "             0]]), 'token_type_ids': tensor([[0, 0, 0, 0, 0, 0, 0, 0, 0, 0, 0, 0, 0, 0, 0, 0, 0, 0, 0, 0, 0, 0, 0, 0,\n",
            "         0, 0, 0, 0, 0, 0, 0, 0, 0, 0, 0, 0, 0, 0, 0, 0, 0],\n",
            "        [0, 0, 0, 0, 0, 0, 0, 0, 0, 0, 0, 0, 0, 0, 0, 0, 0, 0, 0, 0, 0, 0, 0, 0,\n",
            "         0, 0, 0, 0, 0, 0, 0, 0, 0, 0, 0, 0, 0, 0, 0, 0, 0],\n",
            "        [0, 0, 0, 0, 0, 0, 0, 0, 0, 0, 0, 0, 0, 0, 0, 0, 0, 0, 0, 0, 0, 0, 0, 0,\n",
            "         0, 0, 0, 0, 0, 0, 0, 0, 0, 0, 0, 0, 0, 0, 0, 0, 0]]), 'attention_mask': tensor([[1, 1, 1, 1, 1, 1, 1, 1, 1, 1, 1, 1, 1, 1, 1, 1, 1, 1, 1, 1, 1, 1, 1, 1,\n",
            "         1, 1, 1, 1, 1, 1, 1, 1, 1, 1, 0, 0, 0, 0, 0, 0, 0],\n",
            "        [1, 1, 1, 1, 1, 1, 1, 1, 1, 1, 1, 1, 1, 1, 1, 1, 1, 1, 1, 1, 1, 1, 1, 1,\n",
            "         1, 1, 1, 1, 1, 1, 1, 1, 1, 1, 1, 1, 1, 1, 1, 1, 1],\n",
            "        [1, 1, 1, 1, 1, 1, 1, 1, 1, 1, 1, 1, 1, 1, 1, 1, 1, 1, 1, 1, 1, 1, 1, 1,\n",
            "         1, 1, 0, 0, 0, 0, 0, 0, 0, 0, 0, 0, 0, 0, 0, 0, 0]])}\n",
            "torch.Size([3, 41])\n",
            "['[CLS]', 'microsoft', 'chop', '##s', 'hosted', 'software', 'price', ',', 'london', 'transport', 'gets', 'lost', 'property', 'system', ',', 'file', '-', 'share', '##rs', 'are', 'big', 'spend', '##ers', 'too', ',', 'and', 'hacker', 'charged', 'in', 'cl', '##oning', 'scheme', '.', '[SEP]', '[PAD]', '[PAD]', '[PAD]', '[PAD]', '[PAD]', '[PAD]', '[PAD]']\n",
            "41\n",
            "[CLS] microsoft chops hosted software price, london transport gets lost property system, file - sharers are big spenders too, and hacker charged in cloning scheme. [SEP] [PAD] [PAD] [PAD] [PAD] [PAD] [PAD] [PAD]\n",
            "microsoft chops hosted software price, london transport gets lost property system, file - sharers are big spenders too, and hacker charged in cloning scheme.\n"
          ]
        }
      ],
      "source": [
        "print(test_ds[0:3]['sentence'])\n",
        "tokenized = tokenizer(test_ds[0:3]['sentence'], padding=True, return_tensors='pt')\n",
        "print(tokenized)\n",
        "print(tokenized['input_ids'].shape)\n",
        "print(tokenizer.convert_ids_to_tokens(tokenized['input_ids'][0]))\n",
        "print(len(tokenizer.convert_ids_to_tokens(tokenized['input_ids'][0])))\n",
        "print(tokenizer.decode(tokenized['input_ids'][0]))\n",
        "print(tokenizer.decode(tokenized['input_ids'][0], skip_special_tokens=True))"
      ],
      "metadata": {
        "pycharm": {
          "name": "#%%\n"
        },
        "id": "34OeI7Ae3yDi",
        "colab": {
          "base_uri": "https://localhost:8080/"
        },
        "outputId": "716c20b9-2915-4384-b56e-f61d9b16718a"
      }
    },
    {
      "cell_type": "markdown",
      "source": [
        "### 1.4 Loading the Model\n",
        "\n",
        "In this section, we will load and examine the model. We will start with selecting the device we will place the model on. This will be a GPU (if one is available) or a CPU.\n",
        "\n",
        "Google Colab offers free access to GPU, provided there is availability (also baed on quotas which may vary based on your usage and the overall demand on Colab's resources). If you are working locally, then if you don't have a GPU, CPU will be selected. For the first parts of the assignment running on CPU might be okay but when we have to load the dataset a GPU will be necessary.\n",
        "\n",
        "The following cell will select the device for us."
      ],
      "metadata": {
        "collapsed": false,
        "pycharm": {
          "name": "#%% md\n"
        },
        "id": "8jiItmn_3yDj"
      }
    },
    {
      "cell_type": "code",
      "execution_count": null,
      "outputs": [
        {
          "output_type": "stream",
          "name": "stdout",
          "text": [
            "Device: cpu\n"
          ]
        }
      ],
      "source": [
        "device = 'cuda:0' if torch.cuda.is_available() else 'cpu'\n",
        "print(f'Device: {device}')"
      ],
      "metadata": {
        "pycharm": {
          "name": "#%%\n"
        },
        "id": "uTBSdi8l3yDj",
        "colab": {
          "base_uri": "https://localhost:8080/"
        },
        "outputId": "fbb23c68-60ee-4be4-cf5d-b93d9360153f"
      }
    },
    {
      "cell_type": "markdown",
      "source": [
        "Now, let's load the model from huggingface and place it (slowly because it's heavy due to the large number of parameters) on the device from the previous cell (the methods `to()`)."
      ],
      "metadata": {
        "collapsed": false,
        "pycharm": {
          "name": "#%% md\n"
        },
        "id": "bPkKEm1j3yDj"
      }
    },
    {
      "cell_type": "code",
      "execution_count": null,
      "outputs": [
        {
          "output_type": "stream",
          "name": "stderr",
          "text": [
            "/usr/local/lib/python3.10/dist-packages/huggingface_hub/file_download.py:1132: FutureWarning: `resume_download` is deprecated and will be removed in version 1.0.0. Downloads always resume when possible. If you want to force a new download, use `force_download=True`.\n",
            "  warnings.warn(\n",
            "/usr/local/lib/python3.10/dist-packages/huggingface_hub/file_download.py:1132: FutureWarning: `resume_download` is deprecated and will be removed in version 1.0.0. Downloads always resume when possible. If you want to force a new download, use `force_download=True`.\n",
            "  warnings.warn(\n"
          ]
        },
        {
          "output_type": "display_data",
          "data": {
            "text/plain": [
              "model.safetensors:   0%|          | 0.00/440M [00:00<?, ?B/s]"
            ],
            "application/vnd.jupyter.widget-view+json": {
              "version_major": 2,
              "version_minor": 0,
              "model_id": "72f417932eff4611abdaf690cfc0400c"
            }
          },
          "metadata": {}
        },
        {
          "output_type": "stream",
          "name": "stderr",
          "text": [
            "Some weights of the model checkpoint at google-bert/bert-base-uncased were not used when initializing BertModel: ['cls.seq_relationship.weight', 'cls.predictions.transform.LayerNorm.bias', 'cls.predictions.transform.dense.weight', 'cls.predictions.transform.LayerNorm.weight', 'cls.predictions.bias', 'cls.seq_relationship.bias', 'cls.predictions.transform.dense.bias']\n",
            "- This IS expected if you are initializing BertModel from the checkpoint of a model trained on another task or with another architecture (e.g. initializing a BertForSequenceClassification model from a BertForPreTraining model).\n",
            "- This IS NOT expected if you are initializing BertModel from the checkpoint of a model that you expect to be exactly identical (initializing a BertForSequenceClassification model from a BertForSequenceClassification model).\n"
          ]
        },
        {
          "output_type": "stream",
          "name": "stdout",
          "text": [
            "BertModel(\n",
            "  (embeddings): BertEmbeddings(\n",
            "    (word_embeddings): Embedding(30522, 768, padding_idx=0)\n",
            "    (position_embeddings): Embedding(512, 768)\n",
            "    (token_type_embeddings): Embedding(2, 768)\n",
            "    (LayerNorm): LayerNorm((768,), eps=1e-12, elementwise_affine=True)\n",
            "    (dropout): Dropout(p=0.1, inplace=False)\n",
            "  )\n",
            "  (encoder): BertEncoder(\n",
            "    (layer): ModuleList(\n",
            "      (0-11): 12 x BertLayer(\n",
            "        (attention): BertAttention(\n",
            "          (self): BertSelfAttention(\n",
            "            (query): Linear(in_features=768, out_features=768, bias=True)\n",
            "            (key): Linear(in_features=768, out_features=768, bias=True)\n",
            "            (value): Linear(in_features=768, out_features=768, bias=True)\n",
            "            (dropout): Dropout(p=0.1, inplace=False)\n",
            "          )\n",
            "          (output): BertSelfOutput(\n",
            "            (dense): Linear(in_features=768, out_features=768, bias=True)\n",
            "            (LayerNorm): LayerNorm((768,), eps=1e-12, elementwise_affine=True)\n",
            "            (dropout): Dropout(p=0.1, inplace=False)\n",
            "          )\n",
            "        )\n",
            "        (intermediate): BertIntermediate(\n",
            "          (dense): Linear(in_features=768, out_features=3072, bias=True)\n",
            "          (intermediate_act_fn): GELUActivation()\n",
            "        )\n",
            "        (output): BertOutput(\n",
            "          (dense): Linear(in_features=3072, out_features=768, bias=True)\n",
            "          (LayerNorm): LayerNorm((768,), eps=1e-12, elementwise_affine=True)\n",
            "          (dropout): Dropout(p=0.1, inplace=False)\n",
            "        )\n",
            "      )\n",
            "    )\n",
            "  )\n",
            "  (pooler): BertPooler(\n",
            "    (dense): Linear(in_features=768, out_features=768, bias=True)\n",
            "    (activation): Tanh()\n",
            "  )\n",
            ")\n"
          ]
        }
      ],
      "source": [
        "model = transformers.AutoModel.from_pretrained(model_name)\n",
        "model.to(device)\n",
        "print(model)"
      ],
      "metadata": {
        "pycharm": {
          "name": "#%%\n"
        },
        "id": "NGfllaki3yDj",
        "colab": {
          "base_uri": "https://localhost:8080/",
          "height": 902,
          "referenced_widgets": [
            "72f417932eff4611abdaf690cfc0400c",
            "ea8c1f787f4e4220942de158de65156d",
            "ae0bdb878c244535a41e99cb43300c24",
            "0af860a9306643da8eff5c04f3f6f0fc",
            "d8a95e4a17524224be8ed635da4f4b5e",
            "f2809e08806b498699158655441b521d",
            "74c1057874d344578290b3eb286b8bae",
            "4bfcc1a15a964532a58b80ba58bbd82f",
            "f945803b58d54eef98306ec5e3395563",
            "f20267087c62429fa407480abf376d48",
            "b8fd8682b8b446d8a968a64e8c240277"
          ]
        },
        "outputId": "f7eccdc5-177b-4e43-dc2c-0d4a62cec159"
      }
    },
    {
      "cell_type": "markdown",
      "source": [
        "<a name='e2'></a>\n",
        "### Exercise 2 (3 points)\n",
        "\n",
        "Examine the output of the previous cell. Answer the following questions:\n",
        "- What is the number of transformer layers in this model?\n",
        "- What is the dimension of the embeddings?\n",
        "- What is the hidden size of the FFN in the transformer layer?\n",
        "- What is the total number of parameters of the model (hint: check the `num_parameters()` method of the model)?"
      ],
      "metadata": {
        "collapsed": false,
        "pycharm": {
          "name": "#%% md\n"
        },
        "id": "ARmJq63Y3yDj"
      }
    },
    {
      "cell_type": "markdown",
      "source": [
        "- What is the number of transformer layers in this model?\n",
        "\n",
        "  This can be determined by the number of 'BertLayer' instances in the Bertencoder:\n",
        "  (encoder): BertEncoder((layer): ModuleList((0-11): 12 x BertLayer . Therefore, 12 transformer layers.\n",
        "\n",
        "- What is the dimension of the embeddings?\n",
        "\n",
        "  The dimension of the embedding can be found here:\n",
        "\n",
        " (embeddings): BertEmbeddings(\n",
        "    (word_embeddings): Embedding(30522, 768, padding_idx=0)\n",
        "    (position_embeddings): Embedding(512, 768)\n",
        "    (token_type_embeddings): Embedding(2, 768)\n",
        "\n",
        "  Hence, all the embeddings have a dimension of 768\n",
        "\n",
        "- What is the hidden size of the FFN in the transformer layer?\n",
        "\n",
        "\n",
        "  (intermediate): BertIntermediate(\n",
        "          (dense): Linear(in_features=768, out_features=3072, bias=True)\n",
        "          (intermediate_act_fn): GELUActivation(). The hidden size of FFN is 3072\n",
        "- What is the total number of parameters of the model (hint: check the num_parameters() method of the model)?\n",
        "\n",
        "\n",
        "\n",
        "\n"
      ],
      "metadata": {
        "collapsed": false,
        "pycharm": {
          "name": "#%% md\n"
        },
        "id": "wTeDn48k3yDj"
      }
    },
    {
      "cell_type": "code",
      "source": [
        "total_params = model.num_parameters()\n",
        "print(f'Total number of parameters: {total_params}')"
      ],
      "metadata": {
        "id": "gQSZnD8m-aVK",
        "outputId": "6dced767-7366-4a86-85d9-4089ef493da7",
        "colab": {
          "base_uri": "https://localhost:8080/"
        }
      },
      "execution_count": null,
      "outputs": [
        {
          "output_type": "stream",
          "name": "stdout",
          "text": [
            "Total number of parameters: 109482240\n"
          ]
        }
      ]
    },
    {
      "cell_type": "markdown",
      "source": [
        "Next, let's use BERT model for inference. We will tokenize the first sentence of our dataset and pass it to the model. We set `output_hidden_states` to `True` in order to have access to the hidden states of the model. Those represent the latent representations after embedding and transformer layers."
      ],
      "metadata": {
        "collapsed": false,
        "pycharm": {
          "name": "#%% md\n"
        },
        "id": "nADIgEtC3yDj"
      }
    },
    {
      "cell_type": "code",
      "execution_count": null,
      "outputs": [
        {
          "output_type": "stream",
          "name": "stdout",
          "text": [
            "{'input_ids': tensor([[  101,  7513, 24494,  2015,  4354,  4007,  3976,  1010,  2414,  3665,\n",
            "          4152,  2439,  3200,  2291,  1010,  5371,  1011,  3745,  2869,  2024,\n",
            "          2502,  5247,  2545,  2205,  1010,  1998, 23307,  5338,  1999, 18856,\n",
            "         13369,  5679,  1012,   102]]), 'token_type_ids': tensor([[0, 0, 0, 0, 0, 0, 0, 0, 0, 0, 0, 0, 0, 0, 0, 0, 0, 0, 0, 0, 0, 0, 0, 0,\n",
            "         0, 0, 0, 0, 0, 0, 0, 0, 0, 0]]), 'attention_mask': tensor([[1, 1, 1, 1, 1, 1, 1, 1, 1, 1, 1, 1, 1, 1, 1, 1, 1, 1, 1, 1, 1, 1, 1, 1,\n",
            "         1, 1, 1, 1, 1, 1, 1, 1, 1, 1]])}\n"
          ]
        }
      ],
      "source": [
        "tokenized = tokenizer(test_ds[0]['sentence'], padding=True, return_tensors='pt').to(device)\n",
        "print(tokenized)\n",
        "model_output = model(**tokenized, output_hidden_states=True)"
      ],
      "metadata": {
        "pycharm": {
          "name": "#%%\n"
        },
        "id": "dekpp7gB3yDk",
        "colab": {
          "base_uri": "https://localhost:8080/"
        },
        "outputId": "7aa7082c-6963-48d2-dd89-d725847068e0"
      }
    },
    {
      "cell_type": "markdown",
      "source": [
        "Examine the next cell and make sure everything makes sense to you. Consult the [documentation](https://huggingface.co/docs/transformers/model_doc/bert#transformers.BertModel.forward) in case of doubt."
      ],
      "metadata": {
        "collapsed": false,
        "pycharm": {
          "name": "#%% md\n"
        },
        "id": "OvGsCiyQ3yDk"
      }
    },
    {
      "cell_type": "code",
      "execution_count": null,
      "outputs": [
        {
          "output_type": "stream",
          "name": "stdout",
          "text": [
            "['last_hidden_state', 'pooler_output', 'hidden_states']\n",
            "<class 'torch.Tensor'>\n",
            "torch.Size([1, 768])\n",
            "<class 'tuple'>\n",
            "13\n",
            "<class 'torch.Tensor'>\n",
            "torch.Size([1, 34, 768])\n"
          ]
        }
      ],
      "source": [
        "print(list(model_output.keys()))\n",
        "print(type(model_output['pooler_output']))\n",
        "print(model_output['pooler_output'].shape)\n",
        "print(type(model_output['hidden_states']))\n",
        "print(len(model_output['hidden_states']))\n",
        "print(type(model_output['hidden_states'][0]))\n",
        "print(model_output['hidden_states'][0].shape)"
      ],
      "metadata": {
        "pycharm": {
          "name": "#%%\n"
        },
        "id": "a_4pkd7t3yDk",
        "colab": {
          "base_uri": "https://localhost:8080/"
        },
        "outputId": "d5078f9c-d26d-4bd7-9dfd-b9d1bc0f4104"
      }
    },
    {
      "cell_type": "markdown",
      "source": [
        "## 2. Exploring BERT hidden states\n",
        "\n",
        "In this section we will look in more detail into the embeddings (latent representations) of BERT model. As a reminder, BERT embeddings a type of contextual word embeddings generated by the BERT model. They capture the meaning of words in the actual context. Notice the contrast with the static word embeddings we worked with in the previous lab: Then, we only needed a large corpus to compute word embeddings. In the case of BERT, we need to pass the actual sequence through the model to get the equivalent vector. More specifically, we tokenize the sentence (based on the relevant model and tokenizer), add the special tokanes (`CLS` and `SEP`) and pass the sentence in the model.\n",
        "\n",
        "We will use the following function to plot the cosine similarity between tokens in different sentences. Examine the code and make sure it makes sense to you."
      ],
      "metadata": {
        "collapsed": false,
        "pycharm": {
          "name": "#%% md\n"
        },
        "id": "O719dX7J3yDk"
      }
    },
    {
      "cell_type": "code",
      "execution_count": null,
      "outputs": [],
      "source": [
        "from typing import List\n",
        "from itertools import combinations\n",
        "\n",
        "\n",
        "def plot_evolving_similarities(hidden_states: List[torch.Tensor], tokens_ids_of_interest: List[int]):\n",
        "    \"\"\"\n",
        "    Plots the evolving cosine similarity between the hidden representation of tokens in different sentences.\n",
        "    Hidden states are provided as a list of tensors where each tensor corresponds to the layer of the model.\n",
        "    Each tensor contains the hidden representations of each token (second dimension) of each sentence (first dimension).\n",
        "    For each sentence there have to be a token of interest (can be the same).\n",
        "    Args:\n",
        "        hidden_states: a list of tensors containing the hidden representations of sentences\n",
        "        tokens_ids_of_interest: a list of indices of tokens of interest\n",
        "    \"\"\"\n",
        "    assert hidden_states[0].shape[0] == len(tokens_ids_of_interest), \\\n",
        "        'The batch size of hidden_states must be equal to the number of tokens of interest'\n",
        "\n",
        "    num_layers = len(hidden_states)\n",
        "    num_sentences = len(tokens_ids_of_interest)\n",
        "    sentence_combinations = tuple(combinations(range(num_sentences), 2))\n",
        "    similarities = [[] for _ in range(len(sentence_combinations))]\n",
        "    for layer in range(num_layers):\n",
        "        for i, (sent1, sent2) in enumerate(sentence_combinations):\n",
        "            embedding1 = model_outputs['hidden_states'][layer][sent1, tokens_ids_of_interest[sent1]]\n",
        "            embedding2 = model_outputs['hidden_states'][layer][sent2, tokens_ids_of_interest[sent2]]\n",
        "            cosine_similarity = torch.nn.functional.cosine_similarity(embedding1, embedding2, dim=0)\n",
        "            similarities[i].append(cosine_similarity.detach().cpu().numpy())\n",
        "\n",
        "    for i, (sent1, sent2) in enumerate(sentence_combinations):\n",
        "        plt.plot(range(num_layers), similarities[i],\n",
        "                 label=f'between {sent1 + 1} and {sent2 + 1}')\n",
        "    plt.xlabel('layer')\n",
        "    plt.ylabel('cosine similarity')\n",
        "    plt.legend()\n",
        "    plt.show()"
      ],
      "metadata": {
        "pycharm": {
          "name": "#%%\n"
        },
        "id": "JlyZYhJm3yDk"
      }
    },
    {
      "cell_type": "markdown",
      "source": [
        "Here are three sentences with the word \"bank\". The word form is the same for all, however the meaning is different in the second sentence. Remember polysemy?\n",
        "\n",
        "We can plot how the cosine similarity between the embeddings (and latent representations) of the word \"bank\" in each sentence evolves through the different layers of BERT.\n",
        "\n",
        "The following code follows the procedure we described above."
      ],
      "metadata": {
        "collapsed": false,
        "pycharm": {
          "name": "#%% md\n"
        },
        "id": "E3yOESy83yDk"
      }
    },
    {
      "cell_type": "code",
      "execution_count": null,
      "outputs": [
        {
          "output_type": "stream",
          "name": "stdout",
          "text": [
            "{'input_ids': tensor([[  101,  2057,  2097,  6487,  1037,  2924,  2279,  2733,   999,   102,\n",
            "             0,     0,     0],\n",
            "        [  101,  1996,  2336, 16791,  6386,  2011,  1996,  2924,  1997,  1996,\n",
            "          2314,  1012,   102],\n",
            "        [  101,  1045,  2404,  2769,  1999,  1996,  2924,  1012,   102,     0,\n",
            "             0,     0,     0]]), 'token_type_ids': tensor([[0, 0, 0, 0, 0, 0, 0, 0, 0, 0, 0, 0, 0],\n",
            "        [0, 0, 0, 0, 0, 0, 0, 0, 0, 0, 0, 0, 0],\n",
            "        [0, 0, 0, 0, 0, 0, 0, 0, 0, 0, 0, 0, 0]]), 'attention_mask': tensor([[1, 1, 1, 1, 1, 1, 1, 1, 1, 1, 0, 0, 0],\n",
            "        [1, 1, 1, 1, 1, 1, 1, 1, 1, 1, 1, 1, 1],\n",
            "        [1, 1, 1, 1, 1, 1, 1, 1, 1, 0, 0, 0, 0]])}\n",
            "['[CLS]', 'we', 'will', 'rob', 'a', 'bank', 'next', 'week', '!', '[SEP]', '[PAD]', '[PAD]', '[PAD]']\n",
            "['[CLS]', 'the', 'children', 'skipped', 'stones', 'by', 'the', 'bank', 'of', 'the', 'river', '.', '[SEP]']\n",
            "['[CLS]', 'i', 'put', 'money', 'in', 'the', 'bank', '.', '[SEP]', '[PAD]', '[PAD]', '[PAD]', '[PAD]']\n",
            "bank\n",
            "bank\n",
            "bank\n"
          ]
        },
        {
          "output_type": "display_data",
          "data": {
            "text/plain": [
              "<Figure size 640x480 with 1 Axes>"
            ],
            "image/png": "[encoded data removed]"
          },
          "metadata": {}
        }
      ],
      "source": [
        "text1 = \"We will rob a bank next week!\"\n",
        "text2 = \"The children skipped stones by the bank of the river.\"\n",
        "text3 = \"I put money in the bank.\"\n",
        "tokenized = tokenizer([text1, text2, text3], padding=True, return_tensors='pt').to(device)\n",
        "print(tokenized)\n",
        "\n",
        "tokens1 = tokenizer.convert_ids_to_tokens(tokenized['input_ids'][0])\n",
        "tokens2 = tokenizer.convert_ids_to_tokens(tokenized['input_ids'][1])\n",
        "tokens3 = tokenizer.convert_ids_to_tokens(tokenized['input_ids'][2])\n",
        "print(tokens1)\n",
        "print(tokens2)\n",
        "print(tokens3)\n",
        "\n",
        "tokens_ids_of_interest = [5, 7, 6]\n",
        "print(tokens1[tokens_ids_of_interest[0]])\n",
        "print(tokens2[tokens_ids_of_interest[1]])\n",
        "print(tokens3[tokens_ids_of_interest[2]])\n",
        "\n",
        "model_outputs = model(**tokenized, output_hidden_states=True)\n",
        "plot_evolving_similarities(model_outputs['hidden_states'], tokens_ids_of_interest)"
      ],
      "metadata": {
        "pycharm": {
          "name": "#%%\n"
        },
        "id": "j7cK7CsU3yDk",
        "colab": {
          "base_uri": "https://localhost:8080/",
          "height": 727
        },
        "outputId": "d83b7f7c-8e2b-4daf-fb22-23b34875c315"
      }
    },
    {
      "cell_type": "markdown",
      "source": [
        "Next, let's plot the evolving similarities of different words: \"nice\", \"bad\", and \"lovely\" in the same context."
      ],
      "metadata": {
        "collapsed": false,
        "pycharm": {
          "name": "#%% md\n"
        },
        "id": "XMsW_iod3yDl"
      }
    },
    {
      "cell_type": "code",
      "execution_count": null,
      "outputs": [
        {
          "output_type": "stream",
          "name": "stdout",
          "text": [
            "{'input_ids': tensor([[ 101, 1996, 4633, 2003, 3835, 2651, 1012,  102],\n",
            "        [ 101, 1996, 4633, 2003, 2919, 2651, 1012,  102],\n",
            "        [ 101, 1996, 4633, 2003, 8403, 2651, 1012,  102]]), 'token_type_ids': tensor([[0, 0, 0, 0, 0, 0, 0, 0],\n",
            "        [0, 0, 0, 0, 0, 0, 0, 0],\n",
            "        [0, 0, 0, 0, 0, 0, 0, 0]]), 'attention_mask': tensor([[1, 1, 1, 1, 1, 1, 1, 1],\n",
            "        [1, 1, 1, 1, 1, 1, 1, 1],\n",
            "        [1, 1, 1, 1, 1, 1, 1, 1]])}\n",
            "['[CLS]', 'the', 'weather', 'is', 'nice', 'today', '.', '[SEP]']\n",
            "['[CLS]', 'the', 'weather', 'is', 'bad', 'today', '.', '[SEP]']\n",
            "['[CLS]', 'the', 'weather', 'is', 'lovely', 'today', '.', '[SEP]']\n",
            "nice\n",
            "bad\n",
            "lovely\n"
          ]
        },
        {
          "output_type": "display_data",
          "data": {
            "text/plain": [
              "<Figure size 640x480 with 1 Axes>"
            ],
            "image/png": "[encoded data removed]"
          },
          "metadata": {}
        }
      ],
      "source": [
        "text1 = \"The weather is nice today.\"\n",
        "text2 = \"The weather is bad today.\"\n",
        "text3 = \"The weather is lovely today.\"\n",
        "\n",
        "tokenized = tokenizer([text1, text2, text3], padding=True, return_tensors='pt').to(device)\n",
        "print(tokenized)\n",
        "\n",
        "tokens1 = tokenizer.convert_ids_to_tokens(tokenized['input_ids'][0])\n",
        "tokens2 = tokenizer.convert_ids_to_tokens(tokenized['input_ids'][1])\n",
        "tokens3 = tokenizer.convert_ids_to_tokens(tokenized['input_ids'][2])\n",
        "print(tokens1)\n",
        "print(tokens2)\n",
        "print(tokens3)\n",
        "\n",
        "tokens_ids_of_interest = [4, 4, 4]\n",
        "print(tokens1[tokens_ids_of_interest[0]])\n",
        "print(tokens2[tokens_ids_of_interest[1]])\n",
        "print(tokens3[tokens_ids_of_interest[2]])\n",
        "\n",
        "model_outputs = model(**tokenized, output_hidden_states=True)\n",
        "plot_evolving_similarities(model_outputs['hidden_states'], tokens_ids_of_interest)"
      ],
      "metadata": {
        "pycharm": {
          "name": "#%%\n"
        },
        "id": "pkdKbyEN3yDl",
        "colab": {
          "base_uri": "https://localhost:8080/",
          "height": 675
        },
        "outputId": "82cbb9fb-497e-404c-ef70-a53df49a6c83"
      }
    },
    {
      "cell_type": "markdown",
      "source": [
        "<a name='e3'></a>\n",
        "### Exercise 3 (10 points)\n",
        "\n",
        "Take a look at the similarity between the word \"bank\" in the first example for the first layer (layer index 0)? This corresponds to the embedding layer of BERT. It is close to `1` but not exactly. Why is that?\n",
        "\n",
        "Try a different set of sentences. Comment on the results of the sentences above and your own. Are the plots showing what you expected to see? Make meaningful comparisons and write your insights below. Feel free to modify the plotting above (if needed), but note that is not necessary."
      ],
      "metadata": {
        "collapsed": false,
        "pycharm": {
          "name": "#%% md\n"
        },
        "id": "pVqeYIjh3yDl"
      }
    },
    {
      "cell_type": "code",
      "execution_count": null,
      "outputs": [
        {
          "output_type": "stream",
          "name": "stdout",
          "text": [
            "{'input_ids': tensor([[  101,  1996,  7151,  5520,  2041,  1997,  1996,  5430,  2043,  1996,\n",
            "          3103,  2253,  2091,  1012,   102],\n",
            "        [  101,  2002,  7671,  1996,  7151,  1998,  2718,  1037,  2188,  2448,\n",
            "          1012,   102,     0,     0,     0],\n",
            "        [  101,  2016,  2109,  1037,  7151,  2000,  3338,  2330,  1996,  9231,\n",
            "          6790,  1012,   102,     0,     0],\n",
            "        [  101, 12236,  2411,  3637,  5689, 14961,  2091,  1012,   102,     0,\n",
            "             0,     0,     0,     0,     0]]), 'token_type_ids': tensor([[0, 0, 0, 0, 0, 0, 0, 0, 0, 0, 0, 0, 0, 0, 0],\n",
            "        [0, 0, 0, 0, 0, 0, 0, 0, 0, 0, 0, 0, 0, 0, 0],\n",
            "        [0, 0, 0, 0, 0, 0, 0, 0, 0, 0, 0, 0, 0, 0, 0],\n",
            "        [0, 0, 0, 0, 0, 0, 0, 0, 0, 0, 0, 0, 0, 0, 0]]), 'attention_mask': tensor([[1, 1, 1, 1, 1, 1, 1, 1, 1, 1, 1, 1, 1, 1, 1],\n",
            "        [1, 1, 1, 1, 1, 1, 1, 1, 1, 1, 1, 1, 0, 0, 0],\n",
            "        [1, 1, 1, 1, 1, 1, 1, 1, 1, 1, 1, 1, 1, 0, 0],\n",
            "        [1, 1, 1, 1, 1, 1, 1, 1, 1, 0, 0, 0, 0, 0, 0]])}\n",
            "['[CLS]', 'the', 'bat', 'flew', 'out', 'of', 'the', 'cave', 'when', 'the', 'sun', 'went', 'down', '.', '[SEP]']\n",
            "['[CLS]', 'he', 'swung', 'the', 'bat', 'and', 'hit', 'a', 'home', 'run', '.', '[SEP]', '[PAD]', '[PAD]', '[PAD]']\n",
            "['[CLS]', 'she', 'used', 'a', 'bat', 'to', 'break', 'open', 'the', 'pin', '##ata', '.', '[SEP]', '[PAD]', '[PAD]']\n",
            "['[CLS]', 'bats', 'often', 'sleep', 'hanging', 'upside', 'down', '.', '[SEP]', '[PAD]', '[PAD]', '[PAD]', '[PAD]', '[PAD]', '[PAD]']\n",
            "bat\n",
            "bat\n",
            "bat\n",
            "bats\n"
          ]
        },
        {
          "output_type": "display_data",
          "data": {
            "text/plain": [
              "<Figure size 640x480 with 1 Axes>"
            ],
            "image/png": "[encoded data removed]"
          },
          "metadata": {}
        }
      ],
      "source": [
        "### YOUR CODE HERE\n",
        "text1 =  \"The bat flew out of the cave when the sun went down.\"\n",
        "text2 =  \"He swung the bat and hit a home run.\"\n",
        "text3 =  \"She used a bat to break open the pinata.\"\n",
        "text4 =  \"Bats often sleep hanging upside down.\"\n",
        "\n",
        "tokenized = tokenizer([text1, text2, text3 , text4], padding=True, return_tensors='pt').to(device)\n",
        "print(tokenized)\n",
        "\n",
        "tokens1 = tokenizer.convert_ids_to_tokens(tokenized['input_ids'][0])\n",
        "tokens2 = tokenizer.convert_ids_to_tokens(tokenized['input_ids'][1])\n",
        "tokens3 = tokenizer.convert_ids_to_tokens(tokenized['input_ids'][2])\n",
        "tokens4 = tokenizer.convert_ids_to_tokens(tokenized['input_ids'][3])\n",
        "\n",
        "print(tokens1)\n",
        "print(tokens2)\n",
        "print(tokens3)\n",
        "print(tokens4)\n",
        "\n",
        "\n",
        "tokens_ids_of_interest = [2, 4, 4, 1]\n",
        "print(tokens1[tokens_ids_of_interest[0]])\n",
        "print(tokens2[tokens_ids_of_interest[1]])\n",
        "print(tokens3[tokens_ids_of_interest[2]])\n",
        "print(tokens4[tokens_ids_of_interest[3]])\n",
        "\n",
        "\n",
        "model_outputs = model(**tokenized, output_hidden_states=True)\n",
        "plot_evolving_similarities(model_outputs['hidden_states'], tokens_ids_of_interest)\n",
        "\n",
        "### YOUR CODE ENDS HERE\n",
        "### NOTICE: you can always add more cells if you need them"
      ],
      "metadata": {
        "pycharm": {
          "name": "#%%\n"
        },
        "id": "f7ce-eZa3yDl",
        "colab": {
          "base_uri": "https://localhost:8080/",
          "height": 831
        },
        "outputId": "00712542-2093-4ecc-b955-c7c6674c4863"
      }
    },
    {
      "cell_type": "markdown",
      "source": [
        "The reason the cosine similarity is not exactly one in the first layer, each word is represented by a dense vector based on its toked ID. These vectors capure some semantic information, but they do not yet include contextual information.\n",
        "\n",
        " Moving on, looking at the cosine simialrities of the embdeddings of the word \"bank\" , in the middle layers the similarity decreases as the layers progress. This is because BERT starts to incorporate contextual infromation, hence the embeddings are no longer context-independent like in the first layer. Words in different contexts begin to seperate into there own representation. In the higher layers (7-12) we observe a slight increase, a spike, in the similarities . The representation here are highly contextualized, and the model is now able to distinguish between the different meanings of the same word based on the context. Now to the more detial insights, as expected, sentence 1 and 3 ,which the word \"bank\" refers to the financial institution, have the highest similarities across the layers with the peak being close to 0.8. The other comparison have nearly identical similarities across the layers, and are moderately low at most 0.6.\n",
        "\n",
        " The difference with the sentences about the weather is in the first layer the similarities are much closer to 0 then 1. This is because the words of interest are different and because there is no contextual information in the first layer, the similarities are very low. The rest is the same , as expected text 1 and 3 which have a good sentiment about the weather have the highest similarities, with a peak at 0.9.\n",
        "\n",
        " Now observing the results of my sentences we can see some differences. All similarities involved with text4 where the word of interest is Bats is close to 0.5. The reason for this is the same as the one with the texts about weather, the initial embeddings are based on the fixed token represenation without context. The other similarities are close to one as exprected.\n",
        "\n",
        " - The similarity between 1 and 2 decreses steadily, showing that BERT distinguishes bat as an animal from a bat as sports equipment.\n",
        "\n",
        " - The similarity between 1 and 3 also decreases,again BERT distinguishes bat as an animal from bat as a club.\n",
        "\n",
        " - The similiraty between 1 and 4 remains relatively higher compared to other pairs. This is because both texts refer to bat as an animal. Futhermore, the decrease shows that BERT is incorporating more context , but the similar meaning keeps the similarity higher.\n",
        "\n",
        " - The similarity between 2 and 3 decreases, indicating that BERT distinguishes between bat as sports equipment from bat as a bat.\n",
        "\n",
        " - The similarity between 2 and 4 decreases sharply, as bat in 4 refers to an animal and text 2 refers to bat as sport equiment.\n",
        "\n",
        " - The similarity between 3 and 4 decreases, showing that bat as a club is different from a bat as an animal."
      ],
      "metadata": {
        "collapsed": false,
        "pycharm": {
          "name": "#%% md\n"
        },
        "id": "ucIdmnTi3yDl"
      }
    },
    {
      "cell_type": "markdown",
      "source": [
        "## 3. Calculating BERT sentence embeddings\n",
        "\n",
        "It is finally time to use BERT's hidden states as word embeddings. First, you will write a function to aggregate the BERT's hidden representations of the words in a sentence."
      ],
      "metadata": {
        "collapsed": false,
        "pycharm": {
          "name": "#%% md\n"
        },
        "id": "pagU_9Be3yDl"
      }
    },
    {
      "cell_type": "markdown",
      "source": [
        "<a name='e4'></a>\n",
        "### Exercise 4 (5 points)\n",
        "\n",
        "\n",
        "Implement the following function. It will receive the batched input to the model and its output. Calculate the mean embedding of the tokens in each sentence. In particular, get `attention_mask` from the `input_batch` and `hidden_states` from `model_output` (already done for you), and calculate the mean of the hidden states. Remember that you are working with a batch, so both `attention_mask` and `hidden_states` contain multiple sentences (the first dimension of both tensors correspond to the size of the batch). In the end, you should have a tensor with a shape batch_size x embedding_size.\n",
        "\n",
        "Pay attention to the padded tokens (indicated by the attention mask from the input).\n",
        "\n",
        "Additionally, the function will receive the `layer` parameter. It will indicate the index of the layer of which the hidden representations of tokens will be aggregated. The default value of `-1` indicates the last layer. The code already selects the hidden states of the specified layer.\n",
        "\n",
        "Optionally, you can ignore the special tokens `[CLS]` and `[SEP]`."
      ],
      "metadata": {
        "collapsed": false,
        "pycharm": {
          "name": "#%% md\n"
        },
        "id": "0wcPXukf3yDl"
      }
    },
    {
      "cell_type": "code",
      "execution_count": null,
      "outputs": [],
      "source": [
        "def calculate_sentence_embeddings(input_batch, model_output, layer=-1):\n",
        "    \"\"\"\n",
        "    Calculates the sentence embeddings of a batch of sentences as a mean of token representations.\n",
        "    The representations are taken from the layer of the index provided as a `layer` parameter.\n",
        "    Args:\n",
        "        input_batch: tokenized batch of sentences (as returned by the tokenizer), contains `input_ids`, `token_type_ids`, and `attention_mask` tensors\n",
        "        model_output: the output of the model given the `input_batch`, contains `last_hidden_state`, `pooler_output`, `hidden_states` tensors\n",
        "        layer: specifies the layer of the hidden states that are used to calculate sentence embedding\n",
        "\n",
        "    Returns: tensor of the averaged hidden states (from the specified layer) for each example in the batch\n",
        "\n",
        "    \"\"\"\n",
        "    attention_mask = input_batch['attention_mask']\n",
        "    hidden_states = model_output['hidden_states'][layer]\n",
        "\n",
        "    ### YOUR CODE HERE\n",
        "\n",
        "    #Expand the attention_mask to match the hidden_states dimensions for valid multiplication and ignore padding tokens (chat GPT helped me with this one)\n",
        "    mask_expanded = attention_mask.unsqueeze(-1).expand(hidden_states.size()).float()\n",
        "\n",
        "    mask_hidden_states = hidden_states * mask_expanded\n",
        "\n",
        "    #Sums the token embeddings for each sentence\n",
        "    sum_embeddings = mask_hidden_states.sum(dim=1)\n",
        "\n",
        "    #Number of non-padded tokens for each sequence\n",
        "    val_token_counts = mask_expanded.sum(dim=1)\n",
        "\n",
        "    #Mean embeddings\n",
        "    sentence_embeddings = sum_embeddings / val_token_counts\n",
        "\n",
        "    ### YOUR CODE ENDS HERE\n",
        "    return sentence_embeddings"
      ],
      "metadata": {
        "pycharm": {
          "name": "#%%\n"
        },
        "id": "NlmplNmg3yDl"
      }
    },
    {
      "cell_type": "markdown",
      "source": [
        "The following function will plot the evolution of cosine similarities between sentence embeddings based on representations of different layers of the model.\n",
        "\n",
        "Notice that it will receive a function that is used to calculate the sentence embeddings (that is the function we implemented above)."
      ],
      "metadata": {
        "collapsed": false,
        "pycharm": {
          "name": "#%% md\n"
        },
        "id": "-CXrzQsP3yDl"
      }
    },
    {
      "cell_type": "code",
      "execution_count": null,
      "outputs": [],
      "source": [
        "def plot_evolving_sentence_similarities(input_batch, model_outputs, sentence_embeddings_fn):\n",
        "    num_layers = len(model_outputs['hidden_states'])\n",
        "    num_sentences = input_batch['input_ids'].size(0) #changed this because otherwise it did not work\n",
        "    sentence_combinations = tuple(combinations(range(num_sentences), 2))\n",
        "    similarities = [[] for _ in range(len(sentence_combinations))]\n",
        "\n",
        "    for layer in range(num_layers):\n",
        "        sentence_embeddings = sentence_embeddings_fn(input_batch, model_outputs, layer)\n",
        "        for i, (sent1, sent2) in enumerate(sentence_combinations):\n",
        "            embedding1 = sentence_embeddings[sent1]\n",
        "            embedding2 = sentence_embeddings[sent2]\n",
        "            cosine_similarity = torch.nn.functional.cosine_similarity(embedding1, embedding2, dim=0)\n",
        "            similarities[i].append(cosine_similarity.detach().cpu().numpy())\n",
        "\n",
        "    for i, (sent1, sent2) in enumerate(sentence_combinations):\n",
        "        plt.plot(range(num_layers), similarities[i], label=f'between {sent1 + 1} and {sent2 + 1}')\n",
        "\n",
        "    plt.xlabel('layer')\n",
        "    plt.ylabel('cosine similarity')\n",
        "    plt.legend()\n",
        "    plt.show()\n"
      ],
      "metadata": {
        "pycharm": {
          "name": "#%%\n"
        },
        "id": "30D-6Nwe3yDm"
      }
    },
    {
      "cell_type": "markdown",
      "source": [
        "Let's examine the cosine similarities of the sentences with the word \"bank\" from earlier."
      ],
      "metadata": {
        "collapsed": false,
        "pycharm": {
          "name": "#%% md\n"
        },
        "id": "OSmJksev3yDm"
      }
    },
    {
      "cell_type": "code",
      "execution_count": null,
      "outputs": [
        {
          "output_type": "display_data",
          "data": {
            "text/plain": [
              "<Figure size 640x480 with 1 Axes>"
            ],
            "image/png": "[encoded data removed]"
          },
          "metadata": {}
        }
      ],
      "source": [
        "text1 = \"We will rob a bank next week!\"\n",
        "text2 = \"Let's put our savings into a bank account.\"\n",
        "text3 = \"We will steal some money from the bank.\"\n",
        "\n",
        "tokenized = tokenizer([text1, text2, text3], padding=True, return_tensors='pt').to(device)\n",
        "\n",
        "model_outputs = model(**tokenized, output_hidden_states=True)\n",
        "plot_evolving_sentence_similarities(tokenized, model_outputs, calculate_sentence_embeddings)"
      ],
      "metadata": {
        "pycharm": {
          "name": "#%%\n"
        },
        "id": "UmFdthvq3yDm",
        "colab": {
          "base_uri": "https://localhost:8080/",
          "height": 449
        },
        "outputId": "91c0fec0-f6f5-456e-eabc-97bfeb414981"
      }
    },
    {
      "cell_type": "markdown",
      "source": [
        "<a name='e5'></a>\n",
        "### Exercise 5 (5 points)\n",
        "\n",
        "Try out your sentence embeddings on different sentences. Inspect the results in terms of the different layers. Comment on the results. Are they expected?"
      ],
      "metadata": {
        "collapsed": false,
        "pycharm": {
          "name": "#%% md\n"
        },
        "id": "38n3Q-uy3yDm"
      }
    },
    {
      "cell_type": "code",
      "execution_count": null,
      "outputs": [
        {
          "output_type": "display_data",
          "data": {
            "text/plain": [
              "<Figure size 640x480 with 1 Axes>"
            ],
            "image/png": "[encoded data removed]"
          },
          "metadata": {}
        }
      ],
      "source": [
        "### YOUR CODE HERE\n",
        "\n",
        "text1 =  \"The bat flew out of the cave when the sun went down.\"\n",
        "text2 =  \"He swung the bat and hit a home run.\"\n",
        "text3 =  \"She used a bat to break open the pinata.\"\n",
        "text4 =  \"Bats often sleep hanging upside down.\"\n",
        "\n",
        "tokenized = tokenizer([text1, text2, text3,text4], padding=True, return_tensors='pt').to(device)\n",
        "\n",
        "model_outputs = model(**tokenized, output_hidden_states=True)\n",
        "plot_evolving_sentence_similarities(tokenized, model_outputs, calculate_sentence_embeddings)\n",
        "\n",
        "### YOUR CODE ENDS HERE"
      ],
      "metadata": {
        "pycharm": {
          "name": "#%%\n"
        },
        "id": "3JC6xH8M3yDm",
        "colab": {
          "base_uri": "https://localhost:8080/",
          "height": 449
        },
        "outputId": "45a5c631-983c-4262-ece2-ce653314e81f"
      }
    },
    {
      "cell_type": "markdown",
      "source": [
        "- The similarity between 1 and 4 increases to its peak in layers 4-8, reaching 0.75, indicating that both sentences talk about bat as an animal. The drop in similarity in the higher layers is possibly due to the detailed distinctions.\n",
        "\n",
        "- The similairy between 1-2 and 1-3, decreases because it reflects that BERT interprets the different meanings of the word bat.\n",
        "\n",
        "- The similairty between 2 and 3 increases and reaches its peak at the middle layers (4-8) with a similarity score of 0.9+ due to similar sentence structures and context (tool and equipment)\n",
        "\n",
        "- The similairty between 2 and 4 increases slightly, but is still relatively low with the highest similarity score being >0.65.\n",
        "\n",
        "All the above results are expected but the results between 3 and 4 which reaches 0.75 and has a similar trend as the similarity of 1 and 4 which is a weird due to the fact that in 3 the word bat refers to the club and in 4 as the animal. It is important to add that as the layers progress the similarity between 3 and 4 have a sharper decrease than 1 and 4, which indicates that the model captures the different contextual meanings.\n",
        "\n",
        "Generally, all sentence combinations show a peak similarity around layers 4-8, suggesting these layers capture a balance between syntax and semantic information. The similarity then drops in the higher layers (9-12) indicating that in these layers the model is capturing more specific semantic distinctions."
      ],
      "metadata": {
        "collapsed": false,
        "pycharm": {
          "name": "#%% md\n"
        },
        "id": "KxXbILT23yDm"
      }
    },
    {
      "cell_type": "markdown",
      "source": [
        "### 3.1 Applying BERT sentence embeddings\n",
        "\n",
        "Next, we will be calculating the word embeddings on our dataset. This is the moment where having GPU will greatly speed up the computations.\n",
        "\n",
        "As mentioned before, we can use Google Colab [https://colab.google/](https://colab.google/) for this purpose. It gives you access to a GPU for a limited time (after you used this time you will have to wait for some time to use it again). To use a GPU you need to select the runtime type. Go to \"Runtime -> Change runtime type\". There you can select a CPU or a GPU.\n",
        "\n",
        "<img src=\"data:image/png;base64,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\" alt=\"Alt text that describes the graphic\" width=\"400px\"/>"
      ],
      "metadata": {
        "collapsed": false,
        "pycharm": {
          "name": "#%% md\n"
        },
        "id": "RdmbugS33yDm"
      }
    },
    {
      "cell_type": "markdown",
      "source": [
        "It might be a good idea to first work on a CPU with a slice of the dataset until your code works without problems. Then you can switch to a GPU runtime and work on the whole dataset. Notice that you will have to run all the cells again as the change of the runtime will effectively start a fresh session.\n",
        "\n",
        "If you have a GPU locally, you don't need to do that, and you can work on the whole dataset from the get go.\n",
        "\n",
        "To select a portion of the dataset uncomment the following cell. Make sure to comment it again when you are ready to run the notebook on the notebook on the GPU."
      ],
      "metadata": {
        "collapsed": false,
        "pycharm": {
          "name": "#%% md\n"
        },
        "id": "PeRJlG3S3yDm"
      }
    },
    {
      "cell_type": "code",
      "execution_count": null,
      "outputs": [],
      "source": [
        "test_ds = test_ds.select(range(5000))"
      ],
      "metadata": {
        "pycharm": {
          "name": "#%%\n"
        },
        "id": "p_C606o93yDm"
      }
    },
    {
      "cell_type": "markdown",
      "source": [
        "<a name='e6'></a>\n",
        "### Exercise 6 (3 points)\n",
        "\n",
        "We will first tokenize the dataset. Write two functions that will tokenize the two columns - `sentence` and `compressed` - separately. Do not use padding when tokenizing, as we will later use [DataCollator](https://huggingface.co/docs/transformers/en/main_classes/data_collator) to \"pack and pad\" the examples to form batches.\n",
        "\n",
        "If you have any doubts please check the following [tutorial](https://huggingface.co/docs/datasets/use_dataset) on Huggingface."
      ],
      "metadata": {
        "collapsed": false,
        "pycharm": {
          "name": "#%% md\n"
        },
        "id": "8ATeXVnp3yDm"
      }
    },
    {
      "cell_type": "code",
      "execution_count": null,
      "outputs": [],
      "source": [
        "def tokenize_sentence(examples):\n",
        "    \"\"\"\n",
        "    Tokenizes the `sentence` column from the batch of examples and returns the whole output of the tokenizer.\n",
        "    Args:\n",
        "        examples: a batch of examples\n",
        "\n",
        "    Returns: the tokenized `sentence` column (returns the whole output of the tokenizer)\n",
        "\n",
        "    \"\"\"\n",
        "    ### YOUR CODE HERE\n",
        "\n",
        "\n",
        "    tokenized_sentence = tokenizer(examples['sentence'], truncation = True )\n",
        "\n",
        "\n",
        "    ### YOUR CODE ENDS HERE\n",
        "\n",
        "    return tokenized_sentence\n",
        "\n",
        "\n",
        "def tokenize_compressed(examples):\n",
        "    \"\"\"\n",
        "    Tokenizes the `compressed` column from the batch of examples and returns the whole output of the tokenizer.\n",
        "    Args:\n",
        "        examples: a batch of examples\n",
        "\n",
        "    Returns: the tokenized `compressed` column (returns the whole output of the tokenizer)\n",
        "\n",
        "    \"\"\"\n",
        "\n",
        "    ### YOUR CODE HERE\n",
        "\n",
        "\n",
        "    tokenized_compressed = tokenizer(examples['compressed'], truncation = True)\n",
        "\n",
        "\n",
        "    ### YOUR CODE ENDS HERE\n",
        "\n",
        "    return tokenized_compressed"
      ],
      "metadata": {
        "pycharm": {
          "name": "#%%\n"
        },
        "id": "cTfuahXg3yDm"
      }
    },
    {
      "cell_type": "markdown",
      "source": [
        "In the next cell, we will apply the functions that you implemented on the dataset (using `map()` method). We will do it twice to obtain two separate datasets for full and compressed sentence each. Notice that we drop the original columns when we form the new datasets."
      ],
      "metadata": {
        "collapsed": false,
        "pycharm": {
          "name": "#%% md\n"
        },
        "id": "UXftj2bd3yDm"
      }
    },
    {
      "cell_type": "code",
      "execution_count": null,
      "outputs": [
        {
          "output_type": "display_data",
          "data": {
            "text/plain": [
              "Map:   0%|          | 0/5000 [00:00<?, ? examples/s]"
            ],
            "application/vnd.jupyter.widget-view+json": {
              "version_major": 2,
              "version_minor": 0,
              "model_id": "c837bc8702eb460bab1ce7e3fc7c0872"
            }
          },
          "metadata": {}
        },
        {
          "output_type": "stream",
          "name": "stdout",
          "text": [
            "Dataset({\n",
            "    features: ['input_ids', 'token_type_ids', 'attention_mask'],\n",
            "    num_rows: 5000\n",
            "})\n"
          ]
        },
        {
          "output_type": "display_data",
          "data": {
            "text/plain": [
              "Map:   0%|          | 0/5000 [00:00<?, ? examples/s]"
            ],
            "application/vnd.jupyter.widget-view+json": {
              "version_major": 2,
              "version_minor": 0,
              "model_id": "47012527338b4091992c2ea04c7dae9d"
            }
          },
          "metadata": {}
        },
        {
          "output_type": "stream",
          "name": "stdout",
          "text": [
            "Dataset({\n",
            "    features: ['input_ids', 'token_type_ids', 'attention_mask'],\n",
            "    num_rows: 5000\n",
            "})\n"
          ]
        }
      ],
      "source": [
        "tokenized_sentence_ds = test_ds.map(tokenize_sentence, batched=True, remove_columns=['sentence', 'compressed'])\n",
        "print(tokenized_sentence_ds)\n",
        "\n",
        "tokenized_compressed_ds = test_ds.map(tokenize_compressed, batched=True, remove_columns=['sentence', 'compressed'])\n",
        "print(tokenized_sentence_ds)"
      ],
      "metadata": {
        "pycharm": {
          "name": "#%%\n"
        },
        "id": "lyj7Qrs43yDn",
        "colab": {
          "base_uri": "https://localhost:8080/",
          "height": 220,
          "referenced_widgets": [
            "c837bc8702eb460bab1ce7e3fc7c0872",
            "2360d4e7bfaa44a4b3a4bed2376e4421",
            "44a5ace3081d410a8d2cd1a28f2ae609",
            "3e022ffdebc84764bc5e4248890c7f4f",
            "aca580a4597643df85931ad8f7e5e097",
            "b6a83504eec640a494d6da5727f5926b",
            "ab94e55ed56346b7980a83e004b9cf7a",
            "a73b5de2b6914a559b851a6bac4fab5e",
            "2f0c702794be4738aadeecade8c7320e",
            "f0a2dfe67fbf4dc7b16d4c74a0db134f",
            "ea0322f90e1545a2bb63b79a4c401f62",
            "47012527338b4091992c2ea04c7dae9d",
            "8f8d19280d734675ad552f1774cad4a3",
            "fb2bd84a6b074ea3bdceb36058444940",
            "b747f965598e4388bce98f3053e395f0",
            "c5dfa8b209e8422eb5c066738853f2a7",
            "f8f8bff51c3f4c7a87a56093ca6f14f3",
            "403abe025e6c40feb88d9f0a6986dcc8",
            "8438565ce8234ff995c396a32a4066d3",
            "819a003c24cc49c58422681f298a481f",
            "497126e46a7c4989b6dc120c8ad4bc9e",
            "4650ca498c7a4a14a0d8bfd26764a6e2"
          ]
        },
        "outputId": "b040dd3a-b6a8-4c70-90ca-820c2f7e4c9c"
      }
    },
    {
      "cell_type": "markdown",
      "source": [
        "Let's examine the first few examples from both datasets. Make sure that they make sense to you."
      ],
      "metadata": {
        "collapsed": false,
        "pycharm": {
          "name": "#%% md\n"
        },
        "id": "1EiWGZ2N3yDn"
      }
    },
    {
      "cell_type": "code",
      "execution_count": null,
      "outputs": [
        {
          "output_type": "stream",
          "name": "stdout",
          "text": [
            "{'input_ids': [[101, 7513, 24494, 2015, 4354, 4007, 3976, 1010, 2414, 3665, 4152, 2439, 3200, 2291, 1010, 5371, 1011, 3745, 2869, 2024, 2502, 5247, 2545, 2205, 1010, 1998, 23307, 5338, 1999, 18856, 13369, 5679, 1012, 102], [101, 1037, 4724, 1011, 2095, 1011, 2214, 26276, 6432, 2038, 2042, 5338, 2007, 26563, 2098, 15198, 4028, 2005, 9382, 6012, 2010, 2117, 2564, 2000, 2331, 2058, 1036, 1036, 2155, 5966, 1010, 1005, 1005, 1037, 8268, 2880, 2056, 2006, 9857, 1012, 102], [101, 2047, 4751, 2024, 8361, 2055, 1037, 5116, 17025, 3347, 2954, 2008, 5565, 2093, 17523, 2869, 1999, 7173, 1998, 2178, 2158, 1999, 1996, 2902, 1012, 102]], 'token_type_ids': [[0, 0, 0, 0, 0, 0, 0, 0, 0, 0, 0, 0, 0, 0, 0, 0, 0, 0, 0, 0, 0, 0, 0, 0, 0, 0, 0, 0, 0, 0, 0, 0, 0, 0], [0, 0, 0, 0, 0, 0, 0, 0, 0, 0, 0, 0, 0, 0, 0, 0, 0, 0, 0, 0, 0, 0, 0, 0, 0, 0, 0, 0, 0, 0, 0, 0, 0, 0, 0, 0, 0, 0, 0, 0, 0], [0, 0, 0, 0, 0, 0, 0, 0, 0, 0, 0, 0, 0, 0, 0, 0, 0, 0, 0, 0, 0, 0, 0, 0, 0, 0]], 'attention_mask': [[1, 1, 1, 1, 1, 1, 1, 1, 1, 1, 1, 1, 1, 1, 1, 1, 1, 1, 1, 1, 1, 1, 1, 1, 1, 1, 1, 1, 1, 1, 1, 1, 1, 1], [1, 1, 1, 1, 1, 1, 1, 1, 1, 1, 1, 1, 1, 1, 1, 1, 1, 1, 1, 1, 1, 1, 1, 1, 1, 1, 1, 1, 1, 1, 1, 1, 1, 1, 1, 1, 1, 1, 1, 1, 1], [1, 1, 1, 1, 1, 1, 1, 1, 1, 1, 1, 1, 1, 1, 1, 1, 1, 1, 1, 1, 1, 1, 1, 1, 1, 1]]}\n",
            "{'input_ids': [[101, 7513, 24494, 2015, 4354, 4007, 3976, 102], [101, 5207, 6432, 5338, 2007, 6012, 2564, 2000, 2331, 102], [101, 4751, 12636, 2055, 5116, 17025, 3347, 2954, 102]], 'token_type_ids': [[0, 0, 0, 0, 0, 0, 0, 0], [0, 0, 0, 0, 0, 0, 0, 0, 0, 0], [0, 0, 0, 0, 0, 0, 0, 0, 0]], 'attention_mask': [[1, 1, 1, 1, 1, 1, 1, 1], [1, 1, 1, 1, 1, 1, 1, 1, 1, 1], [1, 1, 1, 1, 1, 1, 1, 1, 1]]}\n"
          ]
        }
      ],
      "source": [
        "print(tokenized_sentence_ds[0:3])\n",
        "print(tokenized_compressed_ds[0:3])"
      ],
      "metadata": {
        "pycharm": {
          "name": "#%%\n"
        },
        "id": "pGlbObDb3yDn",
        "colab": {
          "base_uri": "https://localhost:8080/"
        },
        "outputId": "fd6e388d-0bd8-40b2-a0dc-198903346793"
      }
    },
    {
      "cell_type": "markdown",
      "source": [
        "In the following cell you can find the function that will apply the provided sentence embedding function to the dataset. It uses the DataCollator we metioned earlier (you are welcome to check the documentation: [https://huggingface.co/docs/transformers/en/main_classes/data_collator](https://huggingface.co/docs/transformers/en/main_classes/data_collator))."
      ],
      "metadata": {
        "collapsed": false,
        "pycharm": {
          "name": "#%% md\n"
        },
        "id": "o0wLB4f13yDn"
      }
    },
    {
      "cell_type": "code",
      "execution_count": null,
      "outputs": [],
      "source": [
        "from torch.utils.data.dataloader import DataLoader\n",
        "\n",
        "def embed_dataset(dataset, model, sentence_embedding_fn, batch_size=8):\n",
        "    data_collator = transformers.DataCollatorWithPadding(tokenizer)\n",
        "    data_loader = DataLoader(dataset, batch_size=batch_size, collate_fn=data_collator)\n",
        "    sentence_embeddings = []\n",
        "    with torch.no_grad():\n",
        "        for batch in tqdm.tqdm(data_loader):\n",
        "            batch.to(device)\n",
        "            model_output = model(**batch, output_hidden_states=True)\n",
        "            batch_sentence_embeddings = sentence_embedding_fn(batch, model_output)\n",
        "            sentence_embeddings.append(batch_sentence_embeddings.detach().cpu())\n",
        "\n",
        "    sentence_embeddings = torch.concat(sentence_embeddings, dim=0)\n",
        "    return sentence_embeddings"
      ],
      "metadata": {
        "pycharm": {
          "name": "#%%\n"
        },
        "id": "JRwRGEvy3yDn"
      }
    },
    {
      "cell_type": "markdown",
      "source": [
        "We will embed the dataset containing sentences by using the function from the previous cell. We will pass your `calculate_sentence_embeddings` function. By default, this function uses the hidden representations of the last layer.\n",
        "\n",
        "If you are not using a GPU this can take some time depending on your system and your implementation.\n",
        "\n",
        "To use different layer you can pass different value for the `layer` parameter using python's `functools.partial` function ([https://docs.python.org/3/library/functools.html#functools.partial](https://docs.python.org/3/library/functools.html#functools.partial))."
      ],
      "metadata": {
        "collapsed": false,
        "pycharm": {
          "name": "#%% md\n"
        },
        "id": "lPDzefUk3yDn"
      }
    },
    {
      "cell_type": "code",
      "execution_count": null,
      "outputs": [
        {
          "output_type": "stream",
          "name": "stderr",
          "text": [
            "  0%|          | 0/625 [00:00<?, ?it/s]You're using a BertTokenizerFast tokenizer. Please note that with a fast tokenizer, using the `__call__` method is faster than using a method to encode the text followed by a call to the `pad` method to get a padded encoding.\n",
            "100%|██████████| 625/625 [14:11<00:00,  1.36s/it]"
          ]
        },
        {
          "output_type": "stream",
          "name": "stdout",
          "text": [
            "torch.Size([5000, 768])\n"
          ]
        },
        {
          "output_type": "stream",
          "name": "stderr",
          "text": [
            "\n"
          ]
        }
      ],
      "source": [
        "sentence_embeddings = embed_dataset(tokenized_sentence_ds, model, calculate_sentence_embeddings)\n",
        "print(sentence_embeddings.shape)"
      ],
      "metadata": {
        "pycharm": {
          "name": "#%%\n"
        },
        "id": "bGrZCqz73yDn",
        "colab": {
          "base_uri": "https://localhost:8080/"
        },
        "outputId": "1b601159-508f-428a-f41b-bd3142fe7946"
      }
    },
    {
      "cell_type": "markdown",
      "source": [
        "The following cell will embed the compressed sentences. Make sure to pass the same function for calculating the sentence embeddings."
      ],
      "metadata": {
        "collapsed": false,
        "pycharm": {
          "name": "#%% md\n"
        },
        "id": "hiUM4edR3yDn"
      }
    },
    {
      "cell_type": "code",
      "execution_count": null,
      "outputs": [
        {
          "output_type": "stream",
          "name": "stderr",
          "text": [
            "100%|██████████| 625/625 [05:38<00:00,  1.85it/s]"
          ]
        },
        {
          "output_type": "stream",
          "name": "stdout",
          "text": [
            "torch.Size([5000, 768])\n"
          ]
        },
        {
          "output_type": "stream",
          "name": "stderr",
          "text": [
            "\n"
          ]
        }
      ],
      "source": [
        "compressed_embeddings = embed_dataset(tokenized_compressed_ds, model, calculate_sentence_embeddings)\n",
        "print(compressed_embeddings.shape)"
      ],
      "metadata": {
        "pycharm": {
          "name": "#%%\n"
        },
        "id": "c8JzteCA3yDn",
        "colab": {
          "base_uri": "https://localhost:8080/"
        },
        "outputId": "8fa09a8a-dbec-44a3-9d15-9b71fa26578c"
      }
    },
    {
      "cell_type": "markdown",
      "source": [
        "## 4. Retrieving Sentences\n",
        "\n",
        "Guess what? We are going to try the same task/dataset as the previous lab and hopefully get better performance.\n",
        "\n",
        "As a reminder, we will be using vector representations (based on the BERT embeddings) to retrieve only the relevant ones based on some user query. It is similar to the a search retrieval task (based on what we discussed in the relevant lecture) where a user provides a query (that is the compressed sentence) and the system returns the sentences that are more similar to the query.\n",
        "\n",
        "In the information retrieval lecture, we discussed how to solve this retrieval problem by using bag-of-words as a representation basis. In Lab 2, we solved the problem using static word embeddings (learned from our corpus) and by averaring their equivalent vectors per sentence. Now, we are going to use the BERT model (we loaded above) to get contextualized sentence embeddings! Are you as excited as we are?"
      ],
      "metadata": {
        "collapsed": false,
        "pycharm": {
          "name": "#%% md\n"
        },
        "id": "GQcY1aP13yDo"
      }
    },
    {
      "cell_type": "markdown",
      "source": [
        "<a name='e7'></a>\n",
        "### Exercise 7 (3 points)\n",
        "\n",
        "First step to a retrieval task is to embed the query (aka find a proper vector representation). We will do it the same way as we did it in the previous exercises. Complete the following function to return the embedding of the provided text."
      ],
      "metadata": {
        "collapsed": false,
        "pycharm": {
          "name": "#%% md\n"
        },
        "id": "E52JWwRu3yDo"
      }
    },
    {
      "cell_type": "code",
      "execution_count": null,
      "outputs": [],
      "source": [
        "def embed_query(query, sentence_embedding_fn):\n",
        "    \"\"\"\n",
        "    Embeds the provided query using the model and the `sentence_embedding_fn` function\n",
        "    Args:\n",
        "        query: a str with the query\n",
        "        sentence_embedding_fn: the function used to embed the sentence based on the input and output of the model\n",
        "\n",
        "    Returns: a PyTorch tensor with the embedded query\n",
        "\n",
        "    \"\"\"\n",
        "\n",
        "    #### YOUR CODE HERE\n",
        "\n",
        "    #Tokenize the query (chat GPT helped me with .to(device))\n",
        "    tokenized_query = tokenizer(query, return_tensors='pt', truncation=True).to(device)\n",
        "\n",
        "    #Chat helped with this completely, had no idea how to do it. It passes the query through the model in order to obtain the output\n",
        "    with torch.no_grad():\n",
        "        model_output = model(**tokenized_query, output_hidden_states=True)\n",
        "\n",
        "    ### YOUR CODE ENDS HERE\n",
        "\n",
        "    query_embedding = sentence_embedding_fn(tokenized_query, model_output)\n",
        "\n",
        "    return query_embedding.detach().cpu()\n"
      ],
      "metadata": {
        "pycharm": {
          "name": "#%%\n"
        },
        "id": "qbibmI503yDo"
      }
    },
    {
      "cell_type": "markdown",
      "source": [
        "Next we will embed the query (which is the same as in the previous lab). What is the dimensionality of the embedding?"
      ],
      "metadata": {
        "collapsed": false,
        "pycharm": {
          "name": "#%% md\n"
        },
        "id": "ABQMZ72J3yDo"
      }
    },
    {
      "cell_type": "code",
      "execution_count": null,
      "outputs": [
        {
          "output_type": "stream",
          "name": "stdout",
          "text": [
            "volcano erupted\n",
            "torch.Size([1, 768])\n"
          ]
        }
      ],
      "source": [
        "query = \"volcano erupted\"\n",
        "print(query)\n",
        "\n",
        "query_embedding = embed_query(query, calculate_sentence_embeddings)\n",
        "print(query_embedding.shape)\n",
        "#print(query_embedding)"
      ],
      "metadata": {
        "pycharm": {
          "name": "#%%\n"
        },
        "id": "-AlI-UUC3yDo",
        "colab": {
          "base_uri": "https://localhost:8080/"
        },
        "outputId": "1e73e3bf-0140-4704-c689-b29a1d619720"
      }
    },
    {
      "cell_type": "markdown",
      "source": [
        "<a name='e8'></a>\n",
        "### Exercise 8 (3 points)\n",
        "\n",
        "The next step in our retrieval system, would be to calculate the proximity of a query to our retrieval corpus (in our case that is all the sentences).\n",
        "\n",
        "Complete the following function to calculate the cosine similarity between a vector (first parameter `vector`, that will usually be the query vector) and all other vectors (second parameter `other_vectors`, that will be the sentence embeddings in our case).\n",
        "\n",
        "The corresponding function from the previous lab would actually work without changes, as PyTorch's tensors are automatically cast into numpy arrays. That said, convert the function into PyTorch to see how the two libraries are similar to each other.\n",
        "\n",
        "Note that the `other_vectors` parameter is a single PyTorch tensor of size `N x D`, where $N$ is the number of vectors and $D$ is the dimension of each vector."
      ],
      "metadata": {
        "collapsed": false,
        "pycharm": {
          "name": "#%% md\n"
        },
        "id": "UKWADqcF3yDo"
      }
    },
    {
      "cell_type": "code",
      "execution_count": null,
      "outputs": [],
      "source": [
        "def cosine_similarity_1_to_n(vector, other_vectors):\n",
        "    \"\"\"\n",
        "    Calculates the cosine similarity between a single vector and other vectors.\n",
        "    Args:\n",
        "        vector: a tensor representing a vector of D dimensions\n",
        "        other_vectors: a 2D tensor representing other vectors (of the size NxD, where N is the number of vectors and D is their dimension)\n",
        "\n",
        "    Returns: a 1D numpy array of size N containing the cosine similarity between the vector and all the other vectors\n",
        "\n",
        "    \"\"\"\n",
        "    #### YOUR CODE HERE\n",
        "\n",
        "    #code from previous lab but using torch\n",
        "\n",
        "    #We have to normalize the input vector to have a unit form, because cosine similarity is scale-invariant (ChatGPT helped me with this for intrerpretation purposes)\n",
        "    vector_norm = torch.norm(vector)\n",
        "    if vector_norm == 0:\n",
        "        print('Zero vector')\n",
        "    vector_unit = vector / vector_norm\n",
        "\n",
        "    #Do the same for the other_vectors , axis=1 is columns\n",
        "    other_vectors_norm = torch.norm(other_vectors, dim = 1 , keepdim = True)\n",
        "    other_vectors_unit = other_vectors / other_vectors_norm\n",
        "\n",
        "    cosine_similarities = torch.matmul(other_vectors_unit,vector_unit)\n",
        "\n",
        "    return cosine_similarities.cpu().numpy()\n",
        "\n",
        "    ### YOUR CODE ENDS HERE"
      ],
      "metadata": {
        "pycharm": {
          "name": "#%%\n"
        },
        "id": "9GAI3Il03yDo"
      }
    },
    {
      "cell_type": "markdown",
      "source": [
        "We will use the function to calculate the similarity of all sentences in the dataset to our query."
      ],
      "metadata": {
        "collapsed": false,
        "pycharm": {
          "name": "#%% md\n"
        },
        "id": "dfdLN9g93yDo"
      }
    },
    {
      "cell_type": "code",
      "execution_count": null,
      "outputs": [
        {
          "output_type": "stream",
          "name": "stdout",
          "text": [
            "(5000,)\n",
            "[0.47749817 0.4168833  0.501148   0.3710695  0.48699096 0.4608022\n",
            " 0.3499907  0.39426565 0.41947043 0.43060678]\n"
          ]
        }
      ],
      "source": [
        "query_similarity = cosine_similarity_1_to_n(query_embedding[0], sentence_embeddings)\n",
        "print(query_similarity.shape)\n",
        "print(query_similarity[:10])"
      ],
      "metadata": {
        "pycharm": {
          "name": "#%%\n"
        },
        "id": "FAc_EdPB3yDo",
        "colab": {
          "base_uri": "https://localhost:8080/"
        },
        "outputId": "39249a65-c191-4fdf-f0e1-d6048363b968"
      }
    },
    {
      "cell_type": "markdown",
      "source": [
        "The following cell will select the most similar sentence."
      ],
      "metadata": {
        "collapsed": false,
        "pycharm": {
          "name": "#%% md\n"
        },
        "id": "-E3ZMPXU3yDo"
      }
    },
    {
      "cell_type": "code",
      "execution_count": null,
      "outputs": [
        {
          "output_type": "stream",
          "name": "stdout",
          "text": [
            "658\n",
            "0.5812642\n",
            "A volcano in southern Japan erupted Tuesday, sending cinders more than a mile from the crater, The Straits Times reports.\n"
          ]
        }
      ],
      "source": [
        "most_similar = int(np.argmax(query_similarity))\n",
        "print(most_similar)\n",
        "print(query_similarity[most_similar])\n",
        "print(test_ds[most_similar]['sentence'])"
      ],
      "metadata": {
        "pycharm": {
          "name": "#%%\n"
        },
        "id": "wUt2eO5R3yDo",
        "colab": {
          "base_uri": "https://localhost:8080/"
        },
        "outputId": "108d5330-fa74-45ad-8741-0feaeb9b412b"
      }
    },
    {
      "cell_type": "markdown",
      "source": [
        "The following function will return the indices of the top-k elements in the array."
      ],
      "metadata": {
        "collapsed": false,
        "pycharm": {
          "name": "#%% md\n"
        },
        "id": "ousONnwp3yDp"
      }
    },
    {
      "cell_type": "code",
      "execution_count": null,
      "outputs": [],
      "source": [
        "def top_k_indices(array, k, sorted=True):\n",
        "    \"\"\"\n",
        "    Returns top-k indices from the 1D array. If `sorted` is `True` the returned indices are sorted in the descending order\n",
        "    Args:\n",
        "        array: a 1D numpy array\n",
        "        k: a number of top indices to return\n",
        "        sorted: if True, the returned indices are sorted in descending order\n",
        "\n",
        "    Returns: a 1D array containing top-k indices\n",
        "\n",
        "    \"\"\"\n",
        "    top_k = np.argpartition(array, -k)[-k:]\n",
        "    if sorted:\n",
        "        selected = array[top_k]\n",
        "        sorted_selected = (-selected).argsort()\n",
        "        top_k = top_k[sorted_selected]\n",
        "    return top_k"
      ],
      "metadata": {
        "pycharm": {
          "name": "#%%\n"
        },
        "id": "9UiYaNUj3yDp"
      }
    },
    {
      "cell_type": "code",
      "execution_count": null,
      "outputs": [
        {
          "output_type": "stream",
          "name": "stdout",
          "text": [
            "A volcano in southern Japan erupted Tuesday, sending cinders more than a mile from the crater, The Straits Times reports.\n",
            "similarity: 0.5812641978263855\n",
            "Bridge closure concerns Grimsby merchants.\n",
            "similarity: 0.5801449418067932\n",
            "Toll plaza attendant was threatened by four men in Ropar.\n",
            "similarity: 0.5761352777481079\n",
            "A British oil worker has died in Azerbaijan.\n",
            "similarity: 0.5626015663146973\n",
            "Two children drowned in the Saryu canal on Thursday.\n",
            "similarity: 0.5569742918014526\n",
            "FIRE destroyed property of unknown value at a furniture workshop in Siakago town on Sunday evening.\n",
            "similarity: 0.5483207702636719\n",
            "A three-alarm fire destroyed a house in Montgomery County this afternoon.\n",
            "similarity: 0.5450170040130615\n",
            "Barbara makes landfall in SE Mexico; significant rainfall and life-threatening mud-slides and flash-flooding possible.\n",
            "similarity: 0.5425763130187988\n",
            "Two Chicago firefighters die and 17 people are injured on Wednesday.\n",
            "similarity: 0.5423405170440674\n",
            "A sixth severed foot has washed up on the west coast.\n",
            "similarity: 0.5409276485443115\n"
          ]
        }
      ],
      "source": [
        "top_indices = top_k_indices(query_similarity, k=10).tolist()\n",
        "for idx in top_indices:\n",
        "    print(split_ds['test'][idx]['sentence'])\n",
        "    print(f'similarity: {query_similarity[idx]}')"
      ],
      "metadata": {
        "pycharm": {
          "name": "#%%\n"
        },
        "id": "_68wOOnV3yDp",
        "colab": {
          "base_uri": "https://localhost:8080/"
        },
        "outputId": "768173f3-9d37-44e7-cf2d-b4a0d92195e2"
      }
    },
    {
      "cell_type": "markdown",
      "source": [
        "<a name='e9'></a>\n",
        "### Exercise 9 (5 points)\n",
        "\n",
        "Experiment with different queries (taking into account the nature of the dataset and your insights from the analysis so far).\n",
        "\n",
        "Does the search perform well? When does it fail? Discuss several examples that are we get an expected but also unexpected results (find at least 5 from each category). Try to provide reasons for the good/bad result in each case. Optionally, if you completed the previous lab, try the examples from that case. What do you observe?"
      ],
      "metadata": {
        "collapsed": false,
        "pycharm": {
          "name": "#%% md\n"
        },
        "id": "3jLh7saZ3yDp"
      }
    },
    {
      "cell_type": "code",
      "execution_count": null,
      "outputs": [
        {
          "output_type": "stream",
          "name": "stdout",
          "text": [
            "Surgical quality program participation can cut complication and mortality rates.\n",
            "similarity: 0.6251987814903259\n",
            "Social media have really changed different areas of human life, including the career environment.\n",
            "similarity: 0.5769158005714417\n",
            "Promiscuity may alter DNA and boost immunity in mice, according to new research.\n",
            "similarity: 0.5752803683280945\n",
            "Langes+ - Applying international financial reforms locally In Reform of global banking regulation:\n",
            "similarity: 0.5637484788894653\n",
            "Bayer MaterialScience is meeting the challenges of increasing urbanization with cross-industry concepts for sustainable urban development.\n",
            "similarity: 0.5605437755584717\n",
            "UK-based Meddserve said it plans to showcase the world's first fully integrated online hospital management system at Arab Health 2009.\n",
            "similarity: 0.5460692644119263\n",
            "Creation of more jobs, reasonably high wages for same type of work and innovations can lead to inclusive growth in the Economy, according to the Nobel Laureate Edmund Phelps.\n",
            "similarity: 0.5443025827407837\n",
            "US researchers say red wine may help protect the brain from stroke damage.\n",
            "similarity: 0.541049599647522\n",
            "Fish oil supplements could help cancer patients maintain and even regain muscle and weight loss, according to a new medical research.\n",
            "similarity: 0.5362659692764282\n",
            "Tag Commander, the European leader in tag management solutions, and Webtrends, the global leader in digital intelligence, announced a strategic global partnership to empower clients with the combined expertise in tag management and digital analytics.\n",
            "similarity: 0.5362144708633423\n",
            "\n",
            " Query2\n",
            "Tokyo stocks extended losses Friday after Wall Street plunged overnight and the global slowdown deepened, dpa reported.\n",
            "similarity: 0.6533477306365967\n",
            "Stock futures pointed to a weaker start for Wall Street on Monday.\n",
            "similarity: 0.6500087976455688\n",
            "Shares fell 2.2 per cent Friday on the Seoul stock exchange on heavy foreign and institutional selling following losses in the US market.\n",
            "similarity: 0.6377100348472595\n",
            "Hedge funds in New York and London are trying to profit from trading Greek government bonds as European banks brace for losses from a debt swap.\n",
            "similarity: 0.6342804431915283\n",
            "The New Zealand stock market was trading sharply lower on Tuesday following the overnight turmoil in the US financial markets.\n",
            "similarity: 0.6339415311813354\n",
            "US stocks are falling in early trading after a payroll company's report provided a sobering reminder that the job market remains weak.\n",
            "similarity: 0.6266995668411255\n",
            "Record credit card defaults weighed down the markets to a lower close with the Dow tumbling 81 points to 9748 .\n",
            "similarity: 0.6201428771018982\n",
            "NEW YORK -US stocks are slipping at the close, breaking a four-day rally that pushed indexes near pre-recession highs.\n",
            "similarity: 0.6129729747772217\n",
            "European stocks were little changed as gains by basic-resource companies offset declining banks.\n",
            "similarity: 0.6045660972595215\n",
            "Australian bonds opened stronger after markets overnight moved from high risk, investments to safe-haven investments.\n",
            "similarity: 0.6036869287490845\n",
            "\n",
            " Query3\n",
            "The cost of damage to the world's oceans from climate change could reach $2 trillion a year by 2100 if measures to cut greenhouse gas emissions are not stepped up, a study by marine experts said on Wednesday.\n",
            "similarity: 0.6999981999397278\n",
            "Economist Ross Garnaut will fuel the debate about short-term greenhouse gas targets when he releases the latest stage of his climate change report today.\n",
            "similarity: 0.695265531539917\n",
            "The world is locking itself into an unsustainable energy future which would have far-reaching consequences, warns the International Energy Association in its latest World Energy Outlook report released in London .\n",
            "similarity: 0.6950250864028931\n",
            "New research by the University of Minnesota shows that global food demand could double by 2050, while producing that amount of food could significantly increase levels of carbon dioxide and nitrogen in the environment and cause the extinction of numerous species.\n",
            "similarity: 0.6860394477844238\n",
            "South Africa today called on Australia, Canada, Japan and Russia to set mid-term carbon targets.\n",
            "similarity: 0.6763356328010559\n",
            "As we approach this milestone, Connect Asia is asking how 9/11 changed the world?\n",
            "similarity: 0.6693087816238403\n",
            "Major donors' aid to developing countries fell by nearly 3 percent in 2011 due to global economic recession, the Organization for Economic Cooperation and Development said Wednesday.\n",
            "similarity: 0.6591378450393677\n",
            "Prime Minister Dr Manmohan Singh cautioned that the spectre of climate change will also have an unpredictable consequence on the water regime.\n",
            "similarity: 0.6566075086593628\n",
            "ATLANTA Barack Obama is calling for unity to overcome the country's problems.\n",
            "similarity: 0.652283787727356\n",
            "In a new research, scientists have revealed how mercury pollution is affecting Arctic animals like the polar bear.\n",
            "similarity: 0.6502559781074524\n"
          ]
        }
      ],
      "source": [
        "#### YOUR CODE HERE\n",
        "query = \"AI in healthcare\"\n",
        "\n",
        "query_embedding = embed_query(query, calculate_sentence_embeddings)\n",
        "\n",
        "query_similarity = cosine_similarity_1_to_n(query_embedding[0], sentence_embeddings)\n",
        "\n",
        "top_indices = top_k_indices(query_similarity, k=10).tolist()\n",
        "for idx in top_indices:\n",
        "    print(split_ds['test'][idx]['sentence'])\n",
        "    print(f'similarity: {query_similarity[idx]}')\n",
        "\n",
        "print(\"\\n Query2\")\n",
        "\n",
        "query2 = \"Stock market crash\"\n",
        "\n",
        "query_embedding2 = embed_query(query2, calculate_sentence_embeddings)\n",
        "\n",
        "query_similarity2 = cosine_similarity_1_to_n(query_embedding2[0], sentence_embeddings)\n",
        "\n",
        "top_indices = top_k_indices(query_similarity2, k=10).tolist()\n",
        "\n",
        "for idx in top_indices:\n",
        "    print(split_ds['test'][idx]['sentence'])\n",
        "    print(f'similarity: {query_similarity2[idx]}')\n",
        "\n",
        "print(\"\\n Query3\")\n",
        "\n",
        "query3 = \"Climate change impact on the world\"\n",
        "\n",
        "query_embedding3 = embed_query(query3, calculate_sentence_embeddings)\n",
        "\n",
        "query_similarity3 = cosine_similarity_1_to_n(query_embedding3[0], sentence_embeddings)\n",
        "\n",
        "top_indices = top_k_indices(query_similarity3, k=10).tolist()\n",
        "\n",
        "for idx in top_indices:\n",
        "    print(split_ds['test'][idx]['sentence'])\n",
        "    print(f'similarity: {query_similarity3[idx]}')\n",
        "\n",
        "\n",
        "\n",
        "### YOUR CODE ENDS HERE"
      ],
      "metadata": {
        "pycharm": {
          "name": "#%%\n"
        },
        "id": "AJ3eSVbC3yDp",
        "colab": {
          "base_uri": "https://localhost:8080/"
        },
        "outputId": "3956b0d9-b7ab-49e0-d72d-8d14c60dc38d"
      }
    },
    {
      "cell_type": "markdown",
      "source": [
        "##Good results\n",
        "\n",
        "    Query: \"AI in healthcare\"\n",
        "\n",
        "  Result: Dell acquisition helps healthcare push, e-medical records raise privacy questions, and health portals grow but profits low.\n",
        "\n",
        "  Reason: This result is related to healthcare and mentions techological advancements in technology which fits well with the query about AI in healthcare.\n",
        "\n",
        "    Query: \"Stock market crash\"\n",
        "\n",
        "   Result: The stock market extended its slide as investors worried that a weak job market will trip up a recovery in the economy.\n",
        "\n",
        "   Reason: This result is directly related to the stock market and its downfall, fitting perfectly with the query.\n",
        "\n",
        "\n",
        "    Query: \"Stock market crash\"\n",
        "\n",
        "   Result: Stocks and commodities fell around the world on concern swine flu will damp a global economic recovery and US regulators will make banks raise capital after failing so-called stress tests.\n",
        "\n",
        "   Reason: This result involves stock market movements and an economic context, relevant to the query.\n",
        "\n",
        "    Query: \"Climate change impact on the world\"\n",
        "\n",
        "   Result: Global warming will turn clouds into heat traps, worsening the greenhouse gas effects, and chances that clouds will save us from climate change are low, an expert says.\n",
        "\n",
        "   Reason: This result is directly related to climate change and its impact on the enviroment globally, fitting well with the query.\n",
        "\n",
        "    Query: \"Climate change impact on the world\"\n",
        "\n",
        "   Result: No doubt there will be enough hot air to keep climate change on the agenda for many years to come!\n",
        "\n",
        "   Reason: This result mentions climate change directly and its consequences in the long run, relevant to the query.\n",
        "\n",
        "##Bad results\n",
        "\n",
        "    Query: \"AI in healthcare\"\n",
        "\n",
        "  Result: Golf fitness exercises developing strength in the hips are a key component to improvement within the golf swing..\n",
        "\n",
        "  Reason: This result is unrelated to AI and healthcare and seems to have been included due to some shared words (in) in the embeddings\n",
        "\n",
        "    Query: \"Stock market crash\"\n",
        "\n",
        "   Result: The Australian stock market is trading higher on Monday despite a weak lead from Wall Street, where stocks closed little changed on Friday.\n",
        "\n",
        "   Reason: This result talks about positive trading day, which is the opposite context of the query, indicating a misunderstanding of the query context.\n",
        "\n",
        "\n",
        "    Query: \"AI in healthcare\"\n",
        "\n",
        "   Result: MPA announced it has developed voluntary tablet metrics guidelines.\n",
        "\n",
        "   Reason: This result is more related to technology and metric rather than Ai in healthcare , showing limiation in context understanding\n",
        "\n",
        "    Query: \"Climate change impact on the world\"\n",
        "\n",
        "   Result: The United Nations warned that the global economic crisis could create up to 100 million ``new hungry'' as it wipes out jobs in poorer countries.\n",
        "\n",
        "   Reason: This result is about the gobal economic crisis, not about climate change.\n",
        "\n",
        "    Query: \"Climate change impact on the world\"\n",
        "\n",
        "   Result: Internally displaced persons, or IDPs, are among the world's most vulnerable people\n",
        "\n",
        "   Reason: This result discusses displacement issues, not climate change issues.\n",
        "\n",
        "\n",
        "\n",
        "Generally, query 2 and 3 have better results than quey 1. The model fails when the query involves complex contexts and broader themes like AI\n",
        "\n",
        "\n",
        "\n",
        "\n",
        "\n",
        "\n"
      ],
      "metadata": {
        "collapsed": false,
        "pycharm": {
          "name": "#%% md\n"
        },
        "id": "1XOguVU83yDq"
      }
    },
    {
      "cell_type": "markdown",
      "source": [
        "## 5. Evaluating Retrieval\n",
        "\n",
        "In this section (as with the previous lab) we will try to evaluate how good our sentence retrieval system is. To keep the computational resources manageable, we will use the test set for that as its size is more manageable.\n",
        "\n",
        "Recall from the lecture in IR that there are several metrics to evaluate retrieval performance by taking into account the relevance of the retrieved results to the query. We will use Recall@K here (for more metrics and more details refer to the lecture slides and the textbooks).\n",
        "\n",
        "RRecall@K is a metric used to measure the effectiveness of a search system in retrieving relevant documents within the top $K$ retrieved documents. It calculates the proportion of relevant documents retrieved within the top-$K$ results, compared to the total number of relevant documents in the collection.\n",
        "\n",
        "$\n",
        "\\text{Recall@K} = \\frac{\\text{Number of relevant documents retrieved in the top }-K}{\\text{Total number of relevant documents}}\n",
        "$\n",
        "\n",
        "In our case, we have a sentence, and it's compressed version. To test our system, we will treat compressed sentences as the queries. Each query will have only a single relevant sentence - the corresponding uncompressed sentence.\n",
        "\n",
        "Therefore, for the calculation of Recall@K we will take into account whether the correct retrieved result is contained within the first $K$ retrieved results. For example, if for a query (i.e. a compressed sentence) we retrieve 10 results and within these we see the relevant one (i.e. the full sentence), then Recall@10 = 1."
      ],
      "metadata": {
        "collapsed": false,
        "pycharm": {
          "name": "#%% md\n"
        },
        "id": "RxgU8y2T3yDq"
      }
    },
    {
      "cell_type": "markdown",
      "source": [
        "<a name='e10'></a>\n",
        "### Exercise 10 (5 points)\n",
        "\n",
        "In this exercise you will revisit your implementation of the cosine siliarity. Generalize it so that it can accept two PyTorch tensors containing two sets of vectors (first one containing $M$ vectors and the second one $N$ vectors). Compute the cosine similarity between each pair of vectors coming from the two sets. The result should be a tensor of size $M x N$.\n",
        "\n",
        "Once again, try to write an efficient code. This means no loops. Remember the relation between matrix multiplication and dot product. (Depending on your implementation of the previous function calculating cosine similarity, this one can be almost the same)"
      ],
      "metadata": {
        "collapsed": false,
        "pycharm": {
          "name": "#%% md\n"
        },
        "id": "5ObAro533yDq"
      }
    },
    {
      "cell_type": "code",
      "execution_count": null,
      "outputs": [],
      "source": [
        "def cosine_similarity_m_to_n(vectors, other_vectors):\n",
        "    \"\"\"\n",
        "    Calculates the cosine similarity between a multiple vectors and other vectors.\n",
        "    Args:\n",
        "        vectors: a numpy array representing M number of vectors of D dimensions (of the size MxD)\n",
        "        other_vectors: a 2D numpy array representing other vectors (of the size NxD, where N is the number of vectors and D is their dimension)\n",
        "\n",
        "    Returns: a numpy array of cosine similarity between all the vectors and all the other vectors\n",
        "\n",
        "    \"\"\"\n",
        "\n",
        "    #### YOUR CODE HERE\n",
        "\n",
        "    #normalize the input vectors\n",
        "    vectors_norm = torch.norm(vectors, dim=1, keepdim=True)\n",
        "    vectors_unit = vectors / vectors_norm\n",
        "\n",
        "    #normalize the other vectors\n",
        "    other_vectors_norm = torch.norm(other_vectors, dim=1, keepdim=True)\n",
        "    other_vectors_unit = other_vectors / other_vectors_norm\n",
        "\n",
        "    #compute the cosine similarity using matrix multiplication\n",
        "    cosine_similarities = torch.matmul(vectors_unit, other_vectors_unit.T)\n",
        "\n",
        "    return cosine_similarities\n",
        "\n",
        "    ### YOUR CODE ENDS HERE"
      ],
      "metadata": {
        "pycharm": {
          "name": "#%%\n"
        },
        "id": "xIRg_LJ33yDq"
      }
    },
    {
      "cell_type": "markdown",
      "source": [
        "The following function will use your implementation to calculate Recall@K based on the similarity matrix."
      ],
      "metadata": {
        "collapsed": false,
        "pycharm": {
          "name": "#%% md\n"
        },
        "id": "3-gi2wOb3yDr"
      }
    },
    {
      "cell_type": "code",
      "execution_count": null,
      "outputs": [],
      "source": [
        "def calculate_recall(queries, sentences, k, batch_size=1000):\n",
        "    \"\"\"\n",
        "    Calculates recall@k given the embeddings of the queries and sentences.\n",
        "    Assumes that only a single sentence with the same index as query is relevant.\n",
        "    Batching is implemented to avoid high memory usage.\n",
        "    Args:\n",
        "        queries: a numpy array with the embeddings of N queries\n",
        "        sentences: a numpy array with the embeddings of N sentences available for retrieval\n",
        "        k: number of top results to search for the relevant sentence\n",
        "        batch_size: number of queries to process at a time\n",
        "\n",
        "    Returns: calculated recall@k\n",
        "\n",
        "    \"\"\"\n",
        "    n_queries = queries.shape[0]\n",
        "    if batch_size is None:\n",
        "        batch_size = n_queries\n",
        "\n",
        "    n_batches = math.ceil(n_queries / batch_size)\n",
        "    last_batch_size = n_queries % batch_size if n_queries != batch_size else batch_size\n",
        "\n",
        "    correct = np.zeros(n_queries).astype(bool)\n",
        "    with tqdm.tqdm(total=n_queries) as pbar:\n",
        "        for b in range(n_batches):\n",
        "            effective_batch_size = last_batch_size if b == (n_batches - 1) else batch_size\n",
        "            batch_start_index = b * batch_size\n",
        "\n",
        "            queries_batch = queries[batch_start_index:batch_start_index + effective_batch_size]\n",
        "            batch_similarity = cosine_similarity_m_to_n(queries_batch, sentences)\n",
        "\n",
        "            for i in range(effective_batch_size):\n",
        "                query_index = i + batch_start_index\n",
        "                query_similarity = batch_similarity[i]\n",
        "                top_k = top_k_indices(query_similarity, k=k, sorted=False)\n",
        "\n",
        "                if query_index in top_k:\n",
        "                    correct[query_index] = True\n",
        "\n",
        "                pbar.update(1)\n",
        "\n",
        "    n_correct = np.sum(correct)\n",
        "    n_total = correct.shape[0]\n",
        "    recall = n_correct / n_total\n",
        "    return recall"
      ],
      "metadata": {
        "pycharm": {
          "name": "#%%\n"
        },
        "id": "WUj3q52j3yDr"
      }
    },
    {
      "cell_type": "markdown",
      "source": [
        "You can use it like so:"
      ],
      "metadata": {
        "collapsed": false,
        "pycharm": {
          "name": "#%% md\n"
        },
        "id": "DgOO6fUg3yDr"
      }
    },
    {
      "cell_type": "code",
      "execution_count": null,
      "outputs": [
        {
          "output_type": "stream",
          "name": "stderr",
          "text": [
            " 80%|████████  | 4000/5000 [00:01<00:00, 2920.19it/s]"
          ]
        },
        {
          "output_type": "stream",
          "name": "stdout",
          "text": [
            "\n",
            "50.64%\n"
          ]
        },
        {
          "output_type": "stream",
          "name": "stderr",
          "text": [
            "\n"
          ]
        }
      ],
      "source": [
        "recall_at_1 = calculate_recall(compressed_embeddings, sentence_embeddings, k=1, batch_size=1000)\n",
        "print(f'\\n{recall_at_1 * 100:.2f}%')"
      ],
      "metadata": {
        "pycharm": {
          "name": "#%%\n"
        },
        "id": "7oDWTt233yDr",
        "colab": {
          "base_uri": "https://localhost:8080/"
        },
        "outputId": "14dcb611-5b71-454c-e6af-09651363f8dd"
      }
    },
    {
      "cell_type": "markdown",
      "source": [
        "<a name='e11'></a>\n",
        "### Exercise 11 (5 points)\n",
        "\n",
        "Calculate recall for different values of $K$. Comment on how recall changes based on the value of $K$. Are the results expected or surprising? Comment again on different examples (like in Exercise 9) but now take into account the results of recall at different levels of $K$.\n",
        "\n",
        "At this stage, do not experiment further. That will come in the next Sections which are more open ended."
      ],
      "metadata": {
        "collapsed": false,
        "pycharm": {
          "name": "#%% md\n"
        },
        "id": "XKe8Tsvx3yDr"
      }
    },
    {
      "cell_type": "code",
      "execution_count": null,
      "outputs": [
        {
          "output_type": "stream",
          "name": "stderr",
          "text": [
            " 80%|████████  | 4000/5000 [00:01<00:00, 2308.24it/s]\n"
          ]
        },
        {
          "output_type": "stream",
          "name": "stdout",
          "text": [
            "Recall@1: 50.64%\n"
          ]
        },
        {
          "output_type": "stream",
          "name": "stderr",
          "text": [
            " 80%|████████  | 4000/5000 [00:00<00:00, 4336.64it/s]\n"
          ]
        },
        {
          "output_type": "stream",
          "name": "stdout",
          "text": [
            "Recall@2: 57.24%\n"
          ]
        },
        {
          "output_type": "stream",
          "name": "stderr",
          "text": [
            " 80%|████████  | 4000/5000 [00:00<00:00, 4308.33it/s]\n"
          ]
        },
        {
          "output_type": "stream",
          "name": "stdout",
          "text": [
            "Recall@3: 60.06%\n"
          ]
        },
        {
          "output_type": "stream",
          "name": "stderr",
          "text": [
            " 80%|████████  | 4000/5000 [00:00<00:00, 4358.18it/s]\n"
          ]
        },
        {
          "output_type": "stream",
          "name": "stdout",
          "text": [
            "Recall@4: 62.02%\n"
          ]
        },
        {
          "output_type": "stream",
          "name": "stderr",
          "text": [
            " 80%|████████  | 4000/5000 [00:00<00:00, 4307.35it/s]\n"
          ]
        },
        {
          "output_type": "stream",
          "name": "stdout",
          "text": [
            "Recall@5: 63.38%\n"
          ]
        },
        {
          "output_type": "stream",
          "name": "stderr",
          "text": [
            " 80%|████████  | 4000/5000 [00:00<00:00, 4296.23it/s]\n"
          ]
        },
        {
          "output_type": "stream",
          "name": "stdout",
          "text": [
            "Recall@6: 64.72%\n"
          ]
        },
        {
          "output_type": "stream",
          "name": "stderr",
          "text": [
            " 80%|████████  | 4000/5000 [00:00<00:00, 4060.92it/s]\n"
          ]
        },
        {
          "output_type": "stream",
          "name": "stdout",
          "text": [
            "Recall@7: 65.80%\n"
          ]
        },
        {
          "output_type": "stream",
          "name": "stderr",
          "text": [
            " 80%|████████  | 4000/5000 [00:00<00:00, 4309.56it/s]\n"
          ]
        },
        {
          "output_type": "stream",
          "name": "stdout",
          "text": [
            "Recall@8: 66.72%\n"
          ]
        },
        {
          "output_type": "stream",
          "name": "stderr",
          "text": [
            " 80%|████████  | 4000/5000 [00:00<00:00, 4314.73it/s]\n"
          ]
        },
        {
          "output_type": "stream",
          "name": "stdout",
          "text": [
            "Recall@9: 67.38%\n"
          ]
        },
        {
          "output_type": "stream",
          "name": "stderr",
          "text": [
            " 80%|████████  | 4000/5000 [00:00<00:00, 4301.86it/s]"
          ]
        },
        {
          "output_type": "stream",
          "name": "stdout",
          "text": [
            "Recall@10: 68.00%\n"
          ]
        },
        {
          "output_type": "stream",
          "name": "stderr",
          "text": [
            "\n"
          ]
        }
      ],
      "source": [
        "#### YOUR CODE HERE\n",
        "\n",
        "#code from previous lab\n",
        "def evaluate_recall_at_k(queries, sentences, max_k, batch_size=1000):\n",
        "    recalls = []\n",
        "    for k in range(1, max_k+1):\n",
        "        recall = calculate_recall(queries, sentences, k, batch_size)\n",
        "        recalls.append(recall)\n",
        "        print(f'Recall@{k}: {recall * 100:.2f}%')\n",
        "    return recalls\n",
        "\n",
        "recall_at_k = evaluate_recall_at_k(compressed_embeddings, sentence_embeddings,10)\n",
        "\n",
        "# query = \"AI in healthcare\"\n",
        "\n",
        "# query_embedding = embed_query(query, calculate_sentence_embeddings)\n",
        "\n",
        "# query_similarity = cosine_similarity_1_to_n(query_embedding[0], sentence_embeddings)\n",
        "\n",
        "# top_indices = top_k_indices(query_similarity, k=10).tolist()\n",
        "# for idx in top_indices:\n",
        "#     print(split_ds['test'][idx]['sentence'])\n",
        "#     print(f'similarity: {query_similarity[idx]}')\n",
        "\n",
        "# print(\"\\n Query2\")\n",
        "\n",
        "# query2 = \"Stock market crash\"\n",
        "\n",
        "# query_embedding2 = embed_query(query2, calculate_sentence_embeddings)\n",
        "\n",
        "# query_similarity2 = cosine_similarity_1_to_n(query_embedding2[0], sentence_embeddings)\n",
        "\n",
        "# top_indices = top_k_indices(query_similarity2, k=10).tolist()\n",
        "\n",
        "# for idx in top_indices:\n",
        "#     print(split_ds['test'][idx]['sentence'])\n",
        "#     print(f'similarity: {query_similarity2[idx]}')\n",
        "\n",
        "# print(\"\\n Query3\")\n",
        "\n",
        "# query3 = \"Climate change impact on the world\"\n",
        "\n",
        "# query_embedding3 = embed_query(query3, calculate_sentence_embeddings)\n",
        "\n",
        "# query_similarity3 = cosine_similarity_1_to_n(query_embedding3[0], sentence_embeddings)\n",
        "\n",
        "# top_indices = top_k_indices(query_similarity3, k=10).tolist()\n",
        "\n",
        "# for idx in top_indices:\n",
        "#     print(split_ds['test'][idx]['sentence'])\n",
        "#     print(f'similarity: {query_similarity3[idx]}')\n",
        "\n",
        "### YOUR CODE ENDS HERE"
      ],
      "metadata": {
        "pycharm": {
          "name": "#%%\n"
        },
        "id": "22J3z8p33yDr",
        "colab": {
          "base_uri": "https://localhost:8080/"
        },
        "outputId": "acd6da66-1b68-4045-b5dd-ef90d68a9694"
      }
    },
    {
      "cell_type": "markdown",
      "source": [
        "Recall increases as K increases. This is an expected outcome because as more candidates are considered, there is a higher probability that the correct sentence will be included in the top K retrieved results. Furthermore, the initial jumps are more significant (from 49% (K=1) to 57% (K=2)), but as K continues to increase, the incremental gains become smaller. This makes sense in retrieval tasks, where the most relevant results tend to be ranked higher.\n"
      ],
      "metadata": {
        "collapsed": false,
        "pycharm": {
          "name": "#%% md\n"
        },
        "id": "wZE0o6Gv3yDr"
      }
    },
    {
      "cell_type": "markdown",
      "source": [
        "## 6. Pushing the performance: Modifying the sentence embeddings\n"
      ],
      "metadata": {
        "collapsed": false,
        "pycharm": {
          "name": "#%% md\n"
        },
        "id": "tz4rt1jI3yDr"
      }
    },
    {
      "cell_type": "markdown",
      "source": [
        "<a name='e12'></a>\n",
        "### Exercise 12 (10 points)\n",
        "\n",
        "Experiment with the way the sentence embedding is calculated and check performance on the task.\n",
        "\n",
        "For example, you can try using the embedding of the `CLS` token or averaging the hidden states of different layer or even averaging the representations of several layers. The choice is yours, but make sure to give a justification of your choice, based on the results and your inspection of the dataset. Make sure to inspect the representations of tokens and sentences and do not forget to evaluate the modification on the sentence retrieval task."
      ],
      "metadata": {
        "id": "BL1wOwP2K1k0"
      }
    },
    {
      "cell_type": "code",
      "execution_count": null,
      "outputs": [
        {
          "output_type": "stream",
          "name": "stderr",
          "text": [
            "100%|██████████| 625/625 [14:08<00:00,  1.36s/it]\n",
            "100%|██████████| 625/625 [06:01<00:00,  1.73it/s]\n"
          ]
        }
      ],
      "source": [
        "#### YOUR CODE HERE\n",
        "\n",
        "def calculate_sentence_embeddings_avg_num_of_layers(input_batch, model_output, layer=-1 , num_layers=15):\n",
        "\n",
        "    hidden_states = model_output['hidden_states']\n",
        "    attention_mask = input_batch['attention_mask']\n",
        "\n",
        "    # Average the hidden states across the last 15 layers\n",
        "\n",
        "    layers_to_average = hidden_states[-num_layers:]\n",
        "\n",
        "    mean_hidden_states = torch.mean(torch.stack(layers_to_average), dim=0)\n",
        "\n",
        "    mask_expanded = attention_mask.unsqueeze(-1).expand(mean_hidden_states.size()).float()\n",
        "\n",
        "    mask_hidden_states = mean_hidden_states * mask_expanded\n",
        "\n",
        "    sum_embeddings = mask_hidden_states.sum(dim=1)\n",
        "\n",
        "    val_token_counts = mask_expanded.sum(dim=1)\n",
        "\n",
        "    sentence_embeddings = sum_embeddings / val_token_counts\n",
        "\n",
        "    return sentence_embeddings\n",
        "\n",
        "sentence2_embeddings = embed_dataset(tokenized_sentence_ds, model, calculate_sentence_embeddings_avg_num_of_layers)\n",
        "compressed2_embeddings = embed_dataset(tokenized_compressed_ds, model, calculate_sentence_embeddings_avg_num_of_layers)\n",
        "\n",
        "### YOUR CODE ENDS HERE"
      ],
      "metadata": {
        "pycharm": {
          "name": "#%%\n"
        },
        "id": "S3WVGggw3yDr",
        "colab": {
          "base_uri": "https://localhost:8080/"
        },
        "outputId": "3048df63-a909-46b1-9cd1-4997ac40b37c"
      }
    },
    {
      "cell_type": "code",
      "source": [
        "print(\"Token Embeddings (first sentence):\")\n",
        "print(model_outputs['hidden_states'][-1][0])\n",
        "\n",
        "print(\"\\nSentence Embeddings:\")\n",
        "print(compressed2_embeddings)\n",
        "\n",
        "print(\"\\nSentence Embeddings:\")\n",
        "print(sentence2_embeddings)"
      ],
      "metadata": {
        "colab": {
          "base_uri": "https://localhost:8080/"
        },
        "id": "w9TvBC0oo8MI",
        "outputId": "b87d005a-0f82-4a2a-c4da-b9b69c6064ce"
      },
      "execution_count": null,
      "outputs": [
        {
          "output_type": "stream",
          "name": "stdout",
          "text": [
            "Token Embeddings (first sentence):\n",
            "tensor([[ 7.7905e-03,  7.7393e-02, -3.8071e-02,  ..., -1.6090e-01,\n",
            "          3.9497e-01,  4.5906e-01],\n",
            "        [ 6.2626e-03, -1.3472e-01, -7.8962e-01,  ..., -1.7357e-01,\n",
            "          1.0775e+00, -7.8623e-02],\n",
            "        [ 4.3238e-01, -1.8643e-01, -1.0159e-01,  ..., -3.4244e-01,\n",
            "          7.3373e-01,  4.2446e-01],\n",
            "        ...,\n",
            "        [-9.7882e-04,  2.0248e-01,  3.0758e-01,  ..., -2.2166e-01,\n",
            "         -1.8754e-01,  1.8368e-01],\n",
            "        [ 5.3295e-01,  1.3917e-01, -2.3285e-01,  ..., -1.9629e-02,\n",
            "         -4.5747e-01, -2.5510e-01],\n",
            "        [ 7.6413e-02,  2.1760e-01,  2.1484e-01,  ..., -1.1075e-01,\n",
            "         -5.8514e-02, -2.3290e-01]], grad_fn=<SelectBackward0>)\n",
            "\n",
            "Sentence Embeddings:\n",
            "tensor([[ 0.1886, -0.3189,  0.1984,  ..., -0.1612,  0.2832,  0.0693],\n",
            "        [ 0.2156, -0.3283,  0.0668,  ..., -0.2200,  0.1780, -0.2842],\n",
            "        [ 0.4691, -0.2716, -0.2036,  ..., -0.1378,  0.0445, -0.4241],\n",
            "        ...,\n",
            "        [ 0.3091,  0.2311,  0.3769,  ...,  0.0261, -0.1584,  0.1066],\n",
            "        [ 0.5256, -0.4564, -0.2043,  ..., -0.1566,  0.0939, -0.6077],\n",
            "        [ 0.0519, -0.2261,  0.0232,  ..., -0.0037, -0.1586, -0.5818]])\n",
            "\n",
            "Sentence Embeddings:\n",
            "tensor([[ 0.1113, -0.2949,  0.3879,  ..., -0.1863,  0.4515,  0.0536],\n",
            "        [ 0.2933, -0.0784,  0.1404,  ..., -0.2373,  0.2835, -0.2280],\n",
            "        [ 0.2181, -0.2157, -0.0723,  ..., -0.0786,  0.1033, -0.3025],\n",
            "        ...,\n",
            "        [-0.0360,  0.1716,  0.4170,  ..., -0.0991,  0.1490, -0.0932],\n",
            "        [ 0.1477, -0.1438, -0.0565,  ..., -0.0684, -0.0208, -0.2378],\n",
            "        [-0.2800, -0.2710, -0.1905,  ...,  0.4490, -0.3282, -0.2723]])\n"
          ]
        }
      ]
    },
    {
      "cell_type": "code",
      "source": [
        "def evaluate_recall_at_k(queries, sentences, max_k, batch_size=1000):\n",
        "\n",
        "    recalls = []\n",
        "    for k in range(1, max_k+1):\n",
        "        recall = calculate_recall(queries, sentences, k, batch_size)\n",
        "        recalls.append(recall)\n",
        "        print(f'Recall@{k}: {recall * 100:.2f}%')\n",
        "    return recalls\n",
        "\n",
        "recall_at_k = evaluate_recall_at_k(compressed2_embeddings, sentence2_embeddings,10)"
      ],
      "metadata": {
        "colab": {
          "base_uri": "https://localhost:8080/"
        },
        "id": "ez86mWgxJkqz",
        "outputId": "1fbc1a95-dc19-4bb4-b14c-9f6e3bb4d56c"
      },
      "execution_count": null,
      "outputs": [
        {
          "output_type": "stream",
          "name": "stderr",
          "text": [
            " 80%|████████  | 4000/5000 [00:01<00:00, 3591.05it/s]\n"
          ]
        },
        {
          "output_type": "stream",
          "name": "stdout",
          "text": [
            "Recall@1: 62.96%\n"
          ]
        },
        {
          "output_type": "stream",
          "name": "stderr",
          "text": [
            " 80%|████████  | 4000/5000 [00:01<00:00, 2906.48it/s]\n"
          ]
        },
        {
          "output_type": "stream",
          "name": "stdout",
          "text": [
            "Recall@2: 67.58%\n"
          ]
        },
        {
          "output_type": "stream",
          "name": "stderr",
          "text": [
            " 80%|████████  | 4000/5000 [00:01<00:00, 2784.01it/s]\n"
          ]
        },
        {
          "output_type": "stream",
          "name": "stdout",
          "text": [
            "Recall@3: 69.64%\n"
          ]
        },
        {
          "output_type": "stream",
          "name": "stderr",
          "text": [
            " 80%|████████  | 4000/5000 [00:01<00:00, 3678.30it/s]\n"
          ]
        },
        {
          "output_type": "stream",
          "name": "stdout",
          "text": [
            "Recall@4: 70.82%\n"
          ]
        },
        {
          "output_type": "stream",
          "name": "stderr",
          "text": [
            " 80%|████████  | 4000/5000 [00:00<00:00, 4175.27it/s]\n"
          ]
        },
        {
          "output_type": "stream",
          "name": "stdout",
          "text": [
            "Recall@5: 71.70%\n"
          ]
        },
        {
          "output_type": "stream",
          "name": "stderr",
          "text": [
            " 80%|████████  | 4000/5000 [00:00<00:00, 4098.68it/s]\n"
          ]
        },
        {
          "output_type": "stream",
          "name": "stdout",
          "text": [
            "Recall@6: 72.46%\n"
          ]
        },
        {
          "output_type": "stream",
          "name": "stderr",
          "text": [
            " 80%|████████  | 4000/5000 [00:00<00:00, 4144.40it/s]\n"
          ]
        },
        {
          "output_type": "stream",
          "name": "stdout",
          "text": [
            "Recall@7: 72.86%\n"
          ]
        },
        {
          "output_type": "stream",
          "name": "stderr",
          "text": [
            " 80%|████████  | 4000/5000 [00:00<00:00, 4252.33it/s]\n"
          ]
        },
        {
          "output_type": "stream",
          "name": "stdout",
          "text": [
            "Recall@8: 73.34%\n"
          ]
        },
        {
          "output_type": "stream",
          "name": "stderr",
          "text": [
            " 80%|████████  | 4000/5000 [00:00<00:00, 4270.22it/s]\n"
          ]
        },
        {
          "output_type": "stream",
          "name": "stdout",
          "text": [
            "Recall@9: 73.64%\n"
          ]
        },
        {
          "output_type": "stream",
          "name": "stderr",
          "text": [
            " 80%|████████  | 4000/5000 [00:00<00:00, 4376.29it/s]"
          ]
        },
        {
          "output_type": "stream",
          "name": "stdout",
          "text": [
            "Recall@10: 73.98%\n"
          ]
        },
        {
          "output_type": "stream",
          "name": "stderr",
          "text": [
            "\n"
          ]
        }
      ]
    },
    {
      "cell_type": "markdown",
      "source": [
        "I chose to calculate the sentence embeddings by averaging the hidden states from the last 15 layers. The choice of 15 was done from emperical evidence,over this threshold the recall does not improve. The recall at K=1 improved fromm 0.49 to 0.62. The reason for this is because by averaging the hidden states from multiple layers, you combine information from different levels of abstraction. Earlier layers caprture more local syntax information, while deeper layers capture more semantic and contextual information. Averaging these layers results in a more richer represenation of the sentence. Moreover, averaging across multiple layers helps the model to generalize better by reducing the biases of any single layer. In conclusion, the advantages of using multi-layer embeddings over single-layer embeddings are the enhanced representational power and the improved generalization."
      ],
      "metadata": {
        "id": "KJx7ljApxq64"
      }
    },
    {
      "cell_type": "markdown",
      "source": [
        "## Pushing the performance: Trying different models\n",
        "\n"
      ],
      "metadata": {
        "collapsed": false,
        "pycharm": {
          "name": "#%% md\n"
        },
        "id": "hp3VLgoa3yDs"
      }
    },
    {
      "cell_type": "markdown",
      "source": [
        "<a name='e13'></a>\n",
        "### Exercise 13 (10 points)\n",
        "\n",
        "In this exercise you are asked to try other BERT-like model from huggingface. You can consider the MSMARCO model [here](https://huggingface.co/sentence-transformers/msmarco-bert-base-dot-v5). Make sure to read the model card on the huggingface website in order to understand how to use it. You don't need to install `sentence-transformers`.\n",
        "\n",
        "As before, make sure to inspect the the representations of tokens and sentences. Evaluate the model on sentence retrieval."
      ],
      "metadata": {
        "id": "x4mA3r7rLbCt"
      }
    },
    {
      "cell_type": "code",
      "execution_count": null,
      "outputs": [
        {
          "output_type": "display_data",
          "data": {
            "text/plain": [
              "config.json:   0%|          | 0.00/636 [00:00<?, ?B/s]"
            ],
            "application/vnd.jupyter.widget-view+json": {
              "version_major": 2,
              "version_minor": 0,
              "model_id": "19a3b5830421490bb363b3700ff93a13"
            }
          },
          "metadata": {}
        },
        {
          "output_type": "display_data",
          "data": {
            "text/plain": [
              "model.safetensors:   0%|          | 0.00/438M [00:00<?, ?B/s]"
            ],
            "application/vnd.jupyter.widget-view+json": {
              "version_major": 2,
              "version_minor": 0,
              "model_id": "ccba650966584c708b56c27ac33bac4a"
            }
          },
          "metadata": {}
        },
        {
          "output_type": "stream",
          "name": "stderr",
          "text": [
            "100%|██████████| 625/625 [16:29<00:00,  1.58s/it]\n",
            "100%|██████████| 625/625 [05:57<00:00,  1.75it/s]\n"
          ]
        }
      ],
      "source": [
        "#### YOUR CODE HERE\n",
        "\n",
        "model = transformers.AutoModel.from_pretrained(\"sentence-transformers/msmarco-bert-base-dot-v5\")\n",
        "\n",
        "# Set device to GPU if available\n",
        "device = torch.device('cuda' if torch.cuda.is_available() else 'cpu')\n",
        "\n",
        "model.to(device)\n",
        "\n",
        "sentence3_embeddings = embed_dataset(tokenized_sentence_ds, model, calculate_sentence_embeddings_avg_num_of_layers)\n",
        "\n",
        "compressed3_embeddings = embed_dataset(tokenized_compressed_ds, model, calculate_sentence_embeddings_avg_num_of_layers)\n",
        "\n",
        "\n",
        "### YOUR CODE ENDS HERE"
      ],
      "metadata": {
        "pycharm": {
          "name": "#%%\n"
        },
        "id": "lLQqovEP3yDs",
        "colab": {
          "base_uri": "https://localhost:8080/",
          "height": 116,
          "referenced_widgets": [
            "19a3b5830421490bb363b3700ff93a13",
            "cca64ec8e8764be19686db8151118c5e",
            "9e70128cc47c42b99deb61aaaeb4ca23",
            "b01c1bcbcf204ca895cd688993065d60",
            "2f57a801688647a4a96ad9e404d98a8f",
            "6a9cf408e8104f709d6eba937042397a",
            "56ef4a23dd0c4f75b3129020cc94d38a",
            "13ea84ae952d4d56919fb759692722f9",
            "e599a2edf25c43efb60d47f124f8265c",
            "de5b63f0f16742369198125bec416f2f",
            "d241428e0b344795bf08a7ea6b2c2294",
            "ccba650966584c708b56c27ac33bac4a",
            "006f6fd83d9842ae96abff720e513eaf",
            "ade9214758cd4295a350b44c2e627d6d",
            "a8c49aa8689844dc931aff3e081f9f54",
            "454c904b66304f9ba6f0e692e108675b",
            "d794ec8a85814925abe6df3ff2268b0c",
            "4056fc4cdabd4cdbbd1a18ef6001c2df",
            "b705860c5a264e0991ef5837f10e5348",
            "480c190058ec45c0ac40f9522380b66c",
            "42fe2944d90d42f5bf033066f744ed45",
            "0c7306819e4441409871923727720bdd"
          ]
        },
        "outputId": "306d18ff-ca02-43bf-c661-1e2c0d59ad1d"
      }
    },
    {
      "cell_type": "code",
      "source": [
        "def evaluate_recall_at_k(queries, sentences, max_k, batch_size=1000):\n",
        "\n",
        "    recalls = []\n",
        "    for k in range(1, max_k+1):\n",
        "        recall = calculate_recall(queries, sentences, k, batch_size)\n",
        "        recalls.append(recall)\n",
        "        print(f'Recall@{k}: {recall * 100:.2f}%')\n",
        "    return recalls\n",
        "\n",
        "recall_at_k = evaluate_recall_at_k(compressed3_embeddings, sentence3_embeddings,10)"
      ],
      "metadata": {
        "colab": {
          "base_uri": "https://localhost:8080/"
        },
        "id": "BHOTFl5XytV2",
        "outputId": "576f9a06-f480-4e0a-bdd9-e9bf22e3d9ab"
      },
      "execution_count": null,
      "outputs": [
        {
          "output_type": "stream",
          "name": "stderr",
          "text": [
            " 80%|████████  | 4000/5000 [00:00<00:00, 5409.22it/s]\n"
          ]
        },
        {
          "output_type": "stream",
          "name": "stdout",
          "text": [
            "Recall@1: 73.40%\n"
          ]
        },
        {
          "output_type": "stream",
          "name": "stderr",
          "text": [
            " 80%|████████  | 4000/5000 [00:00<00:00, 4274.69it/s]\n"
          ]
        },
        {
          "output_type": "stream",
          "name": "stdout",
          "text": [
            "Recall@2: 76.30%\n"
          ]
        },
        {
          "output_type": "stream",
          "name": "stderr",
          "text": [
            " 80%|████████  | 4000/5000 [00:00<00:00, 4361.54it/s]\n"
          ]
        },
        {
          "output_type": "stream",
          "name": "stdout",
          "text": [
            "Recall@3: 77.24%\n"
          ]
        },
        {
          "output_type": "stream",
          "name": "stderr",
          "text": [
            " 80%|████████  | 4000/5000 [00:00<00:00, 4268.87it/s]\n"
          ]
        },
        {
          "output_type": "stream",
          "name": "stdout",
          "text": [
            "Recall@4: 77.74%\n"
          ]
        },
        {
          "output_type": "stream",
          "name": "stderr",
          "text": [
            " 80%|████████  | 4000/5000 [00:00<00:00, 4267.11it/s]\n"
          ]
        },
        {
          "output_type": "stream",
          "name": "stdout",
          "text": [
            "Recall@5: 77.96%\n"
          ]
        },
        {
          "output_type": "stream",
          "name": "stderr",
          "text": [
            " 80%|████████  | 4000/5000 [00:00<00:00, 4355.21it/s]\n"
          ]
        },
        {
          "output_type": "stream",
          "name": "stdout",
          "text": [
            "Recall@6: 78.12%\n"
          ]
        },
        {
          "output_type": "stream",
          "name": "stderr",
          "text": [
            " 80%|████████  | 4000/5000 [00:00<00:00, 4275.17it/s]\n"
          ]
        },
        {
          "output_type": "stream",
          "name": "stdout",
          "text": [
            "Recall@7: 78.30%\n"
          ]
        },
        {
          "output_type": "stream",
          "name": "stderr",
          "text": [
            " 80%|████████  | 4000/5000 [00:00<00:00, 4338.69it/s]\n"
          ]
        },
        {
          "output_type": "stream",
          "name": "stdout",
          "text": [
            "Recall@8: 78.40%\n"
          ]
        },
        {
          "output_type": "stream",
          "name": "stderr",
          "text": [
            " 80%|████████  | 4000/5000 [00:00<00:00, 4299.57it/s]\n"
          ]
        },
        {
          "output_type": "stream",
          "name": "stdout",
          "text": [
            "Recall@9: 78.54%\n"
          ]
        },
        {
          "output_type": "stream",
          "name": "stderr",
          "text": [
            " 80%|████████  | 4000/5000 [00:00<00:00, 4346.05it/s]"
          ]
        },
        {
          "output_type": "stream",
          "name": "stdout",
          "text": [
            "Recall@10: 78.66%\n"
          ]
        },
        {
          "output_type": "stream",
          "name": "stderr",
          "text": [
            "\n"
          ]
        }
      ]
    },
    {
      "cell_type": "code",
      "source": [
        "print(\"Token Embeddings (first sentence):\")\n",
        "print(model_outputs['hidden_states'][-1][0])\n",
        "\n",
        "print(\"\\nSentence Embeddings:\")\n",
        "print(compressed2_embeddings)\n",
        "\n",
        "print(\"\\nSentence Embeddings:\")\n",
        "print(sentence2_embeddings)"
      ],
      "metadata": {
        "colab": {
          "base_uri": "https://localhost:8080/"
        },
        "id": "W_DCL3sK-EZj",
        "outputId": "5031a505-c96e-49d6-e994-e768de724be3"
      },
      "execution_count": null,
      "outputs": [
        {
          "output_type": "stream",
          "name": "stdout",
          "text": [
            "Token Embeddings (first sentence):\n",
            "tensor([[-0.2603,  0.0529,  0.6050,  ..., -0.5643,  0.3947, -0.1227],\n",
            "        [ 0.2685,  0.2436, -0.1411,  ..., -0.4192,  0.4776,  0.3185],\n",
            "        [ 0.4306, -0.5687,  0.6815,  ..., -0.0748,  0.3246, -0.8743],\n",
            "        ...,\n",
            "        [ 0.1293, -0.0877,  0.8333,  ..., -0.7069,  0.1721,  0.1166],\n",
            "        [-0.5144, -0.5381,  0.3143,  ...,  0.4522,  0.6530, -0.4407],\n",
            "        [ 0.3601,  0.2022,  0.1179,  ...,  0.1513, -0.2231, -0.0592]],\n",
            "       grad_fn=<SelectBackward0>)\n",
            "\n",
            "CLS Token Embeddings:\n",
            "tensor([[-2.6033e-01,  5.2910e-02,  6.0496e-01,  2.5736e-01, -3.0446e-01,\n",
            "         -1.3010e-01,  3.4841e-01,  6.8641e-01, -4.1090e-01, -2.7374e-01,\n",
            "          3.1370e-01, -3.7856e-01, -5.8694e-01,  7.7480e-01, -1.9426e-01,\n",
            "         -4.4865e-01,  1.1899e-01,  2.9051e-01,  9.2989e-02, -2.3965e-01,\n",
            "          4.4638e-01, -1.7534e-01,  3.8298e-01, -1.9989e-01, -2.8411e-01,\n",
            "         -3.8962e-01, -2.0082e-01,  6.3683e-02, -4.7876e-01,  3.4073e-01,\n",
            "         -1.0280e-01,  4.4914e-01, -3.3108e-01,  1.7231e-01,  2.8121e-01,\n",
            "         -6.5317e-01,  2.2021e-01,  4.1487e-01, -6.0667e-02, -2.0874e-03,\n",
            "          1.4068e-02, -3.5781e-01,  7.7583e-02,  3.7065e-01, -4.5647e-01,\n",
            "         -1.7970e-01, -2.8416e+00,  6.5240e-01, -3.4420e-01, -4.0537e-01,\n",
            "          4.4396e-01, -3.4499e-01, -4.4315e-03,  7.4573e-02,  1.1375e-02,\n",
            "          3.4593e-01,  1.4277e-01, -4.1813e-01,  1.9252e-01,  2.6932e-01,\n",
            "          1.8123e-01, -1.2168e-01,  1.6850e-01, -5.4960e-01, -2.5587e-02,\n",
            "         -1.8433e-01, -3.5944e-01,  8.0048e-01, -8.2756e-01, -9.1167e-02,\n",
            "         -3.3531e-01, -2.1259e-01,  4.2884e-01, -2.0270e-02, -2.1709e-01,\n",
            "         -2.5581e-01, -5.4606e-01,  5.5002e-01, -9.2343e-02, -7.8061e-01,\n",
            "         -2.6322e-01,  6.3260e-01,  3.8618e-01, -9.0398e-02, -1.4987e-01,\n",
            "          4.2290e-01,  9.1182e-02, -1.8381e-01, -6.8753e-01,  7.7341e-01,\n",
            "          4.6663e-01, -1.9011e-03,  7.0678e-01,  8.0583e-01, -3.3745e-01,\n",
            "          5.1891e-01,  6.3343e-02, -3.4247e-02, -1.7127e-01,  4.6616e-01,\n",
            "          3.6479e-01, -1.2215e-01,  1.3271e-01, -1.4854e-01,  6.6993e-01,\n",
            "         -3.2127e-01, -3.4272e-01,  3.5944e-01,  2.3935e-01, -1.2169e+00,\n",
            "          3.4301e-01,  1.4166e-01,  5.2318e-01,  2.0035e-01, -5.8958e-01,\n",
            "          1.3759e-01,  4.0262e-01, -5.3845e-01,  3.9399e-01,  1.8790e-01,\n",
            "          4.3624e-01, -7.5293e-02, -4.3492e-02,  1.8159e-01,  5.5901e-01,\n",
            "          2.2329e-01, -1.2593e-01, -2.7003e-02,  8.3931e-01,  2.4286e-01,\n",
            "          3.8080e-01,  1.0573e+00, -3.4448e-01, -5.0747e-01,  3.0742e-01,\n",
            "          5.4706e-02,  4.7273e-01, -1.0856e-01, -1.7403e-01, -3.4428e-01,\n",
            "         -9.7281e-01, -7.8407e-01, -1.2716e+00,  5.2832e-01,  7.3691e-01,\n",
            "          4.8036e-01, -6.1202e-01, -3.4160e-01,  4.5122e-01,  1.7597e-01,\n",
            "         -1.5489e-01,  5.2817e-01, -1.3342e-01, -7.5934e-02, -2.2966e-01,\n",
            "          2.2743e-01, -2.6321e-01, -5.7958e-01, -5.4089e-03,  6.2625e-01,\n",
            "         -7.3257e-02, -3.0641e-01, -2.3903e-01,  1.7554e-01, -6.6489e-01,\n",
            "          4.8020e-03,  1.0117e-01,  4.0335e-01, -3.2588e-01,  6.4040e-01,\n",
            "         -3.7020e-01,  7.6817e-01,  1.3168e+00, -4.7706e-01,  9.7384e-01,\n",
            "          3.3635e-02, -1.5447e-01, -3.3739e-02, -3.6043e-02,  5.9267e-01,\n",
            "         -7.3216e-01,  3.9192e-01,  4.1477e-02,  3.1072e-01,  2.5855e-01,\n",
            "         -2.2989e-01,  5.5361e-01,  2.5136e-01,  9.3511e-02, -1.3407e-01,\n",
            "         -2.3198e-01, -3.3524e-01,  2.5610e-01,  7.9675e-01,  6.5616e-01,\n",
            "         -3.7338e-01,  6.7834e-01, -6.0349e-01,  4.7588e-01, -1.7724e-02,\n",
            "         -7.8035e-02, -9.9052e-02, -4.1675e-01, -6.8417e-02, -4.8676e-01,\n",
            "          2.4606e+00, -6.0871e-02,  9.4093e-02, -5.8043e-01,  2.8908e-01,\n",
            "          1.2672e-01,  2.0820e-01, -5.0449e-01, -1.9297e-01, -2.1730e-01,\n",
            "         -3.5318e-01,  1.7060e-01,  2.6878e-01, -6.8259e-02,  3.9177e-02,\n",
            "          2.8346e-01,  2.4450e-01,  1.5852e-02,  1.1737e+00, -1.1022e-01,\n",
            "          7.9424e-01, -2.4627e-01, -4.8107e-01,  8.0056e-02, -1.4014e+00,\n",
            "          1.6445e-01,  1.2509e-01, -1.0612e-01,  2.0615e-01, -1.7252e-01,\n",
            "          1.6925e-01, -1.4180e-01, -1.8576e-01,  2.6528e-01, -2.4866e-01,\n",
            "         -6.6107e-01,  4.9076e-01,  6.1329e-01, -6.6690e-01,  4.2048e-01,\n",
            "         -2.1794e-01, -2.5582e-01, -8.4000e-01, -4.4348e-02, -4.5241e-01,\n",
            "          6.6007e-01, -1.1956e-01,  7.0042e-02, -5.6829e-01,  6.2672e-02,\n",
            "         -1.1220e-01,  5.8400e-01,  2.5680e-01, -7.9376e-01, -5.9989e-01,\n",
            "         -2.8328e-01,  1.1557e-01, -2.7020e-01, -1.7156e-01, -6.7999e-01,\n",
            "         -5.3082e-01, -1.9846e-01, -7.5189e-03,  2.6218e-02, -5.1356e-01,\n",
            "          3.6911e-01, -6.8988e-01, -3.0725e-01, -1.2992e+00,  1.0497e-01,\n",
            "         -3.3559e-01,  5.4874e-01,  2.5895e-01, -2.2445e-01, -9.4344e-01,\n",
            "          2.5462e-01,  6.7818e-01, -3.9141e-01,  1.3172e-01,  5.0121e-01,\n",
            "          1.5948e-01, -1.4052e-01, -4.6678e-01, -3.2568e-02, -3.4642e-01,\n",
            "         -1.7156e-01,  1.2891e-01,  1.5876e-01,  1.0918e-01, -1.8485e-01,\n",
            "         -6.1196e-02, -3.2447e-01, -3.0309e-01,  7.6026e-02, -4.3727e-01,\n",
            "         -1.0032e-02,  3.9314e-01, -3.7399e-01, -1.1117e-01, -1.7152e-01,\n",
            "         -3.8649e-01,  1.3807e-01, -2.8287e-01, -4.4279e+00, -6.3397e-02,\n",
            "         -1.9414e-01, -5.0490e-01,  4.9917e-01, -2.2407e-02,  8.9415e-01,\n",
            "         -1.2374e-01, -8.1951e-01,  3.3105e-01,  2.6125e-01, -7.2656e-01,\n",
            "          9.9516e-01,  2.3761e-01,  6.8235e-01,  8.9969e-01,  7.4162e-01,\n",
            "          1.8613e-01,  8.4617e-01, -2.7384e-01,  1.8569e-01, -3.7010e-01,\n",
            "          2.9222e-01, -2.6462e-01,  4.3279e-01,  3.4073e-02, -6.2520e-01,\n",
            "          8.3683e-02,  3.8583e-02, -1.0799e-01,  1.8555e-01,  5.8757e-03,\n",
            "          1.0050e-01, -1.6161e-01, -6.2324e-01,  2.0218e-02,  8.5822e-01,\n",
            "          2.5967e-01,  1.1551e-01,  5.9542e-01,  2.2891e-03,  4.2954e-01,\n",
            "         -2.7996e-01,  3.2024e-01,  1.0593e+00, -2.2106e-01,  2.5614e-01,\n",
            "         -1.5504e-01,  8.5746e-02, -9.6883e-02,  1.7272e-01, -2.1713e-01,\n",
            "          7.0067e-01,  4.1996e-02, -3.3577e-01, -4.8576e-01,  5.7289e-01,\n",
            "          4.1986e-01, -5.9027e-01, -2.3007e-01,  9.7087e-01, -2.8521e-01,\n",
            "          3.0829e-01, -2.7289e-01,  3.3548e-01, -3.8174e-01,  2.7045e-01,\n",
            "         -7.4010e-01,  4.8639e-01,  9.8959e-02, -3.1658e-01,  5.9106e-01,\n",
            "         -3.7156e-01, -1.7164e+00,  1.5494e-01, -7.2880e-02, -5.4869e-02,\n",
            "          3.9459e-01,  5.4606e-02,  2.0924e-01, -2.1099e-01,  6.6985e-02,\n",
            "         -6.6061e-01,  1.4939e-01, -3.5653e-01, -1.1889e+00,  7.2616e-02,\n",
            "          7.9793e-02, -9.5991e-01, -9.6872e-02, -3.3000e-02,  7.5250e-02,\n",
            "          5.9190e-01,  1.9154e-01,  2.3694e-01,  2.7540e-01,  3.3937e-01,\n",
            "         -4.8604e-01, -5.9707e-02, -7.8230e-02,  3.7080e-01, -5.1227e-01,\n",
            "         -5.2397e-01, -7.9607e-01, -2.0821e-02, -1.9058e-01,  1.7907e-01,\n",
            "          6.9340e-01, -5.5210e-02, -7.6925e-02, -4.7177e-02, -4.1676e-01,\n",
            "          2.0005e-01,  5.3347e-02,  2.8159e-01, -2.3989e-01,  6.9974e-01,\n",
            "          1.0605e+00,  5.3794e-01,  1.5154e-01,  4.6170e-01,  8.4142e-01,\n",
            "         -1.0189e-01, -5.0270e-01, -7.8539e-02,  6.0839e-02,  3.4243e-03,\n",
            "         -1.0362e-02, -5.3099e-01,  9.3221e-02, -6.5245e-01, -2.6963e-01,\n",
            "         -3.7852e-01, -6.6378e-01,  3.6556e-01, -4.4964e-02, -4.6411e-01,\n",
            "          3.2204e-01,  4.9255e-01, -6.0908e-01,  4.1498e-01, -2.4270e-01,\n",
            "         -2.9059e-01,  4.6529e-02,  2.3177e-01,  6.2751e-01, -1.3437e-01,\n",
            "          2.0041e-01,  2.5313e-01,  4.2692e-02, -1.1002e+00, -1.5760e-01,\n",
            "          7.3446e-02, -1.5111e-01,  1.1920e-01, -2.2997e-01, -5.2082e-01,\n",
            "          9.8893e-02, -1.1282e-01, -4.1518e-01,  2.9299e-01,  1.8559e-01,\n",
            "         -1.6923e+00,  2.8617e-01,  1.1561e-01, -2.2172e-01, -1.7277e-02,\n",
            "         -4.5635e-01, -5.4833e-01,  7.6808e-01,  1.3150e-01,  2.9380e-01,\n",
            "         -5.2218e-01,  1.3666e-01, -2.9209e-01, -1.7121e-01,  9.3599e-02,\n",
            "         -6.4465e-01, -7.1382e-03, -1.4135e-01, -2.3139e-01,  2.8940e-01,\n",
            "         -1.3724e-01,  2.3145e-01,  9.2248e-01,  2.9987e-01, -9.5257e-02,\n",
            "          4.0127e-02, -2.5468e-01,  5.7061e-01, -1.3828e-01,  7.1919e-01,\n",
            "         -4.0017e-02,  8.8270e-02, -2.0023e-01, -2.5331e-01,  8.2185e-01,\n",
            "          6.3772e-01,  6.9053e-01, -6.1904e-01,  1.0048e+00,  6.4093e-01,\n",
            "         -1.2151e-02,  1.1322e-01,  3.3129e-01, -2.4108e-01,  4.2560e-01,\n",
            "          4.1819e-01,  1.0636e-01,  2.6827e-01,  2.0388e-01, -6.8713e-01,\n",
            "         -1.2248e+00, -2.6849e-01, -2.8816e-01, -5.2221e-01,  1.0667e+00,\n",
            "         -2.4261e-01, -8.4352e-01,  2.9586e-01, -6.2657e-01, -1.8032e-01,\n",
            "         -5.0606e-01, -1.8485e-01, -4.3051e-01, -2.6140e-01,  2.0219e-01,\n",
            "         -3.5766e-01, -2.4169e-01, -2.6506e-01, -3.0150e-02,  4.4203e-01,\n",
            "          7.8434e-01, -1.1747e-02, -9.0360e-01,  7.9206e-01,  6.0355e-02,\n",
            "          5.9583e-01, -3.2540e-03, -4.9205e-01, -7.6494e-01, -6.1758e-01,\n",
            "         -1.0953e-01, -9.5647e-01,  4.7757e-02,  9.6348e-01, -3.2476e-01,\n",
            "          1.1289e+00, -3.9143e-01, -3.2475e-01,  2.2776e-01,  4.8695e-01,\n",
            "         -6.5680e-01, -5.0729e-01, -2.9227e-01,  5.7321e-02, -3.7789e-01,\n",
            "         -5.3687e-01, -8.0685e-02, -1.5923e-02, -7.7172e-01,  3.1406e-01,\n",
            "          3.2266e-01, -1.0021e-01,  6.2379e-01,  6.4013e-02,  5.7439e-02,\n",
            "          2.4904e-03,  5.3539e-01, -1.2016e-01,  1.0142e-01, -2.4621e-01,\n",
            "          4.8788e-01, -5.0954e-01, -4.3165e-01, -1.9146e-01, -5.8209e-02,\n",
            "         -7.5697e-01,  3.4224e-01,  1.2325e-01,  1.0266e+00,  4.2440e-01,\n",
            "         -3.7429e-01, -3.4522e-01,  3.9287e-01, -1.4021e-02,  2.6561e-01,\n",
            "          6.1548e-01,  8.3810e-03,  2.8456e-01, -1.1121e-01,  5.8104e-01,\n",
            "         -1.4746e-01,  4.2014e-01,  5.5879e-01,  6.0455e-01,  2.8226e-01,\n",
            "         -9.3528e-01,  8.6681e-02,  1.3089e-01, -5.7700e-01,  3.4513e-01,\n",
            "          1.1476e-01, -9.3331e-02,  1.1880e-01,  3.7483e-01, -5.7884e-01,\n",
            "          6.8042e-02,  2.5476e-01,  1.3897e-01, -1.5058e-01,  2.1962e-02,\n",
            "          5.9472e-01,  6.4771e-01, -3.8598e-01, -1.9159e-01, -2.8636e-01,\n",
            "          2.6505e-01, -4.6440e-02,  4.1139e-01,  1.2473e-01, -6.2523e-01,\n",
            "          9.3698e-01, -5.8505e-02,  8.2437e-01,  6.7312e-01, -2.4109e-02,\n",
            "         -3.2650e-01,  6.5598e-01,  7.6383e-01,  5.1746e-01, -1.2342e-01,\n",
            "         -6.2262e-01, -2.5729e-03, -7.1873e-03, -5.5741e-01, -4.2263e-01,\n",
            "         -8.4837e-02, -1.4965e-01,  1.7494e-01,  2.2537e-01,  1.9241e-02,\n",
            "          1.0678e-01, -4.1487e-01, -5.4305e-01,  5.6981e-01, -3.6436e-01,\n",
            "          2.8209e-01,  5.5682e-01,  3.4523e-01,  1.5749e-01,  2.7093e-01,\n",
            "          7.7497e-02,  1.6376e-01,  7.9533e-01, -1.4106e-01,  1.4024e-01,\n",
            "          4.6094e-01, -1.1630e-01, -1.3619e+00,  2.0763e-01,  3.1655e-01,\n",
            "         -1.3610e-01, -1.0905e-01,  7.4394e-01,  5.8564e-01,  1.2920e-01,\n",
            "          2.9282e-01, -5.2670e-01, -1.9174e-01,  6.6188e-01,  4.7640e-02,\n",
            "         -1.2002e-01,  5.0772e-01,  3.7488e-02, -1.2223e-01, -1.7984e-01,\n",
            "         -5.2599e-01, -8.9171e-01,  1.9374e-01,  1.6740e-01, -3.6524e-02,\n",
            "         -7.9492e-01, -6.0079e-01,  3.2155e-01,  9.5977e-02, -9.2503e-01,\n",
            "          2.5740e-01,  3.0275e-01, -5.1255e-01, -3.2481e-01,  2.7299e-01,\n",
            "         -8.9193e-02, -6.9398e-03, -4.7160e-01, -6.6643e-01,  3.8332e-01,\n",
            "         -1.2467e-01, -4.0872e-02, -2.1230e-01,  7.9374e-01, -4.8796e-01,\n",
            "          9.8305e-02, -2.8946e-01, -6.4959e-01,  5.2561e-01, -6.2238e-01,\n",
            "          8.0009e-01, -4.4497e-01,  1.8443e-02,  4.7796e-01,  6.7116e-01,\n",
            "         -2.4396e-01,  5.7140e-01,  2.5476e-01,  4.9997e-01,  3.3259e-01,\n",
            "         -5.7036e-01, -8.9671e-01,  4.1640e-01, -5.3839e-03, -6.3121e-01,\n",
            "          1.0169e-01, -7.5680e-01,  2.9377e-01, -7.8179e-02, -9.8212e-02,\n",
            "          4.2566e-01, -4.6299e-01,  2.1587e-01, -7.1801e-01,  1.8640e-01,\n",
            "          5.0551e-01,  2.2493e-01,  7.7509e-02,  8.8448e-01, -9.4125e-02,\n",
            "          2.2574e-01, -4.2090e-01, -3.3000e-01,  7.5921e-02, -7.3747e-01,\n",
            "         -2.4874e-01, -7.6495e-03, -3.5705e+00,  9.6296e-02, -3.4967e-01,\n",
            "         -9.6476e-02,  2.9619e-01, -7.3480e-01, -3.3678e-01,  2.6872e-01,\n",
            "         -4.6531e-02,  4.3604e-02,  2.3543e-01,  1.0519e-01,  1.9312e-01,\n",
            "         -5.6425e-01,  3.9472e-01, -1.2272e-01]], grad_fn=<SliceBackward0>)\n"
          ]
        }
      ]
    },
    {
      "cell_type": "markdown",
      "source": [
        "// your comments"
      ],
      "metadata": {
        "id": "EmXQbb06xz3Q"
      }
    }
  ],
  "metadata": {
    "colab": {
      "provenance": [],
      "gpuType": "T4",
      "include_colab_link": true
    },
    "kernelspec": {
      "display_name": "Python 3",
      "name": "python3"
    },
    "language_info": {
      "codemirror_mode": {
        "name": "ipython",
        "version": 2
      },
      "file_extension": ".py",
      "mimetype": "text/x-python",
      "name": "python",
      "nbconvert_exporter": "python",
      "pygments_lexer": "ipython2",
      "version": "2.7.6"
    },
    "accelerator": "GPU",
    "widgets": {
      "application/vnd.jupyter.widget-state+json": {
        "b71473cbff8c47ed937153efa11be02a": {
          "model_module": "@jupyter-widgets/controls",
          "model_name": "HBoxModel",
          "model_module_version": "1.5.0",
          "state": {
            "_dom_classes": [],
            "_model_module": "@jupyter-widgets/controls",
            "_model_module_version": "1.5.0",
            "_model_name": "HBoxModel",
            "_view_count": null,
            "_view_module": "@jupyter-widgets/controls",
            "_view_module_version": "1.5.0",
            "_view_name": "HBoxView",
            "box_style": "",
            "children": [
              "IPY_MODEL_b5c066edfd8b4448ba2b41b9021773e4",
              "IPY_MODEL_d89863514715480f9698c82836e659c4",
              "IPY_MODEL_c49bd09873264fce89f913d7b8fd5774"
            ],
            "layout": "IPY_MODEL_222cfe7934574e4e8689c6ec27aca201"
          }
        },
        "b5c066edfd8b4448ba2b41b9021773e4": {
          "model_module": "@jupyter-widgets/controls",
          "model_name": "HTMLModel",
          "model_module_version": "1.5.0",
          "state": {
            "_dom_classes": [],
            "_model_module": "@jupyter-widgets/controls",
            "_model_module_version": "1.5.0",
            "_model_name": "HTMLModel",
            "_view_count": null,
            "_view_module": "@jupyter-widgets/controls",
            "_view_module_version": "1.5.0",
            "_view_name": "HTMLView",
            "description": "",
            "description_tooltip": null,
            "layout": "IPY_MODEL_c73ce6b26a4c41e69576c697799f5873",
            "placeholder": "​",
            "style": "IPY_MODEL_84076a89b0ef4081b3115d3eb3aac5d1",
            "value": "Downloading readme: 100%"
          }
        },
        "d89863514715480f9698c82836e659c4": {
          "model_module": "@jupyter-widgets/controls",
          "model_name": "FloatProgressModel",
          "model_module_version": "1.5.0",
          "state": {
            "_dom_classes": [],
            "_model_module": "@jupyter-widgets/controls",
            "_model_module_version": "1.5.0",
            "_model_name": "FloatProgressModel",
            "_view_count": null,
            "_view_module": "@jupyter-widgets/controls",
            "_view_module_version": "1.5.0",
            "_view_name": "ProgressView",
            "bar_style": "success",
            "description": "",
            "description_tooltip": null,
            "layout": "IPY_MODEL_aa76c03babe84bdfae5aa1df029cf902",
            "max": 4881,
            "min": 0,
            "orientation": "horizontal",
            "style": "IPY_MODEL_ad3bdba160e34607a1ec82f83242db92",
            "value": 4881
          }
        },
        "c49bd09873264fce89f913d7b8fd5774": {
          "model_module": "@jupyter-widgets/controls",
          "model_name": "HTMLModel",
          "model_module_version": "1.5.0",
          "state": {
            "_dom_classes": [],
            "_model_module": "@jupyter-widgets/controls",
            "_model_module_version": "1.5.0",
            "_model_name": "HTMLModel",
            "_view_count": null,
            "_view_module": "@jupyter-widgets/controls",
            "_view_module_version": "1.5.0",
            "_view_name": "HTMLView",
            "description": "",
            "description_tooltip": null,
            "layout": "IPY_MODEL_5d9f34dc4fd242ecb51769069ee2bc4e",
            "placeholder": "​",
            "style": "IPY_MODEL_0c775289a8654e218ccb56fb8e177410",
            "value": " 4.88k/4.88k [00:00&lt;00:00, 153kB/s]"
          }
        },
        "222cfe7934574e4e8689c6ec27aca201": {
          "model_module": "@jupyter-widgets/base",
          "model_name": "LayoutModel",
          "model_module_version": "1.2.0",
          "state": {
            "_model_module": "@jupyter-widgets/base",
            "_model_module_version": "1.2.0",
            "_model_name": "LayoutModel",
            "_view_count": null,
            "_view_module": "@jupyter-widgets/base",
            "_view_module_version": "1.2.0",
            "_view_name": "LayoutView",
            "align_content": null,
            "align_items": null,
            "align_self": null,
            "border": null,
            "bottom": null,
            "display": null,
            "flex": null,
            "flex_flow": null,
            "grid_area": null,
            "grid_auto_columns": null,
            "grid_auto_flow": null,
            "grid_auto_rows": null,
            "grid_column": null,
            "grid_gap": null,
            "grid_row": null,
            "grid_template_areas": null,
            "grid_template_columns": null,
            "grid_template_rows": null,
            "height": null,
            "justify_content": null,
            "justify_items": null,
            "left": null,
            "margin": null,
            "max_height": null,
            "max_width": null,
            "min_height": null,
            "min_width": null,
            "object_fit": null,
            "object_position": null,
            "order": null,
            "overflow": null,
            "overflow_x": null,
            "overflow_y": null,
            "padding": null,
            "right": null,
            "top": null,
            "visibility": null,
            "width": null
          }
        },
        "c73ce6b26a4c41e69576c697799f5873": {
          "model_module": "@jupyter-widgets/base",
          "model_name": "LayoutModel",
          "model_module_version": "1.2.0",
          "state": {
            "_model_module": "@jupyter-widgets/base",
            "_model_module_version": "1.2.0",
            "_model_name": "LayoutModel",
            "_view_count": null,
            "_view_module": "@jupyter-widgets/base",
            "_view_module_version": "1.2.0",
            "_view_name": "LayoutView",
            "align_content": null,
            "align_items": null,
            "align_self": null,
            "border": null,
            "bottom": null,
            "display": null,
            "flex": null,
            "flex_flow": null,
            "grid_area": null,
            "grid_auto_columns": null,
            "grid_auto_flow": null,
            "grid_auto_rows": null,
            "grid_column": null,
            "grid_gap": null,
            "grid_row": null,
            "grid_template_areas": null,
            "grid_template_columns": null,
            "grid_template_rows": null,
            "height": null,
            "justify_content": null,
            "justify_items": null,
            "left": null,
            "margin": null,
            "max_height": null,
            "max_width": null,
            "min_height": null,
            "min_width": null,
            "object_fit": null,
            "object_position": null,
            "order": null,
            "overflow": null,
            "overflow_x": null,
            "overflow_y": null,
            "padding": null,
            "right": null,
            "top": null,
            "visibility": null,
            "width": null
          }
        },
        "84076a89b0ef4081b3115d3eb3aac5d1": {
          "model_module": "@jupyter-widgets/controls",
          "model_name": "DescriptionStyleModel",
          "model_module_version": "1.5.0",
          "state": {
            "_model_module": "@jupyter-widgets/controls",
            "_model_module_version": "1.5.0",
            "_model_name": "DescriptionStyleModel",
            "_view_count": null,
            "_view_module": "@jupyter-widgets/base",
            "_view_module_version": "1.2.0",
            "_view_name": "StyleView",
            "description_width": ""
          }
        },
        "aa76c03babe84bdfae5aa1df029cf902": {
          "model_module": "@jupyter-widgets/base",
          "model_name": "LayoutModel",
          "model_module_version": "1.2.0",
          "state": {
            "_model_module": "@jupyter-widgets/base",
            "_model_module_version": "1.2.0",
            "_model_name": "LayoutModel",
            "_view_count": null,
            "_view_module": "@jupyter-widgets/base",
            "_view_module_version": "1.2.0",
            "_view_name": "LayoutView",
            "align_content": null,
            "align_items": null,
            "align_self": null,
            "border": null,
            "bottom": null,
            "display": null,
            "flex": null,
            "flex_flow": null,
            "grid_area": null,
            "grid_auto_columns": null,
            "grid_auto_flow": null,
            "grid_auto_rows": null,
            "grid_column": null,
            "grid_gap": null,
            "grid_row": null,
            "grid_template_areas": null,
            "grid_template_columns": null,
            "grid_template_rows": null,
            "height": null,
            "justify_content": null,
            "justify_items": null,
            "left": null,
            "margin": null,
            "max_height": null,
            "max_width": null,
            "min_height": null,
            "min_width": null,
            "object_fit": null,
            "object_position": null,
            "order": null,
            "overflow": null,
            "overflow_x": null,
            "overflow_y": null,
            "padding": null,
            "right": null,
            "top": null,
            "visibility": null,
            "width": null
          }
        },
        "ad3bdba160e34607a1ec82f83242db92": {
          "model_module": "@jupyter-widgets/controls",
          "model_name": "ProgressStyleModel",
          "model_module_version": "1.5.0",
          "state": {
            "_model_module": "@jupyter-widgets/controls",
            "_model_module_version": "1.5.0",
            "_model_name": "ProgressStyleModel",
            "_view_count": null,
            "_view_module": "@jupyter-widgets/base",
            "_view_module_version": "1.2.0",
            "_view_name": "StyleView",
            "bar_color": null,
            "description_width": ""
          }
        },
        "5d9f34dc4fd242ecb51769069ee2bc4e": {
          "model_module": "@jupyter-widgets/base",
          "model_name": "LayoutModel",
          "model_module_version": "1.2.0",
          "state": {
            "_model_module": "@jupyter-widgets/base",
            "_model_module_version": "1.2.0",
            "_model_name": "LayoutModel",
            "_view_count": null,
            "_view_module": "@jupyter-widgets/base",
            "_view_module_version": "1.2.0",
            "_view_name": "LayoutView",
            "align_content": null,
            "align_items": null,
            "align_self": null,
            "border": null,
            "bottom": null,
            "display": null,
            "flex": null,
            "flex_flow": null,
            "grid_area": null,
            "grid_auto_columns": null,
            "grid_auto_flow": null,
            "grid_auto_rows": null,
            "grid_column": null,
            "grid_gap": null,
            "grid_row": null,
            "grid_template_areas": null,
            "grid_template_columns": null,
            "grid_template_rows": null,
            "height": null,
            "justify_content": null,
            "justify_items": null,
            "left": null,
            "margin": null,
            "max_height": null,
            "max_width": null,
            "min_height": null,
            "min_width": null,
            "object_fit": null,
            "object_position": null,
            "order": null,
            "overflow": null,
            "overflow_x": null,
            "overflow_y": null,
            "padding": null,
            "right": null,
            "top": null,
            "visibility": null,
            "width": null
          }
        },
        "0c775289a8654e218ccb56fb8e177410": {
          "model_module": "@jupyter-widgets/controls",
          "model_name": "DescriptionStyleModel",
          "model_module_version": "1.5.0",
          "state": {
            "_model_module": "@jupyter-widgets/controls",
            "_model_module_version": "1.5.0",
            "_model_name": "DescriptionStyleModel",
            "_view_count": null,
            "_view_module": "@jupyter-widgets/base",
            "_view_module_version": "1.2.0",
            "_view_name": "StyleView",
            "description_width": ""
          }
        },
        "b8506cd1185a45938cc6e81abddfa3f1": {
          "model_module": "@jupyter-widgets/controls",
          "model_name": "HBoxModel",
          "model_module_version": "1.5.0",
          "state": {
            "_dom_classes": [],
            "_model_module": "@jupyter-widgets/controls",
            "_model_module_version": "1.5.0",
            "_model_name": "HBoxModel",
            "_view_count": null,
            "_view_module": "@jupyter-widgets/controls",
            "_view_module_version": "1.5.0",
            "_view_name": "HBoxView",
            "box_style": "",
            "children": [
              "IPY_MODEL_3202277fbae24f05b74f7872f62f7d61",
              "IPY_MODEL_50186e270bd8487fb789d59e9fc39a25",
              "IPY_MODEL_8f90cd031b004f1bb85eb9f8824c0636"
            ],
            "layout": "IPY_MODEL_57395469a82d48439be4af52f845996c"
          }
        },
        "3202277fbae24f05b74f7872f62f7d61": {
          "model_module": "@jupyter-widgets/controls",
          "model_name": "HTMLModel",
          "model_module_version": "1.5.0",
          "state": {
            "_dom_classes": [],
            "_model_module": "@jupyter-widgets/controls",
            "_model_module_version": "1.5.0",
            "_model_name": "HTMLModel",
            "_view_count": null,
            "_view_module": "@jupyter-widgets/controls",
            "_view_module_version": "1.5.0",
            "_view_name": "HTMLView",
            "description": "",
            "description_tooltip": null,
            "layout": "IPY_MODEL_d1e6e157527048a6a54ff0706cff424a",
            "placeholder": "​",
            "style": "IPY_MODEL_a852bf8c664d4fc2aacb6401e427c4b0",
            "value": "Downloading data: 100%"
          }
        },
        "50186e270bd8487fb789d59e9fc39a25": {
          "model_module": "@jupyter-widgets/controls",
          "model_name": "FloatProgressModel",
          "model_module_version": "1.5.0",
          "state": {
            "_dom_classes": [],
            "_model_module": "@jupyter-widgets/controls",
            "_model_module_version": "1.5.0",
            "_model_name": "FloatProgressModel",
            "_view_count": null,
            "_view_module": "@jupyter-widgets/controls",
            "_view_module_version": "1.5.0",
            "_view_name": "ProgressView",
            "bar_style": "success",
            "description": "",
            "description_tooltip": null,
            "layout": "IPY_MODEL_db54c5ec8d084bc192e0d9f755bc6011",
            "max": 14234582,
            "min": 0,
            "orientation": "horizontal",
            "style": "IPY_MODEL_188a26170cd94b3e91cd8ca9ac2fecbe",
            "value": 14234582
          }
        },
        "8f90cd031b004f1bb85eb9f8824c0636": {
          "model_module": "@jupyter-widgets/controls",
          "model_name": "HTMLModel",
          "model_module_version": "1.5.0",
          "state": {
            "_dom_classes": [],
            "_model_module": "@jupyter-widgets/controls",
            "_model_module_version": "1.5.0",
            "_model_name": "HTMLModel",
            "_view_count": null,
            "_view_module": "@jupyter-widgets/controls",
            "_view_module_version": "1.5.0",
            "_view_name": "HTMLView",
            "description": "",
            "description_tooltip": null,
            "layout": "IPY_MODEL_b4331a1460d6416e8a97218a88203add",
            "placeholder": "​",
            "style": "IPY_MODEL_1ecc5e26f5964188864b0743d9464817",
            "value": " 14.2M/14.2M [00:00&lt;00:00, 19.5MB/s]"
          }
        },
        "57395469a82d48439be4af52f845996c": {
          "model_module": "@jupyter-widgets/base",
          "model_name": "LayoutModel",
          "model_module_version": "1.2.0",
          "state": {
            "_model_module": "@jupyter-widgets/base",
            "_model_module_version": "1.2.0",
            "_model_name": "LayoutModel",
            "_view_count": null,
            "_view_module": "@jupyter-widgets/base",
            "_view_module_version": "1.2.0",
            "_view_name": "LayoutView",
            "align_content": null,
            "align_items": null,
            "align_self": null,
            "border": null,
            "bottom": null,
            "display": null,
            "flex": null,
            "flex_flow": null,
            "grid_area": null,
            "grid_auto_columns": null,
            "grid_auto_flow": null,
            "grid_auto_rows": null,
            "grid_column": null,
            "grid_gap": null,
            "grid_row": null,
            "grid_template_areas": null,
            "grid_template_columns": null,
            "grid_template_rows": null,
            "height": null,
            "justify_content": null,
            "justify_items": null,
            "left": null,
            "margin": null,
            "max_height": null,
            "max_width": null,
            "min_height": null,
            "min_width": null,
            "object_fit": null,
            "object_position": null,
            "order": null,
            "overflow": null,
            "overflow_x": null,
            "overflow_y": null,
            "padding": null,
            "right": null,
            "top": null,
            "visibility": null,
            "width": null
          }
        },
        "d1e6e157527048a6a54ff0706cff424a": {
          "model_module": "@jupyter-widgets/base",
          "model_name": "LayoutModel",
          "model_module_version": "1.2.0",
          "state": {
            "_model_module": "@jupyter-widgets/base",
            "_model_module_version": "1.2.0",
            "_model_name": "LayoutModel",
            "_view_count": null,
            "_view_module": "@jupyter-widgets/base",
            "_view_module_version": "1.2.0",
            "_view_name": "LayoutView",
            "align_content": null,
            "align_items": null,
            "align_self": null,
            "border": null,
            "bottom": null,
            "display": null,
            "flex": null,
            "flex_flow": null,
            "grid_area": null,
            "grid_auto_columns": null,
            "grid_auto_flow": null,
            "grid_auto_rows": null,
            "grid_column": null,
            "grid_gap": null,
            "grid_row": null,
            "grid_template_areas": null,
            "grid_template_columns": null,
            "grid_template_rows": null,
            "height": null,
            "justify_content": null,
            "justify_items": null,
            "left": null,
            "margin": null,
            "max_height": null,
            "max_width": null,
            "min_height": null,
            "min_width": null,
            "object_fit": null,
            "object_position": null,
            "order": null,
            "overflow": null,
            "overflow_x": null,
            "overflow_y": null,
            "padding": null,
            "right": null,
            "top": null,
            "visibility": null,
            "width": null
          }
        },
        "a852bf8c664d4fc2aacb6401e427c4b0": {
          "model_module": "@jupyter-widgets/controls",
          "model_name": "DescriptionStyleModel",
          "model_module_version": "1.5.0",
          "state": {
            "_model_module": "@jupyter-widgets/controls",
            "_model_module_version": "1.5.0",
            "_model_name": "DescriptionStyleModel",
            "_view_count": null,
            "_view_module": "@jupyter-widgets/base",
            "_view_module_version": "1.2.0",
            "_view_name": "StyleView",
            "description_width": ""
          }
        },
        "db54c5ec8d084bc192e0d9f755bc6011": {
          "model_module": "@jupyter-widgets/base",
          "model_name": "LayoutModel",
          "model_module_version": "1.2.0",
          "state": {
            "_model_module": "@jupyter-widgets/base",
            "_model_module_version": "1.2.0",
            "_model_name": "LayoutModel",
            "_view_count": null,
            "_view_module": "@jupyter-widgets/base",
            "_view_module_version": "1.2.0",
            "_view_name": "LayoutView",
            "align_content": null,
            "align_items": null,
            "align_self": null,
            "border": null,
            "bottom": null,
            "display": null,
            "flex": null,
            "flex_flow": null,
            "grid_area": null,
            "grid_auto_columns": null,
            "grid_auto_flow": null,
            "grid_auto_rows": null,
            "grid_column": null,
            "grid_gap": null,
            "grid_row": null,
            "grid_template_areas": null,
            "grid_template_columns": null,
            "grid_template_rows": null,
            "height": null,
            "justify_content": null,
            "justify_items": null,
            "left": null,
            "margin": null,
            "max_height": null,
            "max_width": null,
            "min_height": null,
            "min_width": null,
            "object_fit": null,
            "object_position": null,
            "order": null,
            "overflow": null,
            "overflow_x": null,
            "overflow_y": null,
            "padding": null,
            "right": null,
            "top": null,
            "visibility": null,
            "width": null
          }
        },
        "188a26170cd94b3e91cd8ca9ac2fecbe": {
          "model_module": "@jupyter-widgets/controls",
          "model_name": "ProgressStyleModel",
          "model_module_version": "1.5.0",
          "state": {
            "_model_module": "@jupyter-widgets/controls",
            "_model_module_version": "1.5.0",
            "_model_name": "ProgressStyleModel",
            "_view_count": null,
            "_view_module": "@jupyter-widgets/base",
            "_view_module_version": "1.2.0",
            "_view_name": "StyleView",
            "bar_color": null,
            "description_width": ""
          }
        },
        "b4331a1460d6416e8a97218a88203add": {
          "model_module": "@jupyter-widgets/base",
          "model_name": "LayoutModel",
          "model_module_version": "1.2.0",
          "state": {
            "_model_module": "@jupyter-widgets/base",
            "_model_module_version": "1.2.0",
            "_model_name": "LayoutModel",
            "_view_count": null,
            "_view_module": "@jupyter-widgets/base",
            "_view_module_version": "1.2.0",
            "_view_name": "LayoutView",
            "align_content": null,
            "align_items": null,
            "align_self": null,
            "border": null,
            "bottom": null,
            "display": null,
            "flex": null,
            "flex_flow": null,
            "grid_area": null,
            "grid_auto_columns": null,
            "grid_auto_flow": null,
            "grid_auto_rows": null,
            "grid_column": null,
            "grid_gap": null,
            "grid_row": null,
            "grid_template_areas": null,
            "grid_template_columns": null,
            "grid_template_rows": null,
            "height": null,
            "justify_content": null,
            "justify_items": null,
            "left": null,
            "margin": null,
            "max_height": null,
            "max_width": null,
            "min_height": null,
            "min_width": null,
            "object_fit": null,
            "object_position": null,
            "order": null,
            "overflow": null,
            "overflow_x": null,
            "overflow_y": null,
            "padding": null,
            "right": null,
            "top": null,
            "visibility": null,
            "width": null
          }
        },
        "1ecc5e26f5964188864b0743d9464817": {
          "model_module": "@jupyter-widgets/controls",
          "model_name": "DescriptionStyleModel",
          "model_module_version": "1.5.0",
          "state": {
            "_model_module": "@jupyter-widgets/controls",
            "_model_module_version": "1.5.0",
            "_model_name": "DescriptionStyleModel",
            "_view_count": null,
            "_view_module": "@jupyter-widgets/base",
            "_view_module_version": "1.2.0",
            "_view_name": "StyleView",
            "description_width": ""
          }
        },
        "f89f9d451a18457da6365c15fa62f9ae": {
          "model_module": "@jupyter-widgets/controls",
          "model_name": "HBoxModel",
          "model_module_version": "1.5.0",
          "state": {
            "_dom_classes": [],
            "_model_module": "@jupyter-widgets/controls",
            "_model_module_version": "1.5.0",
            "_model_name": "HBoxModel",
            "_view_count": null,
            "_view_module": "@jupyter-widgets/controls",
            "_view_module_version": "1.5.0",
            "_view_name": "HBoxView",
            "box_style": "",
            "children": [
              "IPY_MODEL_62d89a2b2cf646c4ad4fb3780ba7efa1",
              "IPY_MODEL_e38d4328408e437092debbc3d04e5944",
              "IPY_MODEL_ed7ef440f9a2473f946d39d0f516e7a7"
            ],
            "layout": "IPY_MODEL_d091774770714b70a9a5ed72249ef066"
          }
        },
        "62d89a2b2cf646c4ad4fb3780ba7efa1": {
          "model_module": "@jupyter-widgets/controls",
          "model_name": "HTMLModel",
          "model_module_version": "1.5.0",
          "state": {
            "_dom_classes": [],
            "_model_module": "@jupyter-widgets/controls",
            "_model_module_version": "1.5.0",
            "_model_name": "HTMLModel",
            "_view_count": null,
            "_view_module": "@jupyter-widgets/controls",
            "_view_module_version": "1.5.0",
            "_view_name": "HTMLView",
            "description": "",
            "description_tooltip": null,
            "layout": "IPY_MODEL_123dac6b2be64e5a9ba696ea348affc9",
            "placeholder": "​",
            "style": "IPY_MODEL_f89944da6bb7455996b05adc34de7760",
            "value": "Generating train split: "
          }
        },
        "e38d4328408e437092debbc3d04e5944": {
          "model_module": "@jupyter-widgets/controls",
          "model_name": "FloatProgressModel",
          "model_module_version": "1.5.0",
          "state": {
            "_dom_classes": [],
            "_model_module": "@jupyter-widgets/controls",
            "_model_module_version": "1.5.0",
            "_model_name": "FloatProgressModel",
            "_view_count": null,
            "_view_module": "@jupyter-widgets/controls",
            "_view_module_version": "1.5.0",
            "_view_name": "ProgressView",
            "bar_style": "success",
            "description": "",
            "description_tooltip": null,
            "layout": "IPY_MODEL_ef4450e99e0c4f2c948807cf517fa3ac",
            "max": 1,
            "min": 0,
            "orientation": "horizontal",
            "style": "IPY_MODEL_f139fd57e4eb439499eeb5393146bfd2",
            "value": 1
          }
        },
        "ed7ef440f9a2473f946d39d0f516e7a7": {
          "model_module": "@jupyter-widgets/controls",
          "model_name": "HTMLModel",
          "model_module_version": "1.5.0",
          "state": {
            "_dom_classes": [],
            "_model_module": "@jupyter-widgets/controls",
            "_model_module_version": "1.5.0",
            "_model_name": "HTMLModel",
            "_view_count": null,
            "_view_module": "@jupyter-widgets/controls",
            "_view_module_version": "1.5.0",
            "_view_name": "HTMLView",
            "description": "",
            "description_tooltip": null,
            "layout": "IPY_MODEL_7f5af9f8150b47cfb48951b04b497177",
            "placeholder": "​",
            "style": "IPY_MODEL_367684fa11d24ebe8135392952ef2e31",
            "value": " 180000/0 [00:00&lt;00:00, 264045.99 examples/s]"
          }
        },
        "d091774770714b70a9a5ed72249ef066": {
          "model_module": "@jupyter-widgets/base",
          "model_name": "LayoutModel",
          "model_module_version": "1.2.0",
          "state": {
            "_model_module": "@jupyter-widgets/base",
            "_model_module_version": "1.2.0",
            "_model_name": "LayoutModel",
            "_view_count": null,
            "_view_module": "@jupyter-widgets/base",
            "_view_module_version": "1.2.0",
            "_view_name": "LayoutView",
            "align_content": null,
            "align_items": null,
            "align_self": null,
            "border": null,
            "bottom": null,
            "display": null,
            "flex": null,
            "flex_flow": null,
            "grid_area": null,
            "grid_auto_columns": null,
            "grid_auto_flow": null,
            "grid_auto_rows": null,
            "grid_column": null,
            "grid_gap": null,
            "grid_row": null,
            "grid_template_areas": null,
            "grid_template_columns": null,
            "grid_template_rows": null,
            "height": null,
            "justify_content": null,
            "justify_items": null,
            "left": null,
            "margin": null,
            "max_height": null,
            "max_width": null,
            "min_height": null,
            "min_width": null,
            "object_fit": null,
            "object_position": null,
            "order": null,
            "overflow": null,
            "overflow_x": null,
            "overflow_y": null,
            "padding": null,
            "right": null,
            "top": null,
            "visibility": null,
            "width": null
          }
        },
        "123dac6b2be64e5a9ba696ea348affc9": {
          "model_module": "@jupyter-widgets/base",
          "model_name": "LayoutModel",
          "model_module_version": "1.2.0",
          "state": {
            "_model_module": "@jupyter-widgets/base",
            "_model_module_version": "1.2.0",
            "_model_name": "LayoutModel",
            "_view_count": null,
            "_view_module": "@jupyter-widgets/base",
            "_view_module_version": "1.2.0",
            "_view_name": "LayoutView",
            "align_content": null,
            "align_items": null,
            "align_self": null,
            "border": null,
            "bottom": null,
            "display": null,
            "flex": null,
            "flex_flow": null,
            "grid_area": null,
            "grid_auto_columns": null,
            "grid_auto_flow": null,
            "grid_auto_rows": null,
            "grid_column": null,
            "grid_gap": null,
            "grid_row": null,
            "grid_template_areas": null,
            "grid_template_columns": null,
            "grid_template_rows": null,
            "height": null,
            "justify_content": null,
            "justify_items": null,
            "left": null,
            "margin": null,
            "max_height": null,
            "max_width": null,
            "min_height": null,
            "min_width": null,
            "object_fit": null,
            "object_position": null,
            "order": null,
            "overflow": null,
            "overflow_x": null,
            "overflow_y": null,
            "padding": null,
            "right": null,
            "top": null,
            "visibility": null,
            "width": null
          }
        },
        "f89944da6bb7455996b05adc34de7760": {
          "model_module": "@jupyter-widgets/controls",
          "model_name": "DescriptionStyleModel",
          "model_module_version": "1.5.0",
          "state": {
            "_model_module": "@jupyter-widgets/controls",
            "_model_module_version": "1.5.0",
            "_model_name": "DescriptionStyleModel",
            "_view_count": null,
            "_view_module": "@jupyter-widgets/base",
            "_view_module_version": "1.2.0",
            "_view_name": "StyleView",
            "description_width": ""
          }
        },
        "ef4450e99e0c4f2c948807cf517fa3ac": {
          "model_module": "@jupyter-widgets/base",
          "model_name": "LayoutModel",
          "model_module_version": "1.2.0",
          "state": {
            "_model_module": "@jupyter-widgets/base",
            "_model_module_version": "1.2.0",
            "_model_name": "LayoutModel",
            "_view_count": null,
            "_view_module": "@jupyter-widgets/base",
            "_view_module_version": "1.2.0",
            "_view_name": "LayoutView",
            "align_content": null,
            "align_items": null,
            "align_self": null,
            "border": null,
            "bottom": null,
            "display": null,
            "flex": null,
            "flex_flow": null,
            "grid_area": null,
            "grid_auto_columns": null,
            "grid_auto_flow": null,
            "grid_auto_rows": null,
            "grid_column": null,
            "grid_gap": null,
            "grid_row": null,
            "grid_template_areas": null,
            "grid_template_columns": null,
            "grid_template_rows": null,
            "height": null,
            "justify_content": null,
            "justify_items": null,
            "left": null,
            "margin": null,
            "max_height": null,
            "max_width": null,
            "min_height": null,
            "min_width": null,
            "object_fit": null,
            "object_position": null,
            "order": null,
            "overflow": null,
            "overflow_x": null,
            "overflow_y": null,
            "padding": null,
            "right": null,
            "top": null,
            "visibility": null,
            "width": "20px"
          }
        },
        "f139fd57e4eb439499eeb5393146bfd2": {
          "model_module": "@jupyter-widgets/controls",
          "model_name": "ProgressStyleModel",
          "model_module_version": "1.5.0",
          "state": {
            "_model_module": "@jupyter-widgets/controls",
            "_model_module_version": "1.5.0",
            "_model_name": "ProgressStyleModel",
            "_view_count": null,
            "_view_module": "@jupyter-widgets/base",
            "_view_module_version": "1.2.0",
            "_view_name": "StyleView",
            "bar_color": null,
            "description_width": ""
          }
        },
        "7f5af9f8150b47cfb48951b04b497177": {
          "model_module": "@jupyter-widgets/base",
          "model_name": "LayoutModel",
          "model_module_version": "1.2.0",
          "state": {
            "_model_module": "@jupyter-widgets/base",
            "_model_module_version": "1.2.0",
            "_model_name": "LayoutModel",
            "_view_count": null,
            "_view_module": "@jupyter-widgets/base",
            "_view_module_version": "1.2.0",
            "_view_name": "LayoutView",
            "align_content": null,
            "align_items": null,
            "align_self": null,
            "border": null,
            "bottom": null,
            "display": null,
            "flex": null,
            "flex_flow": null,
            "grid_area": null,
            "grid_auto_columns": null,
            "grid_auto_flow": null,
            "grid_auto_rows": null,
            "grid_column": null,
            "grid_gap": null,
            "grid_row": null,
            "grid_template_areas": null,
            "grid_template_columns": null,
            "grid_template_rows": null,
            "height": null,
            "justify_content": null,
            "justify_items": null,
            "left": null,
            "margin": null,
            "max_height": null,
            "max_width": null,
            "min_height": null,
            "min_width": null,
            "object_fit": null,
            "object_position": null,
            "order": null,
            "overflow": null,
            "overflow_x": null,
            "overflow_y": null,
            "padding": null,
            "right": null,
            "top": null,
            "visibility": null,
            "width": null
          }
        },
        "367684fa11d24ebe8135392952ef2e31": {
          "model_module": "@jupyter-widgets/controls",
          "model_name": "DescriptionStyleModel",
          "model_module_version": "1.5.0",
          "state": {
            "_model_module": "@jupyter-widgets/controls",
            "_model_module_version": "1.5.0",
            "_model_name": "DescriptionStyleModel",
            "_view_count": null,
            "_view_module": "@jupyter-widgets/base",
            "_view_module_version": "1.2.0",
            "_view_name": "StyleView",
            "description_width": ""
          }
        },
        "4d40158f6f6540babf48b6b938c774c7": {
          "model_module": "@jupyter-widgets/controls",
          "model_name": "HBoxModel",
          "model_module_version": "1.5.0",
          "state": {
            "_dom_classes": [],
            "_model_module": "@jupyter-widgets/controls",
            "_model_module_version": "1.5.0",
            "_model_name": "HBoxModel",
            "_view_count": null,
            "_view_module": "@jupyter-widgets/controls",
            "_view_module_version": "1.5.0",
            "_view_name": "HBoxView",
            "box_style": "",
            "children": [
              "IPY_MODEL_ae9149e14a534d908b2becfde9618c3e",
              "IPY_MODEL_a0c2da126e754340bfa9e4a02cb1b082",
              "IPY_MODEL_cf6b3133845e4f7dba48c1f7168b9e74"
            ],
            "layout": "IPY_MODEL_470f77c18d5f4f18b052ede93cc44640"
          }
        },
        "ae9149e14a534d908b2becfde9618c3e": {
          "model_module": "@jupyter-widgets/controls",
          "model_name": "HTMLModel",
          "model_module_version": "1.5.0",
          "state": {
            "_dom_classes": [],
            "_model_module": "@jupyter-widgets/controls",
            "_model_module_version": "1.5.0",
            "_model_name": "HTMLModel",
            "_view_count": null,
            "_view_module": "@jupyter-widgets/controls",
            "_view_module_version": "1.5.0",
            "_view_name": "HTMLView",
            "description": "",
            "description_tooltip": null,
            "layout": "IPY_MODEL_42fb0130fcb6499d9c6eee4f63d69ab7",
            "placeholder": "​",
            "style": "IPY_MODEL_2b1c9c1a2eec4416b0e30a5b3fb5eabd",
            "value": "Map: 100%"
          }
        },
        "a0c2da126e754340bfa9e4a02cb1b082": {
          "model_module": "@jupyter-widgets/controls",
          "model_name": "FloatProgressModel",
          "model_module_version": "1.5.0",
          "state": {
            "_dom_classes": [],
            "_model_module": "@jupyter-widgets/controls",
            "_model_module_version": "1.5.0",
            "_model_name": "FloatProgressModel",
            "_view_count": null,
            "_view_module": "@jupyter-widgets/controls",
            "_view_module_version": "1.5.0",
            "_view_name": "ProgressView",
            "bar_style": "success",
            "description": "",
            "description_tooltip": null,
            "layout": "IPY_MODEL_5156bc78ff2844bfbca0ea1cc1b99ac5",
            "max": 144000,
            "min": 0,
            "orientation": "horizontal",
            "style": "IPY_MODEL_2caf16c79a6d4b3cb38f4d418908750c",
            "value": 144000
          }
        },
        "cf6b3133845e4f7dba48c1f7168b9e74": {
          "model_module": "@jupyter-widgets/controls",
          "model_name": "HTMLModel",
          "model_module_version": "1.5.0",
          "state": {
            "_dom_classes": [],
            "_model_module": "@jupyter-widgets/controls",
            "_model_module_version": "1.5.0",
            "_model_name": "HTMLModel",
            "_view_count": null,
            "_view_module": "@jupyter-widgets/controls",
            "_view_module_version": "1.5.0",
            "_view_name": "HTMLView",
            "description": "",
            "description_tooltip": null,
            "layout": "IPY_MODEL_08d24d317ea24904b1e700a5cb17d824",
            "placeholder": "​",
            "style": "IPY_MODEL_2ccedefe7d244ceeaf4806d3bbaa081e",
            "value": " 144000/144000 [00:06&lt;00:00, 27442.36 examples/s]"
          }
        },
        "470f77c18d5f4f18b052ede93cc44640": {
          "model_module": "@jupyter-widgets/base",
          "model_name": "LayoutModel",
          "model_module_version": "1.2.0",
          "state": {
            "_model_module": "@jupyter-widgets/base",
            "_model_module_version": "1.2.0",
            "_model_name": "LayoutModel",
            "_view_count": null,
            "_view_module": "@jupyter-widgets/base",
            "_view_module_version": "1.2.0",
            "_view_name": "LayoutView",
            "align_content": null,
            "align_items": null,
            "align_self": null,
            "border": null,
            "bottom": null,
            "display": null,
            "flex": null,
            "flex_flow": null,
            "grid_area": null,
            "grid_auto_columns": null,
            "grid_auto_flow": null,
            "grid_auto_rows": null,
            "grid_column": null,
            "grid_gap": null,
            "grid_row": null,
            "grid_template_areas": null,
            "grid_template_columns": null,
            "grid_template_rows": null,
            "height": null,
            "justify_content": null,
            "justify_items": null,
            "left": null,
            "margin": null,
            "max_height": null,
            "max_width": null,
            "min_height": null,
            "min_width": null,
            "object_fit": null,
            "object_position": null,
            "order": null,
            "overflow": null,
            "overflow_x": null,
            "overflow_y": null,
            "padding": null,
            "right": null,
            "top": null,
            "visibility": null,
            "width": null
          }
        },
        "42fb0130fcb6499d9c6eee4f63d69ab7": {
          "model_module": "@jupyter-widgets/base",
          "model_name": "LayoutModel",
          "model_module_version": "1.2.0",
          "state": {
            "_model_module": "@jupyter-widgets/base",
            "_model_module_version": "1.2.0",
            "_model_name": "LayoutModel",
            "_view_count": null,
            "_view_module": "@jupyter-widgets/base",
            "_view_module_version": "1.2.0",
            "_view_name": "LayoutView",
            "align_content": null,
            "align_items": null,
            "align_self": null,
            "border": null,
            "bottom": null,
            "display": null,
            "flex": null,
            "flex_flow": null,
            "grid_area": null,
            "grid_auto_columns": null,
            "grid_auto_flow": null,
            "grid_auto_rows": null,
            "grid_column": null,
            "grid_gap": null,
            "grid_row": null,
            "grid_template_areas": null,
            "grid_template_columns": null,
            "grid_template_rows": null,
            "height": null,
            "justify_content": null,
            "justify_items": null,
            "left": null,
            "margin": null,
            "max_height": null,
            "max_width": null,
            "min_height": null,
            "min_width": null,
            "object_fit": null,
            "object_position": null,
            "order": null,
            "overflow": null,
            "overflow_x": null,
            "overflow_y": null,
            "padding": null,
            "right": null,
            "top": null,
            "visibility": null,
            "width": null
          }
        },
        "2b1c9c1a2eec4416b0e30a5b3fb5eabd": {
          "model_module": "@jupyter-widgets/controls",
          "model_name": "DescriptionStyleModel",
          "model_module_version": "1.5.0",
          "state": {
            "_model_module": "@jupyter-widgets/controls",
            "_model_module_version": "1.5.0",
            "_model_name": "DescriptionStyleModel",
            "_view_count": null,
            "_view_module": "@jupyter-widgets/base",
            "_view_module_version": "1.2.0",
            "_view_name": "StyleView",
            "description_width": ""
          }
        },
        "5156bc78ff2844bfbca0ea1cc1b99ac5": {
          "model_module": "@jupyter-widgets/base",
          "model_name": "LayoutModel",
          "model_module_version": "1.2.0",
          "state": {
            "_model_module": "@jupyter-widgets/base",
            "_model_module_version": "1.2.0",
            "_model_name": "LayoutModel",
            "_view_count": null,
            "_view_module": "@jupyter-widgets/base",
            "_view_module_version": "1.2.0",
            "_view_name": "LayoutView",
            "align_content": null,
            "align_items": null,
            "align_self": null,
            "border": null,
            "bottom": null,
            "display": null,
            "flex": null,
            "flex_flow": null,
            "grid_area": null,
            "grid_auto_columns": null,
            "grid_auto_flow": null,
            "grid_auto_rows": null,
            "grid_column": null,
            "grid_gap": null,
            "grid_row": null,
            "grid_template_areas": null,
            "grid_template_columns": null,
            "grid_template_rows": null,
            "height": null,
            "justify_content": null,
            "justify_items": null,
            "left": null,
            "margin": null,
            "max_height": null,
            "max_width": null,
            "min_height": null,
            "min_width": null,
            "object_fit": null,
            "object_position": null,
            "order": null,
            "overflow": null,
            "overflow_x": null,
            "overflow_y": null,
            "padding": null,
            "right": null,
            "top": null,
            "visibility": null,
            "width": null
          }
        },
        "2caf16c79a6d4b3cb38f4d418908750c": {
          "model_module": "@jupyter-widgets/controls",
          "model_name": "ProgressStyleModel",
          "model_module_version": "1.5.0",
          "state": {
            "_model_module": "@jupyter-widgets/controls",
            "_model_module_version": "1.5.0",
            "_model_name": "ProgressStyleModel",
            "_view_count": null,
            "_view_module": "@jupyter-widgets/base",
            "_view_module_version": "1.2.0",
            "_view_name": "StyleView",
            "bar_color": null,
            "description_width": ""
          }
        },
        "08d24d317ea24904b1e700a5cb17d824": {
          "model_module": "@jupyter-widgets/base",
          "model_name": "LayoutModel",
          "model_module_version": "1.2.0",
          "state": {
            "_model_module": "@jupyter-widgets/base",
            "_model_module_version": "1.2.0",
            "_model_name": "LayoutModel",
            "_view_count": null,
            "_view_module": "@jupyter-widgets/base",
            "_view_module_version": "1.2.0",
            "_view_name": "LayoutView",
            "align_content": null,
            "align_items": null,
            "align_self": null,
            "border": null,
            "bottom": null,
            "display": null,
            "flex": null,
            "flex_flow": null,
            "grid_area": null,
            "grid_auto_columns": null,
            "grid_auto_flow": null,
            "grid_auto_rows": null,
            "grid_column": null,
            "grid_gap": null,
            "grid_row": null,
            "grid_template_areas": null,
            "grid_template_columns": null,
            "grid_template_rows": null,
            "height": null,
            "justify_content": null,
            "justify_items": null,
            "left": null,
            "margin": null,
            "max_height": null,
            "max_width": null,
            "min_height": null,
            "min_width": null,
            "object_fit": null,
            "object_position": null,
            "order": null,
            "overflow": null,
            "overflow_x": null,
            "overflow_y": null,
            "padding": null,
            "right": null,
            "top": null,
            "visibility": null,
            "width": null
          }
        },
        "2ccedefe7d244ceeaf4806d3bbaa081e": {
          "model_module": "@jupyter-widgets/controls",
          "model_name": "DescriptionStyleModel",
          "model_module_version": "1.5.0",
          "state": {
            "_model_module": "@jupyter-widgets/controls",
            "_model_module_version": "1.5.0",
            "_model_name": "DescriptionStyleModel",
            "_view_count": null,
            "_view_module": "@jupyter-widgets/base",
            "_view_module_version": "1.2.0",
            "_view_name": "StyleView",
            "description_width": ""
          }
        },
        "8ab0c2bdce2e4821ab0e3711212ff89a": {
          "model_module": "@jupyter-widgets/controls",
          "model_name": "HBoxModel",
          "model_module_version": "1.5.0",
          "state": {
            "_dom_classes": [],
            "_model_module": "@jupyter-widgets/controls",
            "_model_module_version": "1.5.0",
            "_model_name": "HBoxModel",
            "_view_count": null,
            "_view_module": "@jupyter-widgets/controls",
            "_view_module_version": "1.5.0",
            "_view_name": "HBoxView",
            "box_style": "",
            "children": [
              "IPY_MODEL_94c2cb10a8ca490090ab86c2a36ccda1",
              "IPY_MODEL_fda4ce7161854dd997db17e39f70e74c",
              "IPY_MODEL_e76ddc33b7394d3ba6567a66c8bff10d"
            ],
            "layout": "IPY_MODEL_d7ef391c713945eda0b7b6feaaf89d37"
          }
        },
        "94c2cb10a8ca490090ab86c2a36ccda1": {
          "model_module": "@jupyter-widgets/controls",
          "model_name": "HTMLModel",
          "model_module_version": "1.5.0",
          "state": {
            "_dom_classes": [],
            "_model_module": "@jupyter-widgets/controls",
            "_model_module_version": "1.5.0",
            "_model_name": "HTMLModel",
            "_view_count": null,
            "_view_module": "@jupyter-widgets/controls",
            "_view_module_version": "1.5.0",
            "_view_name": "HTMLView",
            "description": "",
            "description_tooltip": null,
            "layout": "IPY_MODEL_21a65bc8f0a6405baf8f99bec0394b18",
            "placeholder": "​",
            "style": "IPY_MODEL_85b8397d1ba7499987f9fad342ba1104",
            "value": "Map: 100%"
          }
        },
        "fda4ce7161854dd997db17e39f70e74c": {
          "model_module": "@jupyter-widgets/controls",
          "model_name": "FloatProgressModel",
          "model_module_version": "1.5.0",
          "state": {
            "_dom_classes": [],
            "_model_module": "@jupyter-widgets/controls",
            "_model_module_version": "1.5.0",
            "_model_name": "FloatProgressModel",
            "_view_count": null,
            "_view_module": "@jupyter-widgets/controls",
            "_view_module_version": "1.5.0",
            "_view_name": "ProgressView",
            "bar_style": "success",
            "description": "",
            "description_tooltip": null,
            "layout": "IPY_MODEL_038a1a4cafc54a3685a8b88ca15a73a3",
            "max": 36000,
            "min": 0,
            "orientation": "horizontal",
            "style": "IPY_MODEL_117e9214707c4d658a394eacb28a3a37",
            "value": 36000
          }
        },
        "e76ddc33b7394d3ba6567a66c8bff10d": {
          "model_module": "@jupyter-widgets/controls",
          "model_name": "HTMLModel",
          "model_module_version": "1.5.0",
          "state": {
            "_dom_classes": [],
            "_model_module": "@jupyter-widgets/controls",
            "_model_module_version": "1.5.0",
            "_model_name": "HTMLModel",
            "_view_count": null,
            "_view_module": "@jupyter-widgets/controls",
            "_view_module_version": "1.5.0",
            "_view_name": "HTMLView",
            "description": "",
            "description_tooltip": null,
            "layout": "IPY_MODEL_0c254b4af83c4032bdf058bab8727a02",
            "placeholder": "​",
            "style": "IPY_MODEL_241216d7dddb4ea0a5ebcd4f6134966e",
            "value": " 36000/36000 [00:01&lt;00:00, 31306.11 examples/s]"
          }
        },
        "d7ef391c713945eda0b7b6feaaf89d37": {
          "model_module": "@jupyter-widgets/base",
          "model_name": "LayoutModel",
          "model_module_version": "1.2.0",
          "state": {
            "_model_module": "@jupyter-widgets/base",
            "_model_module_version": "1.2.0",
            "_model_name": "LayoutModel",
            "_view_count": null,
            "_view_module": "@jupyter-widgets/base",
            "_view_module_version": "1.2.0",
            "_view_name": "LayoutView",
            "align_content": null,
            "align_items": null,
            "align_self": null,
            "border": null,
            "bottom": null,
            "display": null,
            "flex": null,
            "flex_flow": null,
            "grid_area": null,
            "grid_auto_columns": null,
            "grid_auto_flow": null,
            "grid_auto_rows": null,
            "grid_column": null,
            "grid_gap": null,
            "grid_row": null,
            "grid_template_areas": null,
            "grid_template_columns": null,
            "grid_template_rows": null,
            "height": null,
            "justify_content": null,
            "justify_items": null,
            "left": null,
            "margin": null,
            "max_height": null,
            "max_width": null,
            "min_height": null,
            "min_width": null,
            "object_fit": null,
            "object_position": null,
            "order": null,
            "overflow": null,
            "overflow_x": null,
            "overflow_y": null,
            "padding": null,
            "right": null,
            "top": null,
            "visibility": null,
            "width": null
          }
        },
        "21a65bc8f0a6405baf8f99bec0394b18": {
          "model_module": "@jupyter-widgets/base",
          "model_name": "LayoutModel",
          "model_module_version": "1.2.0",
          "state": {
            "_model_module": "@jupyter-widgets/base",
            "_model_module_version": "1.2.0",
            "_model_name": "LayoutModel",
            "_view_count": null,
            "_view_module": "@jupyter-widgets/base",
            "_view_module_version": "1.2.0",
            "_view_name": "LayoutView",
            "align_content": null,
            "align_items": null,
            "align_self": null,
            "border": null,
            "bottom": null,
            "display": null,
            "flex": null,
            "flex_flow": null,
            "grid_area": null,
            "grid_auto_columns": null,
            "grid_auto_flow": null,
            "grid_auto_rows": null,
            "grid_column": null,
            "grid_gap": null,
            "grid_row": null,
            "grid_template_areas": null,
            "grid_template_columns": null,
            "grid_template_rows": null,
            "height": null,
            "justify_content": null,
            "justify_items": null,
            "left": null,
            "margin": null,
            "max_height": null,
            "max_width": null,
            "min_height": null,
            "min_width": null,
            "object_fit": null,
            "object_position": null,
            "order": null,
            "overflow": null,
            "overflow_x": null,
            "overflow_y": null,
            "padding": null,
            "right": null,
            "top": null,
            "visibility": null,
            "width": null
          }
        },
        "85b8397d1ba7499987f9fad342ba1104": {
          "model_module": "@jupyter-widgets/controls",
          "model_name": "DescriptionStyleModel",
          "model_module_version": "1.5.0",
          "state": {
            "_model_module": "@jupyter-widgets/controls",
            "_model_module_version": "1.5.0",
            "_model_name": "DescriptionStyleModel",
            "_view_count": null,
            "_view_module": "@jupyter-widgets/base",
            "_view_module_version": "1.2.0",
            "_view_name": "StyleView",
            "description_width": ""
          }
        },
        "038a1a4cafc54a3685a8b88ca15a73a3": {
          "model_module": "@jupyter-widgets/base",
          "model_name": "LayoutModel",
          "model_module_version": "1.2.0",
          "state": {
            "_model_module": "@jupyter-widgets/base",
            "_model_module_version": "1.2.0",
            "_model_name": "LayoutModel",
            "_view_count": null,
            "_view_module": "@jupyter-widgets/base",
            "_view_module_version": "1.2.0",
            "_view_name": "LayoutView",
            "align_content": null,
            "align_items": null,
            "align_self": null,
            "border": null,
            "bottom": null,
            "display": null,
            "flex": null,
            "flex_flow": null,
            "grid_area": null,
            "grid_auto_columns": null,
            "grid_auto_flow": null,
            "grid_auto_rows": null,
            "grid_column": null,
            "grid_gap": null,
            "grid_row": null,
            "grid_template_areas": null,
            "grid_template_columns": null,
            "grid_template_rows": null,
            "height": null,
            "justify_content": null,
            "justify_items": null,
            "left": null,
            "margin": null,
            "max_height": null,
            "max_width": null,
            "min_height": null,
            "min_width": null,
            "object_fit": null,
            "object_position": null,
            "order": null,
            "overflow": null,
            "overflow_x": null,
            "overflow_y": null,
            "padding": null,
            "right": null,
            "top": null,
            "visibility": null,
            "width": null
          }
        },
        "117e9214707c4d658a394eacb28a3a37": {
          "model_module": "@jupyter-widgets/controls",
          "model_name": "ProgressStyleModel",
          "model_module_version": "1.5.0",
          "state": {
            "_model_module": "@jupyter-widgets/controls",
            "_model_module_version": "1.5.0",
            "_model_name": "ProgressStyleModel",
            "_view_count": null,
            "_view_module": "@jupyter-widgets/base",
            "_view_module_version": "1.2.0",
            "_view_name": "StyleView",
            "bar_color": null,
            "description_width": ""
          }
        },
        "0c254b4af83c4032bdf058bab8727a02": {
          "model_module": "@jupyter-widgets/base",
          "model_name": "LayoutModel",
          "model_module_version": "1.2.0",
          "state": {
            "_model_module": "@jupyter-widgets/base",
            "_model_module_version": "1.2.0",
            "_model_name": "LayoutModel",
            "_view_count": null,
            "_view_module": "@jupyter-widgets/base",
            "_view_module_version": "1.2.0",
            "_view_name": "LayoutView",
            "align_content": null,
            "align_items": null,
            "align_self": null,
            "border": null,
            "bottom": null,
            "display": null,
            "flex": null,
            "flex_flow": null,
            "grid_area": null,
            "grid_auto_columns": null,
            "grid_auto_flow": null,
            "grid_auto_rows": null,
            "grid_column": null,
            "grid_gap": null,
            "grid_row": null,
            "grid_template_areas": null,
            "grid_template_columns": null,
            "grid_template_rows": null,
            "height": null,
            "justify_content": null,
            "justify_items": null,
            "left": null,
            "margin": null,
            "max_height": null,
            "max_width": null,
            "min_height": null,
            "min_width": null,
            "object_fit": null,
            "object_position": null,
            "order": null,
            "overflow": null,
            "overflow_x": null,
            "overflow_y": null,
            "padding": null,
            "right": null,
            "top": null,
            "visibility": null,
            "width": null
          }
        },
        "241216d7dddb4ea0a5ebcd4f6134966e": {
          "model_module": "@jupyter-widgets/controls",
          "model_name": "DescriptionStyleModel",
          "model_module_version": "1.5.0",
          "state": {
            "_model_module": "@jupyter-widgets/controls",
            "_model_module_version": "1.5.0",
            "_model_name": "DescriptionStyleModel",
            "_view_count": null,
            "_view_module": "@jupyter-widgets/base",
            "_view_module_version": "1.2.0",
            "_view_name": "StyleView",
            "description_width": ""
          }
        },
        "ae46ede060ce44339e7ba13c1006ec38": {
          "model_module": "@jupyter-widgets/controls",
          "model_name": "HBoxModel",
          "model_module_version": "1.5.0",
          "state": {
            "_dom_classes": [],
            "_model_module": "@jupyter-widgets/controls",
            "_model_module_version": "1.5.0",
            "_model_name": "HBoxModel",
            "_view_count": null,
            "_view_module": "@jupyter-widgets/controls",
            "_view_module_version": "1.5.0",
            "_view_name": "HBoxView",
            "box_style": "",
            "children": [
              "IPY_MODEL_c216efa2b41e4637b4f17d91c9c3b8ac",
              "IPY_MODEL_cb174b11122f483ab7c7661fcccaba50",
              "IPY_MODEL_41baca791448455fbfe0639d59e7b647"
            ],
            "layout": "IPY_MODEL_49ddc450b9c64bfb975c7d9a144db16a"
          }
        },
        "c216efa2b41e4637b4f17d91c9c3b8ac": {
          "model_module": "@jupyter-widgets/controls",
          "model_name": "HTMLModel",
          "model_module_version": "1.5.0",
          "state": {
            "_dom_classes": [],
            "_model_module": "@jupyter-widgets/controls",
            "_model_module_version": "1.5.0",
            "_model_name": "HTMLModel",
            "_view_count": null,
            "_view_module": "@jupyter-widgets/controls",
            "_view_module_version": "1.5.0",
            "_view_name": "HTMLView",
            "description": "",
            "description_tooltip": null,
            "layout": "IPY_MODEL_e96ebb1f932c4878869a429c581dde2c",
            "placeholder": "​",
            "style": "IPY_MODEL_190299a0fee14b74956f1a1785d2a6bf",
            "value": "tokenizer_config.json: 100%"
          }
        },
        "cb174b11122f483ab7c7661fcccaba50": {
          "model_module": "@jupyter-widgets/controls",
          "model_name": "FloatProgressModel",
          "model_module_version": "1.5.0",
          "state": {
            "_dom_classes": [],
            "_model_module": "@jupyter-widgets/controls",
            "_model_module_version": "1.5.0",
            "_model_name": "FloatProgressModel",
            "_view_count": null,
            "_view_module": "@jupyter-widgets/controls",
            "_view_module_version": "1.5.0",
            "_view_name": "ProgressView",
            "bar_style": "success",
            "description": "",
            "description_tooltip": null,
            "layout": "IPY_MODEL_220a2e14a7dd444ea393162a144c531c",
            "max": 48,
            "min": 0,
            "orientation": "horizontal",
            "style": "IPY_MODEL_ec6eba9941064a45969fa72a21a8a00d",
            "value": 48
          }
        },
        "41baca791448455fbfe0639d59e7b647": {
          "model_module": "@jupyter-widgets/controls",
          "model_name": "HTMLModel",
          "model_module_version": "1.5.0",
          "state": {
            "_dom_classes": [],
            "_model_module": "@jupyter-widgets/controls",
            "_model_module_version": "1.5.0",
            "_model_name": "HTMLModel",
            "_view_count": null,
            "_view_module": "@jupyter-widgets/controls",
            "_view_module_version": "1.5.0",
            "_view_name": "HTMLView",
            "description": "",
            "description_tooltip": null,
            "layout": "IPY_MODEL_f5f94027fa434f64aa67912ad5a4e460",
            "placeholder": "​",
            "style": "IPY_MODEL_9abe1f2d095143a79b7d142d2a3948bd",
            "value": " 48.0/48.0 [00:00&lt;00:00, 906B/s]"
          }
        },
        "49ddc450b9c64bfb975c7d9a144db16a": {
          "model_module": "@jupyter-widgets/base",
          "model_name": "LayoutModel",
          "model_module_version": "1.2.0",
          "state": {
            "_model_module": "@jupyter-widgets/base",
            "_model_module_version": "1.2.0",
            "_model_name": "LayoutModel",
            "_view_count": null,
            "_view_module": "@jupyter-widgets/base",
            "_view_module_version": "1.2.0",
            "_view_name": "LayoutView",
            "align_content": null,
            "align_items": null,
            "align_self": null,
            "border": null,
            "bottom": null,
            "display": null,
            "flex": null,
            "flex_flow": null,
            "grid_area": null,
            "grid_auto_columns": null,
            "grid_auto_flow": null,
            "grid_auto_rows": null,
            "grid_column": null,
            "grid_gap": null,
            "grid_row": null,
            "grid_template_areas": null,
            "grid_template_columns": null,
            "grid_template_rows": null,
            "height": null,
            "justify_content": null,
            "justify_items": null,
            "left": null,
            "margin": null,
            "max_height": null,
            "max_width": null,
            "min_height": null,
            "min_width": null,
            "object_fit": null,
            "object_position": null,
            "order": null,
            "overflow": null,
            "overflow_x": null,
            "overflow_y": null,
            "padding": null,
            "right": null,
            "top": null,
            "visibility": null,
            "width": null
          }
        },
        "e96ebb1f932c4878869a429c581dde2c": {
          "model_module": "@jupyter-widgets/base",
          "model_name": "LayoutModel",
          "model_module_version": "1.2.0",
          "state": {
            "_model_module": "@jupyter-widgets/base",
            "_model_module_version": "1.2.0",
            "_model_name": "LayoutModel",
            "_view_count": null,
            "_view_module": "@jupyter-widgets/base",
            "_view_module_version": "1.2.0",
            "_view_name": "LayoutView",
            "align_content": null,
            "align_items": null,
            "align_self": null,
            "border": null,
            "bottom": null,
            "display": null,
            "flex": null,
            "flex_flow": null,
            "grid_area": null,
            "grid_auto_columns": null,
            "grid_auto_flow": null,
            "grid_auto_rows": null,
            "grid_column": null,
            "grid_gap": null,
            "grid_row": null,
            "grid_template_areas": null,
            "grid_template_columns": null,
            "grid_template_rows": null,
            "height": null,
            "justify_content": null,
            "justify_items": null,
            "left": null,
            "margin": null,
            "max_height": null,
            "max_width": null,
            "min_height": null,
            "min_width": null,
            "object_fit": null,
            "object_position": null,
            "order": null,
            "overflow": null,
            "overflow_x": null,
            "overflow_y": null,
            "padding": null,
            "right": null,
            "top": null,
            "visibility": null,
            "width": null
          }
        },
        "190299a0fee14b74956f1a1785d2a6bf": {
          "model_module": "@jupyter-widgets/controls",
          "model_name": "DescriptionStyleModel",
          "model_module_version": "1.5.0",
          "state": {
            "_model_module": "@jupyter-widgets/controls",
            "_model_module_version": "1.5.0",
            "_model_name": "DescriptionStyleModel",
            "_view_count": null,
            "_view_module": "@jupyter-widgets/base",
            "_view_module_version": "1.2.0",
            "_view_name": "StyleView",
            "description_width": ""
          }
        },
        "220a2e14a7dd444ea393162a144c531c": {
          "model_module": "@jupyter-widgets/base",
          "model_name": "LayoutModel",
          "model_module_version": "1.2.0",
          "state": {
            "_model_module": "@jupyter-widgets/base",
            "_model_module_version": "1.2.0",
            "_model_name": "LayoutModel",
            "_view_count": null,
            "_view_module": "@jupyter-widgets/base",
            "_view_module_version": "1.2.0",
            "_view_name": "LayoutView",
            "align_content": null,
            "align_items": null,
            "align_self": null,
            "border": null,
            "bottom": null,
            "display": null,
            "flex": null,
            "flex_flow": null,
            "grid_area": null,
            "grid_auto_columns": null,
            "grid_auto_flow": null,
            "grid_auto_rows": null,
            "grid_column": null,
            "grid_gap": null,
            "grid_row": null,
            "grid_template_areas": null,
            "grid_template_columns": null,
            "grid_template_rows": null,
            "height": null,
            "justify_content": null,
            "justify_items": null,
            "left": null,
            "margin": null,
            "max_height": null,
            "max_width": null,
            "min_height": null,
            "min_width": null,
            "object_fit": null,
            "object_position": null,
            "order": null,
            "overflow": null,
            "overflow_x": null,
            "overflow_y": null,
            "padding": null,
            "right": null,
            "top": null,
            "visibility": null,
            "width": null
          }
        },
        "ec6eba9941064a45969fa72a21a8a00d": {
          "model_module": "@jupyter-widgets/controls",
          "model_name": "ProgressStyleModel",
          "model_module_version": "1.5.0",
          "state": {
            "_model_module": "@jupyter-widgets/controls",
            "_model_module_version": "1.5.0",
            "_model_name": "ProgressStyleModel",
            "_view_count": null,
            "_view_module": "@jupyter-widgets/base",
            "_view_module_version": "1.2.0",
            "_view_name": "StyleView",
            "bar_color": null,
            "description_width": ""
          }
        },
        "f5f94027fa434f64aa67912ad5a4e460": {
          "model_module": "@jupyter-widgets/base",
          "model_name": "LayoutModel",
          "model_module_version": "1.2.0",
          "state": {
            "_model_module": "@jupyter-widgets/base",
            "_model_module_version": "1.2.0",
            "_model_name": "LayoutModel",
            "_view_count": null,
            "_view_module": "@jupyter-widgets/base",
            "_view_module_version": "1.2.0",
            "_view_name": "LayoutView",
            "align_content": null,
            "align_items": null,
            "align_self": null,
            "border": null,
            "bottom": null,
            "display": null,
            "flex": null,
            "flex_flow": null,
            "grid_area": null,
            "grid_auto_columns": null,
            "grid_auto_flow": null,
            "grid_auto_rows": null,
            "grid_column": null,
            "grid_gap": null,
            "grid_row": null,
            "grid_template_areas": null,
            "grid_template_columns": null,
            "grid_template_rows": null,
            "height": null,
            "justify_content": null,
            "justify_items": null,
            "left": null,
            "margin": null,
            "max_height": null,
            "max_width": null,
            "min_height": null,
            "min_width": null,
            "object_fit": null,
            "object_position": null,
            "order": null,
            "overflow": null,
            "overflow_x": null,
            "overflow_y": null,
            "padding": null,
            "right": null,
            "top": null,
            "visibility": null,
            "width": null
          }
        },
        "9abe1f2d095143a79b7d142d2a3948bd": {
          "model_module": "@jupyter-widgets/controls",
          "model_name": "DescriptionStyleModel",
          "model_module_version": "1.5.0",
          "state": {
            "_model_module": "@jupyter-widgets/controls",
            "_model_module_version": "1.5.0",
            "_model_name": "DescriptionStyleModel",
            "_view_count": null,
            "_view_module": "@jupyter-widgets/base",
            "_view_module_version": "1.2.0",
            "_view_name": "StyleView",
            "description_width": ""
          }
        },
        "84bbde85fab14901a0d354d68aec18e9": {
          "model_module": "@jupyter-widgets/controls",
          "model_name": "HBoxModel",
          "model_module_version": "1.5.0",
          "state": {
            "_dom_classes": [],
            "_model_module": "@jupyter-widgets/controls",
            "_model_module_version": "1.5.0",
            "_model_name": "HBoxModel",
            "_view_count": null,
            "_view_module": "@jupyter-widgets/controls",
            "_view_module_version": "1.5.0",
            "_view_name": "HBoxView",
            "box_style": "",
            "children": [
              "IPY_MODEL_c7e200f9f3ad415586990880618d0687",
              "IPY_MODEL_1d7073193f434bbb9f9557d7d0869a04",
              "IPY_MODEL_74b4af4f3a3948c4bc901c0608c4448f"
            ],
            "layout": "IPY_MODEL_bb352d1ca428442ea8e6e2f8f3e5459a"
          }
        },
        "c7e200f9f3ad415586990880618d0687": {
          "model_module": "@jupyter-widgets/controls",
          "model_name": "HTMLModel",
          "model_module_version": "1.5.0",
          "state": {
            "_dom_classes": [],
            "_model_module": "@jupyter-widgets/controls",
            "_model_module_version": "1.5.0",
            "_model_name": "HTMLModel",
            "_view_count": null,
            "_view_module": "@jupyter-widgets/controls",
            "_view_module_version": "1.5.0",
            "_view_name": "HTMLView",
            "description": "",
            "description_tooltip": null,
            "layout": "IPY_MODEL_2aaa113a73b94b84b57cb9b5da6b65cc",
            "placeholder": "​",
            "style": "IPY_MODEL_7ea65119cb1943968cef556d4f0c262b",
            "value": "config.json: 100%"
          }
        },
        "1d7073193f434bbb9f9557d7d0869a04": {
          "model_module": "@jupyter-widgets/controls",
          "model_name": "FloatProgressModel",
          "model_module_version": "1.5.0",
          "state": {
            "_dom_classes": [],
            "_model_module": "@jupyter-widgets/controls",
            "_model_module_version": "1.5.0",
            "_model_name": "FloatProgressModel",
            "_view_count": null,
            "_view_module": "@jupyter-widgets/controls",
            "_view_module_version": "1.5.0",
            "_view_name": "ProgressView",
            "bar_style": "success",
            "description": "",
            "description_tooltip": null,
            "layout": "IPY_MODEL_fb401eba9c3e469281329310d1ea84a5",
            "max": 570,
            "min": 0,
            "orientation": "horizontal",
            "style": "IPY_MODEL_67a7c6f1525c458cb0de5b51742e2881",
            "value": 570
          }
        },
        "74b4af4f3a3948c4bc901c0608c4448f": {
          "model_module": "@jupyter-widgets/controls",
          "model_name": "HTMLModel",
          "model_module_version": "1.5.0",
          "state": {
            "_dom_classes": [],
            "_model_module": "@jupyter-widgets/controls",
            "_model_module_version": "1.5.0",
            "_model_name": "HTMLModel",
            "_view_count": null,
            "_view_module": "@jupyter-widgets/controls",
            "_view_module_version": "1.5.0",
            "_view_name": "HTMLView",
            "description": "",
            "description_tooltip": null,
            "layout": "IPY_MODEL_cceb853e0e6d4c6e834fd47be16e0ec4",
            "placeholder": "​",
            "style": "IPY_MODEL_842ccf496f0b46cba95f926b38b76b32",
            "value": " 570/570 [00:00&lt;00:00, 13.1kB/s]"
          }
        },
        "bb352d1ca428442ea8e6e2f8f3e5459a": {
          "model_module": "@jupyter-widgets/base",
          "model_name": "LayoutModel",
          "model_module_version": "1.2.0",
          "state": {
            "_model_module": "@jupyter-widgets/base",
            "_model_module_version": "1.2.0",
            "_model_name": "LayoutModel",
            "_view_count": null,
            "_view_module": "@jupyter-widgets/base",
            "_view_module_version": "1.2.0",
            "_view_name": "LayoutView",
            "align_content": null,
            "align_items": null,
            "align_self": null,
            "border": null,
            "bottom": null,
            "display": null,
            "flex": null,
            "flex_flow": null,
            "grid_area": null,
            "grid_auto_columns": null,
            "grid_auto_flow": null,
            "grid_auto_rows": null,
            "grid_column": null,
            "grid_gap": null,
            "grid_row": null,
            "grid_template_areas": null,
            "grid_template_columns": null,
            "grid_template_rows": null,
            "height": null,
            "justify_content": null,
            "justify_items": null,
            "left": null,
            "margin": null,
            "max_height": null,
            "max_width": null,
            "min_height": null,
            "min_width": null,
            "object_fit": null,
            "object_position": null,
            "order": null,
            "overflow": null,
            "overflow_x": null,
            "overflow_y": null,
            "padding": null,
            "right": null,
            "top": null,
            "visibility": null,
            "width": null
          }
        },
        "2aaa113a73b94b84b57cb9b5da6b65cc": {
          "model_module": "@jupyter-widgets/base",
          "model_name": "LayoutModel",
          "model_module_version": "1.2.0",
          "state": {
            "_model_module": "@jupyter-widgets/base",
            "_model_module_version": "1.2.0",
            "_model_name": "LayoutModel",
            "_view_count": null,
            "_view_module": "@jupyter-widgets/base",
            "_view_module_version": "1.2.0",
            "_view_name": "LayoutView",
            "align_content": null,
            "align_items": null,
            "align_self": null,
            "border": null,
            "bottom": null,
            "display": null,
            "flex": null,
            "flex_flow": null,
            "grid_area": null,
            "grid_auto_columns": null,
            "grid_auto_flow": null,
            "grid_auto_rows": null,
            "grid_column": null,
            "grid_gap": null,
            "grid_row": null,
            "grid_template_areas": null,
            "grid_template_columns": null,
            "grid_template_rows": null,
            "height": null,
            "justify_content": null,
            "justify_items": null,
            "left": null,
            "margin": null,
            "max_height": null,
            "max_width": null,
            "min_height": null,
            "min_width": null,
            "object_fit": null,
            "object_position": null,
            "order": null,
            "overflow": null,
            "overflow_x": null,
            "overflow_y": null,
            "padding": null,
            "right": null,
            "top": null,
            "visibility": null,
            "width": null
          }
        },
        "7ea65119cb1943968cef556d4f0c262b": {
          "model_module": "@jupyter-widgets/controls",
          "model_name": "DescriptionStyleModel",
          "model_module_version": "1.5.0",
          "state": {
            "_model_module": "@jupyter-widgets/controls",
            "_model_module_version": "1.5.0",
            "_model_name": "DescriptionStyleModel",
            "_view_count": null,
            "_view_module": "@jupyter-widgets/base",
            "_view_module_version": "1.2.0",
            "_view_name": "StyleView",
            "description_width": ""
          }
        },
        "fb401eba9c3e469281329310d1ea84a5": {
          "model_module": "@jupyter-widgets/base",
          "model_name": "LayoutModel",
          "model_module_version": "1.2.0",
          "state": {
            "_model_module": "@jupyter-widgets/base",
            "_model_module_version": "1.2.0",
            "_model_name": "LayoutModel",
            "_view_count": null,
            "_view_module": "@jupyter-widgets/base",
            "_view_module_version": "1.2.0",
            "_view_name": "LayoutView",
            "align_content": null,
            "align_items": null,
            "align_self": null,
            "border": null,
            "bottom": null,
            "display": null,
            "flex": null,
            "flex_flow": null,
            "grid_area": null,
            "grid_auto_columns": null,
            "grid_auto_flow": null,
            "grid_auto_rows": null,
            "grid_column": null,
            "grid_gap": null,
            "grid_row": null,
            "grid_template_areas": null,
            "grid_template_columns": null,
            "grid_template_rows": null,
            "height": null,
            "justify_content": null,
            "justify_items": null,
            "left": null,
            "margin": null,
            "max_height": null,
            "max_width": null,
            "min_height": null,
            "min_width": null,
            "object_fit": null,
            "object_position": null,
            "order": null,
            "overflow": null,
            "overflow_x": null,
            "overflow_y": null,
            "padding": null,
            "right": null,
            "top": null,
            "visibility": null,
            "width": null
          }
        },
        "67a7c6f1525c458cb0de5b51742e2881": {
          "model_module": "@jupyter-widgets/controls",
          "model_name": "ProgressStyleModel",
          "model_module_version": "1.5.0",
          "state": {
            "_model_module": "@jupyter-widgets/controls",
            "_model_module_version": "1.5.0",
            "_model_name": "ProgressStyleModel",
            "_view_count": null,
            "_view_module": "@jupyter-widgets/base",
            "_view_module_version": "1.2.0",
            "_view_name": "StyleView",
            "bar_color": null,
            "description_width": ""
          }
        },
        "cceb853e0e6d4c6e834fd47be16e0ec4": {
          "model_module": "@jupyter-widgets/base",
          "model_name": "LayoutModel",
          "model_module_version": "1.2.0",
          "state": {
            "_model_module": "@jupyter-widgets/base",
            "_model_module_version": "1.2.0",
            "_model_name": "LayoutModel",
            "_view_count": null,
            "_view_module": "@jupyter-widgets/base",
            "_view_module_version": "1.2.0",
            "_view_name": "LayoutView",
            "align_content": null,
            "align_items": null,
            "align_self": null,
            "border": null,
            "bottom": null,
            "display": null,
            "flex": null,
            "flex_flow": null,
            "grid_area": null,
            "grid_auto_columns": null,
            "grid_auto_flow": null,
            "grid_auto_rows": null,
            "grid_column": null,
            "grid_gap": null,
            "grid_row": null,
            "grid_template_areas": null,
            "grid_template_columns": null,
            "grid_template_rows": null,
            "height": null,
            "justify_content": null,
            "justify_items": null,
            "left": null,
            "margin": null,
            "max_height": null,
            "max_width": null,
            "min_height": null,
            "min_width": null,
            "object_fit": null,
            "object_position": null,
            "order": null,
            "overflow": null,
            "overflow_x": null,
            "overflow_y": null,
            "padding": null,
            "right": null,
            "top": null,
            "visibility": null,
            "width": null
          }
        },
        "842ccf496f0b46cba95f926b38b76b32": {
          "model_module": "@jupyter-widgets/controls",
          "model_name": "DescriptionStyleModel",
          "model_module_version": "1.5.0",
          "state": {
            "_model_module": "@jupyter-widgets/controls",
            "_model_module_version": "1.5.0",
            "_model_name": "DescriptionStyleModel",
            "_view_count": null,
            "_view_module": "@jupyter-widgets/base",
            "_view_module_version": "1.2.0",
            "_view_name": "StyleView",
            "description_width": ""
          }
        },
        "867055cd54f44a83a5ab20216ff24238": {
          "model_module": "@jupyter-widgets/controls",
          "model_name": "HBoxModel",
          "model_module_version": "1.5.0",
          "state": {
            "_dom_classes": [],
            "_model_module": "@jupyter-widgets/controls",
            "_model_module_version": "1.5.0",
            "_model_name": "HBoxModel",
            "_view_count": null,
            "_view_module": "@jupyter-widgets/controls",
            "_view_module_version": "1.5.0",
            "_view_name": "HBoxView",
            "box_style": "",
            "children": [
              "IPY_MODEL_fde1f345a58848e6a824bc6e5521b05c",
              "IPY_MODEL_30cdc7ff51f64d9786056fbc9c69ada0",
              "IPY_MODEL_cf6953b8fdd744a5b460e45b6c4aca52"
            ],
            "layout": "IPY_MODEL_3e03d12f4a8444fa818ed03b43731462"
          }
        },
        "fde1f345a58848e6a824bc6e5521b05c": {
          "model_module": "@jupyter-widgets/controls",
          "model_name": "HTMLModel",
          "model_module_version": "1.5.0",
          "state": {
            "_dom_classes": [],
            "_model_module": "@jupyter-widgets/controls",
            "_model_module_version": "1.5.0",
            "_model_name": "HTMLModel",
            "_view_count": null,
            "_view_module": "@jupyter-widgets/controls",
            "_view_module_version": "1.5.0",
            "_view_name": "HTMLView",
            "description": "",
            "description_tooltip": null,
            "layout": "IPY_MODEL_cc8bddefa46742df88a69240e18182f2",
            "placeholder": "​",
            "style": "IPY_MODEL_1a62bfed32f74f5494dbc6b1d2f94ede",
            "value": "vocab.txt: 100%"
          }
        },
        "30cdc7ff51f64d9786056fbc9c69ada0": {
          "model_module": "@jupyter-widgets/controls",
          "model_name": "FloatProgressModel",
          "model_module_version": "1.5.0",
          "state": {
            "_dom_classes": [],
            "_model_module": "@jupyter-widgets/controls",
            "_model_module_version": "1.5.0",
            "_model_name": "FloatProgressModel",
            "_view_count": null,
            "_view_module": "@jupyter-widgets/controls",
            "_view_module_version": "1.5.0",
            "_view_name": "ProgressView",
            "bar_style": "success",
            "description": "",
            "description_tooltip": null,
            "layout": "IPY_MODEL_693a3678ca7f4d3d944b8928e0efa389",
            "max": 231508,
            "min": 0,
            "orientation": "horizontal",
            "style": "IPY_MODEL_756dca1ad33149be80d805a01b05b3ae",
            "value": 231508
          }
        },
        "cf6953b8fdd744a5b460e45b6c4aca52": {
          "model_module": "@jupyter-widgets/controls",
          "model_name": "HTMLModel",
          "model_module_version": "1.5.0",
          "state": {
            "_dom_classes": [],
            "_model_module": "@jupyter-widgets/controls",
            "_model_module_version": "1.5.0",
            "_model_name": "HTMLModel",
            "_view_count": null,
            "_view_module": "@jupyter-widgets/controls",
            "_view_module_version": "1.5.0",
            "_view_name": "HTMLView",
            "description": "",
            "description_tooltip": null,
            "layout": "IPY_MODEL_97c8e9bb8c044b6daaf9bbea97ccbeb4",
            "placeholder": "​",
            "style": "IPY_MODEL_479e84d63634495f859299bcc5947715",
            "value": " 232k/232k [00:00&lt;00:00, 1.83MB/s]"
          }
        },
        "3e03d12f4a8444fa818ed03b43731462": {
          "model_module": "@jupyter-widgets/base",
          "model_name": "LayoutModel",
          "model_module_version": "1.2.0",
          "state": {
            "_model_module": "@jupyter-widgets/base",
            "_model_module_version": "1.2.0",
            "_model_name": "LayoutModel",
            "_view_count": null,
            "_view_module": "@jupyter-widgets/base",
            "_view_module_version": "1.2.0",
            "_view_name": "LayoutView",
            "align_content": null,
            "align_items": null,
            "align_self": null,
            "border": null,
            "bottom": null,
            "display": null,
            "flex": null,
            "flex_flow": null,
            "grid_area": null,
            "grid_auto_columns": null,
            "grid_auto_flow": null,
            "grid_auto_rows": null,
            "grid_column": null,
            "grid_gap": null,
            "grid_row": null,
            "grid_template_areas": null,
            "grid_template_columns": null,
            "grid_template_rows": null,
            "height": null,
            "justify_content": null,
            "justify_items": null,
            "left": null,
            "margin": null,
            "max_height": null,
            "max_width": null,
            "min_height": null,
            "min_width": null,
            "object_fit": null,
            "object_position": null,
            "order": null,
            "overflow": null,
            "overflow_x": null,
            "overflow_y": null,
            "padding": null,
            "right": null,
            "top": null,
            "visibility": null,
            "width": null
          }
        },
        "cc8bddefa46742df88a69240e18182f2": {
          "model_module": "@jupyter-widgets/base",
          "model_name": "LayoutModel",
          "model_module_version": "1.2.0",
          "state": {
            "_model_module": "@jupyter-widgets/base",
            "_model_module_version": "1.2.0",
            "_model_name": "LayoutModel",
            "_view_count": null,
            "_view_module": "@jupyter-widgets/base",
            "_view_module_version": "1.2.0",
            "_view_name": "LayoutView",
            "align_content": null,
            "align_items": null,
            "align_self": null,
            "border": null,
            "bottom": null,
            "display": null,
            "flex": null,
            "flex_flow": null,
            "grid_area": null,
            "grid_auto_columns": null,
            "grid_auto_flow": null,
            "grid_auto_rows": null,
            "grid_column": null,
            "grid_gap": null,
            "grid_row": null,
            "grid_template_areas": null,
            "grid_template_columns": null,
            "grid_template_rows": null,
            "height": null,
            "justify_content": null,
            "justify_items": null,
            "left": null,
            "margin": null,
            "max_height": null,
            "max_width": null,
            "min_height": null,
            "min_width": null,
            "object_fit": null,
            "object_position": null,
            "order": null,
            "overflow": null,
            "overflow_x": null,
            "overflow_y": null,
            "padding": null,
            "right": null,
            "top": null,
            "visibility": null,
            "width": null
          }
        },
        "1a62bfed32f74f5494dbc6b1d2f94ede": {
          "model_module": "@jupyter-widgets/controls",
          "model_name": "DescriptionStyleModel",
          "model_module_version": "1.5.0",
          "state": {
            "_model_module": "@jupyter-widgets/controls",
            "_model_module_version": "1.5.0",
            "_model_name": "DescriptionStyleModel",
            "_view_count": null,
            "_view_module": "@jupyter-widgets/base",
            "_view_module_version": "1.2.0",
            "_view_name": "StyleView",
            "description_width": ""
          }
        },
        "693a3678ca7f4d3d944b8928e0efa389": {
          "model_module": "@jupyter-widgets/base",
          "model_name": "LayoutModel",
          "model_module_version": "1.2.0",
          "state": {
            "_model_module": "@jupyter-widgets/base",
            "_model_module_version": "1.2.0",
            "_model_name": "LayoutModel",
            "_view_count": null,
            "_view_module": "@jupyter-widgets/base",
            "_view_module_version": "1.2.0",
            "_view_name": "LayoutView",
            "align_content": null,
            "align_items": null,
            "align_self": null,
            "border": null,
            "bottom": null,
            "display": null,
            "flex": null,
            "flex_flow": null,
            "grid_area": null,
            "grid_auto_columns": null,
            "grid_auto_flow": null,
            "grid_auto_rows": null,
            "grid_column": null,
            "grid_gap": null,
            "grid_row": null,
            "grid_template_areas": null,
            "grid_template_columns": null,
            "grid_template_rows": null,
            "height": null,
            "justify_content": null,
            "justify_items": null,
            "left": null,
            "margin": null,
            "max_height": null,
            "max_width": null,
            "min_height": null,
            "min_width": null,
            "object_fit": null,
            "object_position": null,
            "order": null,
            "overflow": null,
            "overflow_x": null,
            "overflow_y": null,
            "padding": null,
            "right": null,
            "top": null,
            "visibility": null,
            "width": null
          }
        },
        "756dca1ad33149be80d805a01b05b3ae": {
          "model_module": "@jupyter-widgets/controls",
          "model_name": "ProgressStyleModel",
          "model_module_version": "1.5.0",
          "state": {
            "_model_module": "@jupyter-widgets/controls",
            "_model_module_version": "1.5.0",
            "_model_name": "ProgressStyleModel",
            "_view_count": null,
            "_view_module": "@jupyter-widgets/base",
            "_view_module_version": "1.2.0",
            "_view_name": "StyleView",
            "bar_color": null,
            "description_width": ""
          }
        },
        "97c8e9bb8c044b6daaf9bbea97ccbeb4": {
          "model_module": "@jupyter-widgets/base",
          "model_name": "LayoutModel",
          "model_module_version": "1.2.0",
          "state": {
            "_model_module": "@jupyter-widgets/base",
            "_model_module_version": "1.2.0",
            "_model_name": "LayoutModel",
            "_view_count": null,
            "_view_module": "@jupyter-widgets/base",
            "_view_module_version": "1.2.0",
            "_view_name": "LayoutView",
            "align_content": null,
            "align_items": null,
            "align_self": null,
            "border": null,
            "bottom": null,
            "display": null,
            "flex": null,
            "flex_flow": null,
            "grid_area": null,
            "grid_auto_columns": null,
            "grid_auto_flow": null,
            "grid_auto_rows": null,
            "grid_column": null,
            "grid_gap": null,
            "grid_row": null,
            "grid_template_areas": null,
            "grid_template_columns": null,
            "grid_template_rows": null,
            "height": null,
            "justify_content": null,
            "justify_items": null,
            "left": null,
            "margin": null,
            "max_height": null,
            "max_width": null,
            "min_height": null,
            "min_width": null,
            "object_fit": null,
            "object_position": null,
            "order": null,
            "overflow": null,
            "overflow_x": null,
            "overflow_y": null,
            "padding": null,
            "right": null,
            "top": null,
            "visibility": null,
            "width": null
          }
        },
        "479e84d63634495f859299bcc5947715": {
          "model_module": "@jupyter-widgets/controls",
          "model_name": "DescriptionStyleModel",
          "model_module_version": "1.5.0",
          "state": {
            "_model_module": "@jupyter-widgets/controls",
            "_model_module_version": "1.5.0",
            "_model_name": "DescriptionStyleModel",
            "_view_count": null,
            "_view_module": "@jupyter-widgets/base",
            "_view_module_version": "1.2.0",
            "_view_name": "StyleView",
            "description_width": ""
          }
        },
        "256cc924a83b4ec2b8521efb290893c4": {
          "model_module": "@jupyter-widgets/controls",
          "model_name": "HBoxModel",
          "model_module_version": "1.5.0",
          "state": {
            "_dom_classes": [],
            "_model_module": "@jupyter-widgets/controls",
            "_model_module_version": "1.5.0",
            "_model_name": "HBoxModel",
            "_view_count": null,
            "_view_module": "@jupyter-widgets/controls",
            "_view_module_version": "1.5.0",
            "_view_name": "HBoxView",
            "box_style": "",
            "children": [
              "IPY_MODEL_0a94b7a6d6a449a4a58368bcc6343a77",
              "IPY_MODEL_2a6d496dec6b4b21a521c0eb736001c3",
              "IPY_MODEL_d86a2b93b79d4ed9b30b1871d262851b"
            ],
            "layout": "IPY_MODEL_90bc08ce23b0484ab2bd4c51e1453e54"
          }
        },
        "0a94b7a6d6a449a4a58368bcc6343a77": {
          "model_module": "@jupyter-widgets/controls",
          "model_name": "HTMLModel",
          "model_module_version": "1.5.0",
          "state": {
            "_dom_classes": [],
            "_model_module": "@jupyter-widgets/controls",
            "_model_module_version": "1.5.0",
            "_model_name": "HTMLModel",
            "_view_count": null,
            "_view_module": "@jupyter-widgets/controls",
            "_view_module_version": "1.5.0",
            "_view_name": "HTMLView",
            "description": "",
            "description_tooltip": null,
            "layout": "IPY_MODEL_dd8a5fed31084e749e12b0e7257d0a99",
            "placeholder": "​",
            "style": "IPY_MODEL_868adcb2a63841c3ad3a39fc8b21e736",
            "value": "tokenizer.json: 100%"
          }
        },
        "2a6d496dec6b4b21a521c0eb736001c3": {
          "model_module": "@jupyter-widgets/controls",
          "model_name": "FloatProgressModel",
          "model_module_version": "1.5.0",
          "state": {
            "_dom_classes": [],
            "_model_module": "@jupyter-widgets/controls",
            "_model_module_version": "1.5.0",
            "_model_name": "FloatProgressModel",
            "_view_count": null,
            "_view_module": "@jupyter-widgets/controls",
            "_view_module_version": "1.5.0",
            "_view_name": "ProgressView",
            "bar_style": "success",
            "description": "",
            "description_tooltip": null,
            "layout": "IPY_MODEL_be547eb8ad7b45d58d164daedf8963f1",
            "max": 466062,
            "min": 0,
            "orientation": "horizontal",
            "style": "IPY_MODEL_9c22399fa42445c488e3fac3b53bc00f",
            "value": 466062
          }
        },
        "d86a2b93b79d4ed9b30b1871d262851b": {
          "model_module": "@jupyter-widgets/controls",
          "model_name": "HTMLModel",
          "model_module_version": "1.5.0",
          "state": {
            "_dom_classes": [],
            "_model_module": "@jupyter-widgets/controls",
            "_model_module_version": "1.5.0",
            "_model_name": "HTMLModel",
            "_view_count": null,
            "_view_module": "@jupyter-widgets/controls",
            "_view_module_version": "1.5.0",
            "_view_name": "HTMLView",
            "description": "",
            "description_tooltip": null,
            "layout": "IPY_MODEL_307cfaa258a74ec58ade809e56fd5327",
            "placeholder": "​",
            "style": "IPY_MODEL_c26fd3f9c57c4a3da42c33207b21eec4",
            "value": " 466k/466k [00:00&lt;00:00, 2.49MB/s]"
          }
        },
        "90bc08ce23b0484ab2bd4c51e1453e54": {
          "model_module": "@jupyter-widgets/base",
          "model_name": "LayoutModel",
          "model_module_version": "1.2.0",
          "state": {
            "_model_module": "@jupyter-widgets/base",
            "_model_module_version": "1.2.0",
            "_model_name": "LayoutModel",
            "_view_count": null,
            "_view_module": "@jupyter-widgets/base",
            "_view_module_version": "1.2.0",
            "_view_name": "LayoutView",
            "align_content": null,
            "align_items": null,
            "align_self": null,
            "border": null,
            "bottom": null,
            "display": null,
            "flex": null,
            "flex_flow": null,
            "grid_area": null,
            "grid_auto_columns": null,
            "grid_auto_flow": null,
            "grid_auto_rows": null,
            "grid_column": null,
            "grid_gap": null,
            "grid_row": null,
            "grid_template_areas": null,
            "grid_template_columns": null,
            "grid_template_rows": null,
            "height": null,
            "justify_content": null,
            "justify_items": null,
            "left": null,
            "margin": null,
            "max_height": null,
            "max_width": null,
            "min_height": null,
            "min_width": null,
            "object_fit": null,
            "object_position": null,
            "order": null,
            "overflow": null,
            "overflow_x": null,
            "overflow_y": null,
            "padding": null,
            "right": null,
            "top": null,
            "visibility": null,
            "width": null
          }
        },
        "dd8a5fed31084e749e12b0e7257d0a99": {
          "model_module": "@jupyter-widgets/base",
          "model_name": "LayoutModel",
          "model_module_version": "1.2.0",
          "state": {
            "_model_module": "@jupyter-widgets/base",
            "_model_module_version": "1.2.0",
            "_model_name": "LayoutModel",
            "_view_count": null,
            "_view_module": "@jupyter-widgets/base",
            "_view_module_version": "1.2.0",
            "_view_name": "LayoutView",
            "align_content": null,
            "align_items": null,
            "align_self": null,
            "border": null,
            "bottom": null,
            "display": null,
            "flex": null,
            "flex_flow": null,
            "grid_area": null,
            "grid_auto_columns": null,
            "grid_auto_flow": null,
            "grid_auto_rows": null,
            "grid_column": null,
            "grid_gap": null,
            "grid_row": null,
            "grid_template_areas": null,
            "grid_template_columns": null,
            "grid_template_rows": null,
            "height": null,
            "justify_content": null,
            "justify_items": null,
            "left": null,
            "margin": null,
            "max_height": null,
            "max_width": null,
            "min_height": null,
            "min_width": null,
            "object_fit": null,
            "object_position": null,
            "order": null,
            "overflow": null,
            "overflow_x": null,
            "overflow_y": null,
            "padding": null,
            "right": null,
            "top": null,
            "visibility": null,
            "width": null
          }
        },
        "868adcb2a63841c3ad3a39fc8b21e736": {
          "model_module": "@jupyter-widgets/controls",
          "model_name": "DescriptionStyleModel",
          "model_module_version": "1.5.0",
          "state": {
            "_model_module": "@jupyter-widgets/controls",
            "_model_module_version": "1.5.0",
            "_model_name": "DescriptionStyleModel",
            "_view_count": null,
            "_view_module": "@jupyter-widgets/base",
            "_view_module_version": "1.2.0",
            "_view_name": "StyleView",
            "description_width": ""
          }
        },
        "be547eb8ad7b45d58d164daedf8963f1": {
          "model_module": "@jupyter-widgets/base",
          "model_name": "LayoutModel",
          "model_module_version": "1.2.0",
          "state": {
            "_model_module": "@jupyter-widgets/base",
            "_model_module_version": "1.2.0",
            "_model_name": "LayoutModel",
            "_view_count": null,
            "_view_module": "@jupyter-widgets/base",
            "_view_module_version": "1.2.0",
            "_view_name": "LayoutView",
            "align_content": null,
            "align_items": null,
            "align_self": null,
            "border": null,
            "bottom": null,
            "display": null,
            "flex": null,
            "flex_flow": null,
            "grid_area": null,
            "grid_auto_columns": null,
            "grid_auto_flow": null,
            "grid_auto_rows": null,
            "grid_column": null,
            "grid_gap": null,
            "grid_row": null,
            "grid_template_areas": null,
            "grid_template_columns": null,
            "grid_template_rows": null,
            "height": null,
            "justify_content": null,
            "justify_items": null,
            "left": null,
            "margin": null,
            "max_height": null,
            "max_width": null,
            "min_height": null,
            "min_width": null,
            "object_fit": null,
            "object_position": null,
            "order": null,
            "overflow": null,
            "overflow_x": null,
            "overflow_y": null,
            "padding": null,
            "right": null,
            "top": null,
            "visibility": null,
            "width": null
          }
        },
        "9c22399fa42445c488e3fac3b53bc00f": {
          "model_module": "@jupyter-widgets/controls",
          "model_name": "ProgressStyleModel",
          "model_module_version": "1.5.0",
          "state": {
            "_model_module": "@jupyter-widgets/controls",
            "_model_module_version": "1.5.0",
            "_model_name": "ProgressStyleModel",
            "_view_count": null,
            "_view_module": "@jupyter-widgets/base",
            "_view_module_version": "1.2.0",
            "_view_name": "StyleView",
            "bar_color": null,
            "description_width": ""
          }
        },
        "307cfaa258a74ec58ade809e56fd5327": {
          "model_module": "@jupyter-widgets/base",
          "model_name": "LayoutModel",
          "model_module_version": "1.2.0",
          "state": {
            "_model_module": "@jupyter-widgets/base",
            "_model_module_version": "1.2.0",
            "_model_name": "LayoutModel",
            "_view_count": null,
            "_view_module": "@jupyter-widgets/base",
            "_view_module_version": "1.2.0",
            "_view_name": "LayoutView",
            "align_content": null,
            "align_items": null,
            "align_self": null,
            "border": null,
            "bottom": null,
            "display": null,
            "flex": null,
            "flex_flow": null,
            "grid_area": null,
            "grid_auto_columns": null,
            "grid_auto_flow": null,
            "grid_auto_rows": null,
            "grid_column": null,
            "grid_gap": null,
            "grid_row": null,
            "grid_template_areas": null,
            "grid_template_columns": null,
            "grid_template_rows": null,
            "height": null,
            "justify_content": null,
            "justify_items": null,
            "left": null,
            "margin": null,
            "max_height": null,
            "max_width": null,
            "min_height": null,
            "min_width": null,
            "object_fit": null,
            "object_position": null,
            "order": null,
            "overflow": null,
            "overflow_x": null,
            "overflow_y": null,
            "padding": null,
            "right": null,
            "top": null,
            "visibility": null,
            "width": null
          }
        },
        "c26fd3f9c57c4a3da42c33207b21eec4": {
          "model_module": "@jupyter-widgets/controls",
          "model_name": "DescriptionStyleModel",
          "model_module_version": "1.5.0",
          "state": {
            "_model_module": "@jupyter-widgets/controls",
            "_model_module_version": "1.5.0",
            "_model_name": "DescriptionStyleModel",
            "_view_count": null,
            "_view_module": "@jupyter-widgets/base",
            "_view_module_version": "1.2.0",
            "_view_name": "StyleView",
            "description_width": ""
          }
        },
        "72f417932eff4611abdaf690cfc0400c": {
          "model_module": "@jupyter-widgets/controls",
          "model_name": "HBoxModel",
          "model_module_version": "1.5.0",
          "state": {
            "_dom_classes": [],
            "_model_module": "@jupyter-widgets/controls",
            "_model_module_version": "1.5.0",
            "_model_name": "HBoxModel",
            "_view_count": null,
            "_view_module": "@jupyter-widgets/controls",
            "_view_module_version": "1.5.0",
            "_view_name": "HBoxView",
            "box_style": "",
            "children": [
              "IPY_MODEL_ea8c1f787f4e4220942de158de65156d",
              "IPY_MODEL_ae0bdb878c244535a41e99cb43300c24",
              "IPY_MODEL_0af860a9306643da8eff5c04f3f6f0fc"
            ],
            "layout": "IPY_MODEL_d8a95e4a17524224be8ed635da4f4b5e"
          }
        },
        "ea8c1f787f4e4220942de158de65156d": {
          "model_module": "@jupyter-widgets/controls",
          "model_name": "HTMLModel",
          "model_module_version": "1.5.0",
          "state": {
            "_dom_classes": [],
            "_model_module": "@jupyter-widgets/controls",
            "_model_module_version": "1.5.0",
            "_model_name": "HTMLModel",
            "_view_count": null,
            "_view_module": "@jupyter-widgets/controls",
            "_view_module_version": "1.5.0",
            "_view_name": "HTMLView",
            "description": "",
            "description_tooltip": null,
            "layout": "IPY_MODEL_f2809e08806b498699158655441b521d",
            "placeholder": "​",
            "style": "IPY_MODEL_74c1057874d344578290b3eb286b8bae",
            "value": "model.safetensors: 100%"
          }
        },
        "ae0bdb878c244535a41e99cb43300c24": {
          "model_module": "@jupyter-widgets/controls",
          "model_name": "FloatProgressModel",
          "model_module_version": "1.5.0",
          "state": {
            "_dom_classes": [],
            "_model_module": "@jupyter-widgets/controls",
            "_model_module_version": "1.5.0",
            "_model_name": "FloatProgressModel",
            "_view_count": null,
            "_view_module": "@jupyter-widgets/controls",
            "_view_module_version": "1.5.0",
            "_view_name": "ProgressView",
            "bar_style": "success",
            "description": "",
            "description_tooltip": null,
            "layout": "IPY_MODEL_4bfcc1a15a964532a58b80ba58bbd82f",
            "max": 440449768,
            "min": 0,
            "orientation": "horizontal",
            "style": "IPY_MODEL_f945803b58d54eef98306ec5e3395563",
            "value": 440449768
          }
        },
        "0af860a9306643da8eff5c04f3f6f0fc": {
          "model_module": "@jupyter-widgets/controls",
          "model_name": "HTMLModel",
          "model_module_version": "1.5.0",
          "state": {
            "_dom_classes": [],
            "_model_module": "@jupyter-widgets/controls",
            "_model_module_version": "1.5.0",
            "_model_name": "HTMLModel",
            "_view_count": null,
            "_view_module": "@jupyter-widgets/controls",
            "_view_module_version": "1.5.0",
            "_view_name": "HTMLView",
            "description": "",
            "description_tooltip": null,
            "layout": "IPY_MODEL_f20267087c62429fa407480abf376d48",
            "placeholder": "​",
            "style": "IPY_MODEL_b8fd8682b8b446d8a968a64e8c240277",
            "value": " 440M/440M [00:04&lt;00:00, 110MB/s]"
          }
        },
        "d8a95e4a17524224be8ed635da4f4b5e": {
          "model_module": "@jupyter-widgets/base",
          "model_name": "LayoutModel",
          "model_module_version": "1.2.0",
          "state": {
            "_model_module": "@jupyter-widgets/base",
            "_model_module_version": "1.2.0",
            "_model_name": "LayoutModel",
            "_view_count": null,
            "_view_module": "@jupyter-widgets/base",
            "_view_module_version": "1.2.0",
            "_view_name": "LayoutView",
            "align_content": null,
            "align_items": null,
            "align_self": null,
            "border": null,
            "bottom": null,
            "display": null,
            "flex": null,
            "flex_flow": null,
            "grid_area": null,
            "grid_auto_columns": null,
            "grid_auto_flow": null,
            "grid_auto_rows": null,
            "grid_column": null,
            "grid_gap": null,
            "grid_row": null,
            "grid_template_areas": null,
            "grid_template_columns": null,
            "grid_template_rows": null,
            "height": null,
            "justify_content": null,
            "justify_items": null,
            "left": null,
            "margin": null,
            "max_height": null,
            "max_width": null,
            "min_height": null,
            "min_width": null,
            "object_fit": null,
            "object_position": null,
            "order": null,
            "overflow": null,
            "overflow_x": null,
            "overflow_y": null,
            "padding": null,
            "right": null,
            "top": null,
            "visibility": null,
            "width": null
          }
        },
        "f2809e08806b498699158655441b521d": {
          "model_module": "@jupyter-widgets/base",
          "model_name": "LayoutModel",
          "model_module_version": "1.2.0",
          "state": {
            "_model_module": "@jupyter-widgets/base",
            "_model_module_version": "1.2.0",
            "_model_name": "LayoutModel",
            "_view_count": null,
            "_view_module": "@jupyter-widgets/base",
            "_view_module_version": "1.2.0",
            "_view_name": "LayoutView",
            "align_content": null,
            "align_items": null,
            "align_self": null,
            "border": null,
            "bottom": null,
            "display": null,
            "flex": null,
            "flex_flow": null,
            "grid_area": null,
            "grid_auto_columns": null,
            "grid_auto_flow": null,
            "grid_auto_rows": null,
            "grid_column": null,
            "grid_gap": null,
            "grid_row": null,
            "grid_template_areas": null,
            "grid_template_columns": null,
            "grid_template_rows": null,
            "height": null,
            "justify_content": null,
            "justify_items": null,
            "left": null,
            "margin": null,
            "max_height": null,
            "max_width": null,
            "min_height": null,
            "min_width": null,
            "object_fit": null,
            "object_position": null,
            "order": null,
            "overflow": null,
            "overflow_x": null,
            "overflow_y": null,
            "padding": null,
            "right": null,
            "top": null,
            "visibility": null,
            "width": null
          }
        },
        "74c1057874d344578290b3eb286b8bae": {
          "model_module": "@jupyter-widgets/controls",
          "model_name": "DescriptionStyleModel",
          "model_module_version": "1.5.0",
          "state": {
            "_model_module": "@jupyter-widgets/controls",
            "_model_module_version": "1.5.0",
            "_model_name": "DescriptionStyleModel",
            "_view_count": null,
            "_view_module": "@jupyter-widgets/base",
            "_view_module_version": "1.2.0",
            "_view_name": "StyleView",
            "description_width": ""
          }
        },
        "4bfcc1a15a964532a58b80ba58bbd82f": {
          "model_module": "@jupyter-widgets/base",
          "model_name": "LayoutModel",
          "model_module_version": "1.2.0",
          "state": {
            "_model_module": "@jupyter-widgets/base",
            "_model_module_version": "1.2.0",
            "_model_name": "LayoutModel",
            "_view_count": null,
            "_view_module": "@jupyter-widgets/base",
            "_view_module_version": "1.2.0",
            "_view_name": "LayoutView",
            "align_content": null,
            "align_items": null,
            "align_self": null,
            "border": null,
            "bottom": null,
            "display": null,
            "flex": null,
            "flex_flow": null,
            "grid_area": null,
            "grid_auto_columns": null,
            "grid_auto_flow": null,
            "grid_auto_rows": null,
            "grid_column": null,
            "grid_gap": null,
            "grid_row": null,
            "grid_template_areas": null,
            "grid_template_columns": null,
            "grid_template_rows": null,
            "height": null,
            "justify_content": null,
            "justify_items": null,
            "left": null,
            "margin": null,
            "max_height": null,
            "max_width": null,
            "min_height": null,
            "min_width": null,
            "object_fit": null,
            "object_position": null,
            "order": null,
            "overflow": null,
            "overflow_x": null,
            "overflow_y": null,
            "padding": null,
            "right": null,
            "top": null,
            "visibility": null,
            "width": null
          }
        },
        "f945803b58d54eef98306ec5e3395563": {
          "model_module": "@jupyter-widgets/controls",
          "model_name": "ProgressStyleModel",
          "model_module_version": "1.5.0",
          "state": {
            "_model_module": "@jupyter-widgets/controls",
            "_model_module_version": "1.5.0",
            "_model_name": "ProgressStyleModel",
            "_view_count": null,
            "_view_module": "@jupyter-widgets/base",
            "_view_module_version": "1.2.0",
            "_view_name": "StyleView",
            "bar_color": null,
            "description_width": ""
          }
        },
        "f20267087c62429fa407480abf376d48": {
          "model_module": "@jupyter-widgets/base",
          "model_name": "LayoutModel",
          "model_module_version": "1.2.0",
          "state": {
            "_model_module": "@jupyter-widgets/base",
            "_model_module_version": "1.2.0",
            "_model_name": "LayoutModel",
            "_view_count": null,
            "_view_module": "@jupyter-widgets/base",
            "_view_module_version": "1.2.0",
            "_view_name": "LayoutView",
            "align_content": null,
            "align_items": null,
            "align_self": null,
            "border": null,
            "bottom": null,
            "display": null,
            "flex": null,
            "flex_flow": null,
            "grid_area": null,
            "grid_auto_columns": null,
            "grid_auto_flow": null,
            "grid_auto_rows": null,
            "grid_column": null,
            "grid_gap": null,
            "grid_row": null,
            "grid_template_areas": null,
            "grid_template_columns": null,
            "grid_template_rows": null,
            "height": null,
            "justify_content": null,
            "justify_items": null,
            "left": null,
            "margin": null,
            "max_height": null,
            "max_width": null,
            "min_height": null,
            "min_width": null,
            "object_fit": null,
            "object_position": null,
            "order": null,
            "overflow": null,
            "overflow_x": null,
            "overflow_y": null,
            "padding": null,
            "right": null,
            "top": null,
            "visibility": null,
            "width": null
          }
        },
        "b8fd8682b8b446d8a968a64e8c240277": {
          "model_module": "@jupyter-widgets/controls",
          "model_name": "DescriptionStyleModel",
          "model_module_version": "1.5.0",
          "state": {
            "_model_module": "@jupyter-widgets/controls",
            "_model_module_version": "1.5.0",
            "_model_name": "DescriptionStyleModel",
            "_view_count": null,
            "_view_module": "@jupyter-widgets/base",
            "_view_module_version": "1.2.0",
            "_view_name": "StyleView",
            "description_width": ""
          }
        },
        "c837bc8702eb460bab1ce7e3fc7c0872": {
          "model_module": "@jupyter-widgets/controls",
          "model_name": "HBoxModel",
          "model_module_version": "1.5.0",
          "state": {
            "_dom_classes": [],
            "_model_module": "@jupyter-widgets/controls",
            "_model_module_version": "1.5.0",
            "_model_name": "HBoxModel",
            "_view_count": null,
            "_view_module": "@jupyter-widgets/controls",
            "_view_module_version": "1.5.0",
            "_view_name": "HBoxView",
            "box_style": "",
            "children": [
              "IPY_MODEL_2360d4e7bfaa44a4b3a4bed2376e4421",
              "IPY_MODEL_44a5ace3081d410a8d2cd1a28f2ae609",
              "IPY_MODEL_3e022ffdebc84764bc5e4248890c7f4f"
            ],
            "layout": "IPY_MODEL_aca580a4597643df85931ad8f7e5e097"
          }
        },
        "2360d4e7bfaa44a4b3a4bed2376e4421": {
          "model_module": "@jupyter-widgets/controls",
          "model_name": "HTMLModel",
          "model_module_version": "1.5.0",
          "state": {
            "_dom_classes": [],
            "_model_module": "@jupyter-widgets/controls",
            "_model_module_version": "1.5.0",
            "_model_name": "HTMLModel",
            "_view_count": null,
            "_view_module": "@jupyter-widgets/controls",
            "_view_module_version": "1.5.0",
            "_view_name": "HTMLView",
            "description": "",
            "description_tooltip": null,
            "layout": "IPY_MODEL_b6a83504eec640a494d6da5727f5926b",
            "placeholder": "​",
            "style": "IPY_MODEL_ab94e55ed56346b7980a83e004b9cf7a",
            "value": "Map: 100%"
          }
        },
        "44a5ace3081d410a8d2cd1a28f2ae609": {
          "model_module": "@jupyter-widgets/controls",
          "model_name": "FloatProgressModel",
          "model_module_version": "1.5.0",
          "state": {
            "_dom_classes": [],
            "_model_module": "@jupyter-widgets/controls",
            "_model_module_version": "1.5.0",
            "_model_name": "FloatProgressModel",
            "_view_count": null,
            "_view_module": "@jupyter-widgets/controls",
            "_view_module_version": "1.5.0",
            "_view_name": "ProgressView",
            "bar_style": "success",
            "description": "",
            "description_tooltip": null,
            "layout": "IPY_MODEL_a73b5de2b6914a559b851a6bac4fab5e",
            "max": 5000,
            "min": 0,
            "orientation": "horizontal",
            "style": "IPY_MODEL_2f0c702794be4738aadeecade8c7320e",
            "value": 5000
          }
        },
        "3e022ffdebc84764bc5e4248890c7f4f": {
          "model_module": "@jupyter-widgets/controls",
          "model_name": "HTMLModel",
          "model_module_version": "1.5.0",
          "state": {
            "_dom_classes": [],
            "_model_module": "@jupyter-widgets/controls",
            "_model_module_version": "1.5.0",
            "_model_name": "HTMLModel",
            "_view_count": null,
            "_view_module": "@jupyter-widgets/controls",
            "_view_module_version": "1.5.0",
            "_view_name": "HTMLView",
            "description": "",
            "description_tooltip": null,
            "layout": "IPY_MODEL_f0a2dfe67fbf4dc7b16d4c74a0db134f",
            "placeholder": "​",
            "style": "IPY_MODEL_ea0322f90e1545a2bb63b79a4c401f62",
            "value": " 5000/5000 [00:00&lt;00:00, 5753.69 examples/s]"
          }
        },
        "aca580a4597643df85931ad8f7e5e097": {
          "model_module": "@jupyter-widgets/base",
          "model_name": "LayoutModel",
          "model_module_version": "1.2.0",
          "state": {
            "_model_module": "@jupyter-widgets/base",
            "_model_module_version": "1.2.0",
            "_model_name": "LayoutModel",
            "_view_count": null,
            "_view_module": "@jupyter-widgets/base",
            "_view_module_version": "1.2.0",
            "_view_name": "LayoutView",
            "align_content": null,
            "align_items": null,
            "align_self": null,
            "border": null,
            "bottom": null,
            "display": null,
            "flex": null,
            "flex_flow": null,
            "grid_area": null,
            "grid_auto_columns": null,
            "grid_auto_flow": null,
            "grid_auto_rows": null,
            "grid_column": null,
            "grid_gap": null,
            "grid_row": null,
            "grid_template_areas": null,
            "grid_template_columns": null,
            "grid_template_rows": null,
            "height": null,
            "justify_content": null,
            "justify_items": null,
            "left": null,
            "margin": null,
            "max_height": null,
            "max_width": null,
            "min_height": null,
            "min_width": null,
            "object_fit": null,
            "object_position": null,
            "order": null,
            "overflow": null,
            "overflow_x": null,
            "overflow_y": null,
            "padding": null,
            "right": null,
            "top": null,
            "visibility": null,
            "width": null
          }
        },
        "b6a83504eec640a494d6da5727f5926b": {
          "model_module": "@jupyter-widgets/base",
          "model_name": "LayoutModel",
          "model_module_version": "1.2.0",
          "state": {
            "_model_module": "@jupyter-widgets/base",
            "_model_module_version": "1.2.0",
            "_model_name": "LayoutModel",
            "_view_count": null,
            "_view_module": "@jupyter-widgets/base",
            "_view_module_version": "1.2.0",
            "_view_name": "LayoutView",
            "align_content": null,
            "align_items": null,
            "align_self": null,
            "border": null,
            "bottom": null,
            "display": null,
            "flex": null,
            "flex_flow": null,
            "grid_area": null,
            "grid_auto_columns": null,
            "grid_auto_flow": null,
            "grid_auto_rows": null,
            "grid_column": null,
            "grid_gap": null,
            "grid_row": null,
            "grid_template_areas": null,
            "grid_template_columns": null,
            "grid_template_rows": null,
            "height": null,
            "justify_content": null,
            "justify_items": null,
            "left": null,
            "margin": null,
            "max_height": null,
            "max_width": null,
            "min_height": null,
            "min_width": null,
            "object_fit": null,
            "object_position": null,
            "order": null,
            "overflow": null,
            "overflow_x": null,
            "overflow_y": null,
            "padding": null,
            "right": null,
            "top": null,
            "visibility": null,
            "width": null
          }
        },
        "ab94e55ed56346b7980a83e004b9cf7a": {
          "model_module": "@jupyter-widgets/controls",
          "model_name": "DescriptionStyleModel",
          "model_module_version": "1.5.0",
          "state": {
            "_model_module": "@jupyter-widgets/controls",
            "_model_module_version": "1.5.0",
            "_model_name": "DescriptionStyleModel",
            "_view_count": null,
            "_view_module": "@jupyter-widgets/base",
            "_view_module_version": "1.2.0",
            "_view_name": "StyleView",
            "description_width": ""
          }
        },
        "a73b5de2b6914a559b851a6bac4fab5e": {
          "model_module": "@jupyter-widgets/base",
          "model_name": "LayoutModel",
          "model_module_version": "1.2.0",
          "state": {
            "_model_module": "@jupyter-widgets/base",
            "_model_module_version": "1.2.0",
            "_model_name": "LayoutModel",
            "_view_count": null,
            "_view_module": "@jupyter-widgets/base",
            "_view_module_version": "1.2.0",
            "_view_name": "LayoutView",
            "align_content": null,
            "align_items": null,
            "align_self": null,
            "border": null,
            "bottom": null,
            "display": null,
            "flex": null,
            "flex_flow": null,
            "grid_area": null,
            "grid_auto_columns": null,
            "grid_auto_flow": null,
            "grid_auto_rows": null,
            "grid_column": null,
            "grid_gap": null,
            "grid_row": null,
            "grid_template_areas": null,
            "grid_template_columns": null,
            "grid_template_rows": null,
            "height": null,
            "justify_content": null,
            "justify_items": null,
            "left": null,
            "margin": null,
            "max_height": null,
            "max_width": null,
            "min_height": null,
            "min_width": null,
            "object_fit": null,
            "object_position": null,
            "order": null,
            "overflow": null,
            "overflow_x": null,
            "overflow_y": null,
            "padding": null,
            "right": null,
            "top": null,
            "visibility": null,
            "width": null
          }
        },
        "2f0c702794be4738aadeecade8c7320e": {
          "model_module": "@jupyter-widgets/controls",
          "model_name": "ProgressStyleModel",
          "model_module_version": "1.5.0",
          "state": {
            "_model_module": "@jupyter-widgets/controls",
            "_model_module_version": "1.5.0",
            "_model_name": "ProgressStyleModel",
            "_view_count": null,
            "_view_module": "@jupyter-widgets/base",
            "_view_module_version": "1.2.0",
            "_view_name": "StyleView",
            "bar_color": null,
            "description_width": ""
          }
        },
        "f0a2dfe67fbf4dc7b16d4c74a0db134f": {
          "model_module": "@jupyter-widgets/base",
          "model_name": "LayoutModel",
          "model_module_version": "1.2.0",
          "state": {
            "_model_module": "@jupyter-widgets/base",
            "_model_module_version": "1.2.0",
            "_model_name": "LayoutModel",
            "_view_count": null,
            "_view_module": "@jupyter-widgets/base",
            "_view_module_version": "1.2.0",
            "_view_name": "LayoutView",
            "align_content": null,
            "align_items": null,
            "align_self": null,
            "border": null,
            "bottom": null,
            "display": null,
            "flex": null,
            "flex_flow": null,
            "grid_area": null,
            "grid_auto_columns": null,
            "grid_auto_flow": null,
            "grid_auto_rows": null,
            "grid_column": null,
            "grid_gap": null,
            "grid_row": null,
            "grid_template_areas": null,
            "grid_template_columns": null,
            "grid_template_rows": null,
            "height": null,
            "justify_content": null,
            "justify_items": null,
            "left": null,
            "margin": null,
            "max_height": null,
            "max_width": null,
            "min_height": null,
            "min_width": null,
            "object_fit": null,
            "object_position": null,
            "order": null,
            "overflow": null,
            "overflow_x": null,
            "overflow_y": null,
            "padding": null,
            "right": null,
            "top": null,
            "visibility": null,
            "width": null
          }
        },
        "ea0322f90e1545a2bb63b79a4c401f62": {
          "model_module": "@jupyter-widgets/controls",
          "model_name": "DescriptionStyleModel",
          "model_module_version": "1.5.0",
          "state": {
            "_model_module": "@jupyter-widgets/controls",
            "_model_module_version": "1.5.0",
            "_model_name": "DescriptionStyleModel",
            "_view_count": null,
            "_view_module": "@jupyter-widgets/base",
            "_view_module_version": "1.2.0",
            "_view_name": "StyleView",
            "description_width": ""
          }
        },
        "47012527338b4091992c2ea04c7dae9d": {
          "model_module": "@jupyter-widgets/controls",
          "model_name": "HBoxModel",
          "model_module_version": "1.5.0",
          "state": {
            "_dom_classes": [],
            "_model_module": "@jupyter-widgets/controls",
            "_model_module_version": "1.5.0",
            "_model_name": "HBoxModel",
            "_view_count": null,
            "_view_module": "@jupyter-widgets/controls",
            "_view_module_version": "1.5.0",
            "_view_name": "HBoxView",
            "box_style": "",
            "children": [
              "IPY_MODEL_8f8d19280d734675ad552f1774cad4a3",
              "IPY_MODEL_fb2bd84a6b074ea3bdceb36058444940",
              "IPY_MODEL_b747f965598e4388bce98f3053e395f0"
            ],
            "layout": "IPY_MODEL_c5dfa8b209e8422eb5c066738853f2a7"
          }
        },
        "8f8d19280d734675ad552f1774cad4a3": {
          "model_module": "@jupyter-widgets/controls",
          "model_name": "HTMLModel",
          "model_module_version": "1.5.0",
          "state": {
            "_dom_classes": [],
            "_model_module": "@jupyter-widgets/controls",
            "_model_module_version": "1.5.0",
            "_model_name": "HTMLModel",
            "_view_count": null,
            "_view_module": "@jupyter-widgets/controls",
            "_view_module_version": "1.5.0",
            "_view_name": "HTMLView",
            "description": "",
            "description_tooltip": null,
            "layout": "IPY_MODEL_f8f8bff51c3f4c7a87a56093ca6f14f3",
            "placeholder": "​",
            "style": "IPY_MODEL_403abe025e6c40feb88d9f0a6986dcc8",
            "value": "Map: 100%"
          }
        },
        "fb2bd84a6b074ea3bdceb36058444940": {
          "model_module": "@jupyter-widgets/controls",
          "model_name": "FloatProgressModel",
          "model_module_version": "1.5.0",
          "state": {
            "_dom_classes": [],
            "_model_module": "@jupyter-widgets/controls",
            "_model_module_version": "1.5.0",
            "_model_name": "FloatProgressModel",
            "_view_count": null,
            "_view_module": "@jupyter-widgets/controls",
            "_view_module_version": "1.5.0",
            "_view_name": "ProgressView",
            "bar_style": "success",
            "description": "",
            "description_tooltip": null,
            "layout": "IPY_MODEL_8438565ce8234ff995c396a32a4066d3",
            "max": 5000,
            "min": 0,
            "orientation": "horizontal",
            "style": "IPY_MODEL_819a003c24cc49c58422681f298a481f",
            "value": 5000
          }
        },
        "b747f965598e4388bce98f3053e395f0": {
          "model_module": "@jupyter-widgets/controls",
          "model_name": "HTMLModel",
          "model_module_version": "1.5.0",
          "state": {
            "_dom_classes": [],
            "_model_module": "@jupyter-widgets/controls",
            "_model_module_version": "1.5.0",
            "_model_name": "HTMLModel",
            "_view_count": null,
            "_view_module": "@jupyter-widgets/controls",
            "_view_module_version": "1.5.0",
            "_view_name": "HTMLView",
            "description": "",
            "description_tooltip": null,
            "layout": "IPY_MODEL_497126e46a7c4989b6dc120c8ad4bc9e",
            "placeholder": "​",
            "style": "IPY_MODEL_4650ca498c7a4a14a0d8bfd26764a6e2",
            "value": " 5000/5000 [00:00&lt;00:00, 14338.36 examples/s]"
          }
        },
        "c5dfa8b209e8422eb5c066738853f2a7": {
          "model_module": "@jupyter-widgets/base",
          "model_name": "LayoutModel",
          "model_module_version": "1.2.0",
          "state": {
            "_model_module": "@jupyter-widgets/base",
            "_model_module_version": "1.2.0",
            "_model_name": "LayoutModel",
            "_view_count": null,
            "_view_module": "@jupyter-widgets/base",
            "_view_module_version": "1.2.0",
            "_view_name": "LayoutView",
            "align_content": null,
            "align_items": null,
            "align_self": null,
            "border": null,
            "bottom": null,
            "display": null,
            "flex": null,
            "flex_flow": null,
            "grid_area": null,
            "grid_auto_columns": null,
            "grid_auto_flow": null,
            "grid_auto_rows": null,
            "grid_column": null,
            "grid_gap": null,
            "grid_row": null,
            "grid_template_areas": null,
            "grid_template_columns": null,
            "grid_template_rows": null,
            "height": null,
            "justify_content": null,
            "justify_items": null,
            "left": null,
            "margin": null,
            "max_height": null,
            "max_width": null,
            "min_height": null,
            "min_width": null,
            "object_fit": null,
            "object_position": null,
            "order": null,
            "overflow": null,
            "overflow_x": null,
            "overflow_y": null,
            "padding": null,
            "right": null,
            "top": null,
            "visibility": null,
            "width": null
          }
        },
        "f8f8bff51c3f4c7a87a56093ca6f14f3": {
          "model_module": "@jupyter-widgets/base",
          "model_name": "LayoutModel",
          "model_module_version": "1.2.0",
          "state": {
            "_model_module": "@jupyter-widgets/base",
            "_model_module_version": "1.2.0",
            "_model_name": "LayoutModel",
            "_view_count": null,
            "_view_module": "@jupyter-widgets/base",
            "_view_module_version": "1.2.0",
            "_view_name": "LayoutView",
            "align_content": null,
            "align_items": null,
            "align_self": null,
            "border": null,
            "bottom": null,
            "display": null,
            "flex": null,
            "flex_flow": null,
            "grid_area": null,
            "grid_auto_columns": null,
            "grid_auto_flow": null,
            "grid_auto_rows": null,
            "grid_column": null,
            "grid_gap": null,
            "grid_row": null,
            "grid_template_areas": null,
            "grid_template_columns": null,
            "grid_template_rows": null,
            "height": null,
            "justify_content": null,
            "justify_items": null,
            "left": null,
            "margin": null,
            "max_height": null,
            "max_width": null,
            "min_height": null,
            "min_width": null,
            "object_fit": null,
            "object_position": null,
            "order": null,
            "overflow": null,
            "overflow_x": null,
            "overflow_y": null,
            "padding": null,
            "right": null,
            "top": null,
            "visibility": null,
            "width": null
          }
        },
        "403abe025e6c40feb88d9f0a6986dcc8": {
          "model_module": "@jupyter-widgets/controls",
          "model_name": "DescriptionStyleModel",
          "model_module_version": "1.5.0",
          "state": {
            "_model_module": "@jupyter-widgets/controls",
            "_model_module_version": "1.5.0",
            "_model_name": "DescriptionStyleModel",
            "_view_count": null,
            "_view_module": "@jupyter-widgets/base",
            "_view_module_version": "1.2.0",
            "_view_name": "StyleView",
            "description_width": ""
          }
        },
        "8438565ce8234ff995c396a32a4066d3": {
          "model_module": "@jupyter-widgets/base",
          "model_name": "LayoutModel",
          "model_module_version": "1.2.0",
          "state": {
            "_model_module": "@jupyter-widgets/base",
            "_model_module_version": "1.2.0",
            "_model_name": "LayoutModel",
            "_view_count": null,
            "_view_module": "@jupyter-widgets/base",
            "_view_module_version": "1.2.0",
            "_view_name": "LayoutView",
            "align_content": null,
            "align_items": null,
            "align_self": null,
            "border": null,
            "bottom": null,
            "display": null,
            "flex": null,
            "flex_flow": null,
            "grid_area": null,
            "grid_auto_columns": null,
            "grid_auto_flow": null,
            "grid_auto_rows": null,
            "grid_column": null,
            "grid_gap": null,
            "grid_row": null,
            "grid_template_areas": null,
            "grid_template_columns": null,
            "grid_template_rows": null,
            "height": null,
            "justify_content": null,
            "justify_items": null,
            "left": null,
            "margin": null,
            "max_height": null,
            "max_width": null,
            "min_height": null,
            "min_width": null,
            "object_fit": null,
            "object_position": null,
            "order": null,
            "overflow": null,
            "overflow_x": null,
            "overflow_y": null,
            "padding": null,
            "right": null,
            "top": null,
            "visibility": null,
            "width": null
          }
        },
        "819a003c24cc49c58422681f298a481f": {
          "model_module": "@jupyter-widgets/controls",
          "model_name": "ProgressStyleModel",
          "model_module_version": "1.5.0",
          "state": {
            "_model_module": "@jupyter-widgets/controls",
            "_model_module_version": "1.5.0",
            "_model_name": "ProgressStyleModel",
            "_view_count": null,
            "_view_module": "@jupyter-widgets/base",
            "_view_module_version": "1.2.0",
            "_view_name": "StyleView",
            "bar_color": null,
            "description_width": ""
          }
        },
        "497126e46a7c4989b6dc120c8ad4bc9e": {
          "model_module": "@jupyter-widgets/base",
          "model_name": "LayoutModel",
          "model_module_version": "1.2.0",
          "state": {
            "_model_module": "@jupyter-widgets/base",
            "_model_module_version": "1.2.0",
            "_model_name": "LayoutModel",
            "_view_count": null,
            "_view_module": "@jupyter-widgets/base",
            "_view_module_version": "1.2.0",
            "_view_name": "LayoutView",
            "align_content": null,
            "align_items": null,
            "align_self": null,
            "border": null,
            "bottom": null,
            "display": null,
            "flex": null,
            "flex_flow": null,
            "grid_area": null,
            "grid_auto_columns": null,
            "grid_auto_flow": null,
            "grid_auto_rows": null,
            "grid_column": null,
            "grid_gap": null,
            "grid_row": null,
            "grid_template_areas": null,
            "grid_template_columns": null,
            "grid_template_rows": null,
            "height": null,
            "justify_content": null,
            "justify_items": null,
            "left": null,
            "margin": null,
            "max_height": null,
            "max_width": null,
            "min_height": null,
            "min_width": null,
            "object_fit": null,
            "object_position": null,
            "order": null,
            "overflow": null,
            "overflow_x": null,
            "overflow_y": null,
            "padding": null,
            "right": null,
            "top": null,
            "visibility": null,
            "width": null
          }
        },
        "4650ca498c7a4a14a0d8bfd26764a6e2": {
          "model_module": "@jupyter-widgets/controls",
          "model_name": "DescriptionStyleModel",
          "model_module_version": "1.5.0",
          "state": {
            "_model_module": "@jupyter-widgets/controls",
            "_model_module_version": "1.5.0",
            "_model_name": "DescriptionStyleModel",
            "_view_count": null,
            "_view_module": "@jupyter-widgets/base",
            "_view_module_version": "1.2.0",
            "_view_name": "StyleView",
            "description_width": ""
          }
        },
        "19a3b5830421490bb363b3700ff93a13": {
          "model_module": "@jupyter-widgets/controls",
          "model_name": "HBoxModel",
          "model_module_version": "1.5.0",
          "state": {
            "_dom_classes": [],
            "_model_module": "@jupyter-widgets/controls",
            "_model_module_version": "1.5.0",
            "_model_name": "HBoxModel",
            "_view_count": null,
            "_view_module": "@jupyter-widgets/controls",
            "_view_module_version": "1.5.0",
            "_view_name": "HBoxView",
            "box_style": "",
            "children": [
              "IPY_MODEL_cca64ec8e8764be19686db8151118c5e",
              "IPY_MODEL_9e70128cc47c42b99deb61aaaeb4ca23",
              "IPY_MODEL_b01c1bcbcf204ca895cd688993065d60"
            ],
            "layout": "IPY_MODEL_2f57a801688647a4a96ad9e404d98a8f"
          }
        },
        "cca64ec8e8764be19686db8151118c5e": {
          "model_module": "@jupyter-widgets/controls",
          "model_name": "HTMLModel",
          "model_module_version": "1.5.0",
          "state": {
            "_dom_classes": [],
            "_model_module": "@jupyter-widgets/controls",
            "_model_module_version": "1.5.0",
            "_model_name": "HTMLModel",
            "_view_count": null,
            "_view_module": "@jupyter-widgets/controls",
            "_view_module_version": "1.5.0",
            "_view_name": "HTMLView",
            "description": "",
            "description_tooltip": null,
            "layout": "IPY_MODEL_6a9cf408e8104f709d6eba937042397a",
            "placeholder": "​",
            "style": "IPY_MODEL_56ef4a23dd0c4f75b3129020cc94d38a",
            "value": "config.json: 100%"
          }
        },
        "9e70128cc47c42b99deb61aaaeb4ca23": {
          "model_module": "@jupyter-widgets/controls",
          "model_name": "FloatProgressModel",
          "model_module_version": "1.5.0",
          "state": {
            "_dom_classes": [],
            "_model_module": "@jupyter-widgets/controls",
            "_model_module_version": "1.5.0",
            "_model_name": "FloatProgressModel",
            "_view_count": null,
            "_view_module": "@jupyter-widgets/controls",
            "_view_module_version": "1.5.0",
            "_view_name": "ProgressView",
            "bar_style": "success",
            "description": "",
            "description_tooltip": null,
            "layout": "IPY_MODEL_13ea84ae952d4d56919fb759692722f9",
            "max": 636,
            "min": 0,
            "orientation": "horizontal",
            "style": "IPY_MODEL_e599a2edf25c43efb60d47f124f8265c",
            "value": 636
          }
        },
        "b01c1bcbcf204ca895cd688993065d60": {
          "model_module": "@jupyter-widgets/controls",
          "model_name": "HTMLModel",
          "model_module_version": "1.5.0",
          "state": {
            "_dom_classes": [],
            "_model_module": "@jupyter-widgets/controls",
            "_model_module_version": "1.5.0",
            "_model_name": "HTMLModel",
            "_view_count": null,
            "_view_module": "@jupyter-widgets/controls",
            "_view_module_version": "1.5.0",
            "_view_name": "HTMLView",
            "description": "",
            "description_tooltip": null,
            "layout": "IPY_MODEL_de5b63f0f16742369198125bec416f2f",
            "placeholder": "​",
            "style": "IPY_MODEL_d241428e0b344795bf08a7ea6b2c2294",
            "value": " 636/636 [00:00&lt;00:00, 11.0kB/s]"
          }
        },
        "2f57a801688647a4a96ad9e404d98a8f": {
          "model_module": "@jupyter-widgets/base",
          "model_name": "LayoutModel",
          "model_module_version": "1.2.0",
          "state": {
            "_model_module": "@jupyter-widgets/base",
            "_model_module_version": "1.2.0",
            "_model_name": "LayoutModel",
            "_view_count": null,
            "_view_module": "@jupyter-widgets/base",
            "_view_module_version": "1.2.0",
            "_view_name": "LayoutView",
            "align_content": null,
            "align_items": null,
            "align_self": null,
            "border": null,
            "bottom": null,
            "display": null,
            "flex": null,
            "flex_flow": null,
            "grid_area": null,
            "grid_auto_columns": null,
            "grid_auto_flow": null,
            "grid_auto_rows": null,
            "grid_column": null,
            "grid_gap": null,
            "grid_row": null,
            "grid_template_areas": null,
            "grid_template_columns": null,
            "grid_template_rows": null,
            "height": null,
            "justify_content": null,
            "justify_items": null,
            "left": null,
            "margin": null,
            "max_height": null,
            "max_width": null,
            "min_height": null,
            "min_width": null,
            "object_fit": null,
            "object_position": null,
            "order": null,
            "overflow": null,
            "overflow_x": null,
            "overflow_y": null,
            "padding": null,
            "right": null,
            "top": null,
            "visibility": null,
            "width": null
          }
        },
        "6a9cf408e8104f709d6eba937042397a": {
          "model_module": "@jupyter-widgets/base",
          "model_name": "LayoutModel",
          "model_module_version": "1.2.0",
          "state": {
            "_model_module": "@jupyter-widgets/base",
            "_model_module_version": "1.2.0",
            "_model_name": "LayoutModel",
            "_view_count": null,
            "_view_module": "@jupyter-widgets/base",
            "_view_module_version": "1.2.0",
            "_view_name": "LayoutView",
            "align_content": null,
            "align_items": null,
            "align_self": null,
            "border": null,
            "bottom": null,
            "display": null,
            "flex": null,
            "flex_flow": null,
            "grid_area": null,
            "grid_auto_columns": null,
            "grid_auto_flow": null,
            "grid_auto_rows": null,
            "grid_column": null,
            "grid_gap": null,
            "grid_row": null,
            "grid_template_areas": null,
            "grid_template_columns": null,
            "grid_template_rows": null,
            "height": null,
            "justify_content": null,
            "justify_items": null,
            "left": null,
            "margin": null,
            "max_height": null,
            "max_width": null,
            "min_height": null,
            "min_width": null,
            "object_fit": null,
            "object_position": null,
            "order": null,
            "overflow": null,
            "overflow_x": null,
            "overflow_y": null,
            "padding": null,
            "right": null,
            "top": null,
            "visibility": null,
            "width": null
          }
        },
        "56ef4a23dd0c4f75b3129020cc94d38a": {
          "model_module": "@jupyter-widgets/controls",
          "model_name": "DescriptionStyleModel",
          "model_module_version": "1.5.0",
          "state": {
            "_model_module": "@jupyter-widgets/controls",
            "_model_module_version": "1.5.0",
            "_model_name": "DescriptionStyleModel",
            "_view_count": null,
            "_view_module": "@jupyter-widgets/base",
            "_view_module_version": "1.2.0",
            "_view_name": "StyleView",
            "description_width": ""
          }
        },
        "13ea84ae952d4d56919fb759692722f9": {
          "model_module": "@jupyter-widgets/base",
          "model_name": "LayoutModel",
          "model_module_version": "1.2.0",
          "state": {
            "_model_module": "@jupyter-widgets/base",
            "_model_module_version": "1.2.0",
            "_model_name": "LayoutModel",
            "_view_count": null,
            "_view_module": "@jupyter-widgets/base",
            "_view_module_version": "1.2.0",
            "_view_name": "LayoutView",
            "align_content": null,
            "align_items": null,
            "align_self": null,
            "border": null,
            "bottom": null,
            "display": null,
            "flex": null,
            "flex_flow": null,
            "grid_area": null,
            "grid_auto_columns": null,
            "grid_auto_flow": null,
            "grid_auto_rows": null,
            "grid_column": null,
            "grid_gap": null,
            "grid_row": null,
            "grid_template_areas": null,
            "grid_template_columns": null,
            "grid_template_rows": null,
            "height": null,
            "justify_content": null,
            "justify_items": null,
            "left": null,
            "margin": null,
            "max_height": null,
            "max_width": null,
            "min_height": null,
            "min_width": null,
            "object_fit": null,
            "object_position": null,
            "order": null,
            "overflow": null,
            "overflow_x": null,
            "overflow_y": null,
            "padding": null,
            "right": null,
            "top": null,
            "visibility": null,
            "width": null
          }
        },
        "e599a2edf25c43efb60d47f124f8265c": {
          "model_module": "@jupyter-widgets/controls",
          "model_name": "ProgressStyleModel",
          "model_module_version": "1.5.0",
          "state": {
            "_model_module": "@jupyter-widgets/controls",
            "_model_module_version": "1.5.0",
            "_model_name": "ProgressStyleModel",
            "_view_count": null,
            "_view_module": "@jupyter-widgets/base",
            "_view_module_version": "1.2.0",
            "_view_name": "StyleView",
            "bar_color": null,
            "description_width": ""
          }
        },
        "de5b63f0f16742369198125bec416f2f": {
          "model_module": "@jupyter-widgets/base",
          "model_name": "LayoutModel",
          "model_module_version": "1.2.0",
          "state": {
            "_model_module": "@jupyter-widgets/base",
            "_model_module_version": "1.2.0",
            "_model_name": "LayoutModel",
            "_view_count": null,
            "_view_module": "@jupyter-widgets/base",
            "_view_module_version": "1.2.0",
            "_view_name": "LayoutView",
            "align_content": null,
            "align_items": null,
            "align_self": null,
            "border": null,
            "bottom": null,
            "display": null,
            "flex": null,
            "flex_flow": null,
            "grid_area": null,
            "grid_auto_columns": null,
            "grid_auto_flow": null,
            "grid_auto_rows": null,
            "grid_column": null,
            "grid_gap": null,
            "grid_row": null,
            "grid_template_areas": null,
            "grid_template_columns": null,
            "grid_template_rows": null,
            "height": null,
            "justify_content": null,
            "justify_items": null,
            "left": null,
            "margin": null,
            "max_height": null,
            "max_width": null,
            "min_height": null,
            "min_width": null,
            "object_fit": null,
            "object_position": null,
            "order": null,
            "overflow": null,
            "overflow_x": null,
            "overflow_y": null,
            "padding": null,
            "right": null,
            "top": null,
            "visibility": null,
            "width": null
          }
        },
        "d241428e0b344795bf08a7ea6b2c2294": {
          "model_module": "@jupyter-widgets/controls",
          "model_name": "DescriptionStyleModel",
          "model_module_version": "1.5.0",
          "state": {
            "_model_module": "@jupyter-widgets/controls",
            "_model_module_version": "1.5.0",
            "_model_name": "DescriptionStyleModel",
            "_view_count": null,
            "_view_module": "@jupyter-widgets/base",
            "_view_module_version": "1.2.0",
            "_view_name": "StyleView",
            "description_width": ""
          }
        },
        "ccba650966584c708b56c27ac33bac4a": {
          "model_module": "@jupyter-widgets/controls",
          "model_name": "HBoxModel",
          "model_module_version": "1.5.0",
          "state": {
            "_dom_classes": [],
            "_model_module": "@jupyter-widgets/controls",
            "_model_module_version": "1.5.0",
            "_model_name": "HBoxModel",
            "_view_count": null,
            "_view_module": "@jupyter-widgets/controls",
            "_view_module_version": "1.5.0",
            "_view_name": "HBoxView",
            "box_style": "",
            "children": [
              "IPY_MODEL_006f6fd83d9842ae96abff720e513eaf",
              "IPY_MODEL_ade9214758cd4295a350b44c2e627d6d",
              "IPY_MODEL_a8c49aa8689844dc931aff3e081f9f54"
            ],
            "layout": "IPY_MODEL_454c904b66304f9ba6f0e692e108675b"
          }
        },
        "006f6fd83d9842ae96abff720e513eaf": {
          "model_module": "@jupyter-widgets/controls",
          "model_name": "HTMLModel",
          "model_module_version": "1.5.0",
          "state": {
            "_dom_classes": [],
            "_model_module": "@jupyter-widgets/controls",
            "_model_module_version": "1.5.0",
            "_model_name": "HTMLModel",
            "_view_count": null,
            "_view_module": "@jupyter-widgets/controls",
            "_view_module_version": "1.5.0",
            "_view_name": "HTMLView",
            "description": "",
            "description_tooltip": null,
            "layout": "IPY_MODEL_d794ec8a85814925abe6df3ff2268b0c",
            "placeholder": "​",
            "style": "IPY_MODEL_4056fc4cdabd4cdbbd1a18ef6001c2df",
            "value": "model.safetensors: 100%"
          }
        },
        "ade9214758cd4295a350b44c2e627d6d": {
          "model_module": "@jupyter-widgets/controls",
          "model_name": "FloatProgressModel",
          "model_module_version": "1.5.0",
          "state": {
            "_dom_classes": [],
            "_model_module": "@jupyter-widgets/controls",
            "_model_module_version": "1.5.0",
            "_model_name": "FloatProgressModel",
            "_view_count": null,
            "_view_module": "@jupyter-widgets/controls",
            "_view_module_version": "1.5.0",
            "_view_name": "ProgressView",
            "bar_style": "success",
            "description": "",
            "description_tooltip": null,
            "layout": "IPY_MODEL_b705860c5a264e0991ef5837f10e5348",
            "max": 437955512,
            "min": 0,
            "orientation": "horizontal",
            "style": "IPY_MODEL_480c190058ec45c0ac40f9522380b66c",
            "value": 437955512
          }
        },
        "a8c49aa8689844dc931aff3e081f9f54": {
          "model_module": "@jupyter-widgets/controls",
          "model_name": "HTMLModel",
          "model_module_version": "1.5.0",
          "state": {
            "_dom_classes": [],
            "_model_module": "@jupyter-widgets/controls",
            "_model_module_version": "1.5.0",
            "_model_name": "HTMLModel",
            "_view_count": null,
            "_view_module": "@jupyter-widgets/controls",
            "_view_module_version": "1.5.0",
            "_view_name": "HTMLView",
            "description": "",
            "description_tooltip": null,
            "layout": "IPY_MODEL_42fe2944d90d42f5bf033066f744ed45",
            "placeholder": "​",
            "style": "IPY_MODEL_0c7306819e4441409871923727720bdd",
            "value": " 438M/438M [00:06&lt;00:00, 65.5MB/s]"
          }
        },
        "454c904b66304f9ba6f0e692e108675b": {
          "model_module": "@jupyter-widgets/base",
          "model_name": "LayoutModel",
          "model_module_version": "1.2.0",
          "state": {
            "_model_module": "@jupyter-widgets/base",
            "_model_module_version": "1.2.0",
            "_model_name": "LayoutModel",
            "_view_count": null,
            "_view_module": "@jupyter-widgets/base",
            "_view_module_version": "1.2.0",
            "_view_name": "LayoutView",
            "align_content": null,
            "align_items": null,
            "align_self": null,
            "border": null,
            "bottom": null,
            "display": null,
            "flex": null,
            "flex_flow": null,
            "grid_area": null,
            "grid_auto_columns": null,
            "grid_auto_flow": null,
            "grid_auto_rows": null,
            "grid_column": null,
            "grid_gap": null,
            "grid_row": null,
            "grid_template_areas": null,
            "grid_template_columns": null,
            "grid_template_rows": null,
            "height": null,
            "justify_content": null,
            "justify_items": null,
            "left": null,
            "margin": null,
            "max_height": null,
            "max_width": null,
            "min_height": null,
            "min_width": null,
            "object_fit": null,
            "object_position": null,
            "order": null,
            "overflow": null,
            "overflow_x": null,
            "overflow_y": null,
            "padding": null,
            "right": null,
            "top": null,
            "visibility": null,
            "width": null
          }
        },
        "d794ec8a85814925abe6df3ff2268b0c": {
          "model_module": "@jupyter-widgets/base",
          "model_name": "LayoutModel",
          "model_module_version": "1.2.0",
          "state": {
            "_model_module": "@jupyter-widgets/base",
            "_model_module_version": "1.2.0",
            "_model_name": "LayoutModel",
            "_view_count": null,
            "_view_module": "@jupyter-widgets/base",
            "_view_module_version": "1.2.0",
            "_view_name": "LayoutView",
            "align_content": null,
            "align_items": null,
            "align_self": null,
            "border": null,
            "bottom": null,
            "display": null,
            "flex": null,
            "flex_flow": null,
            "grid_area": null,
            "grid_auto_columns": null,
            "grid_auto_flow": null,
            "grid_auto_rows": null,
            "grid_column": null,
            "grid_gap": null,
            "grid_row": null,
            "grid_template_areas": null,
            "grid_template_columns": null,
            "grid_template_rows": null,
            "height": null,
            "justify_content": null,
            "justify_items": null,
            "left": null,
            "margin": null,
            "max_height": null,
            "max_width": null,
            "min_height": null,
            "min_width": null,
            "object_fit": null,
            "object_position": null,
            "order": null,
            "overflow": null,
            "overflow_x": null,
            "overflow_y": null,
            "padding": null,
            "right": null,
            "top": null,
            "visibility": null,
            "width": null
          }
        },
        "4056fc4cdabd4cdbbd1a18ef6001c2df": {
          "model_module": "@jupyter-widgets/controls",
          "model_name": "DescriptionStyleModel",
          "model_module_version": "1.5.0",
          "state": {
            "_model_module": "@jupyter-widgets/controls",
            "_model_module_version": "1.5.0",
            "_model_name": "DescriptionStyleModel",
            "_view_count": null,
            "_view_module": "@jupyter-widgets/base",
            "_view_module_version": "1.2.0",
            "_view_name": "StyleView",
            "description_width": ""
          }
        },
        "b705860c5a264e0991ef5837f10e5348": {
          "model_module": "@jupyter-widgets/base",
          "model_name": "LayoutModel",
          "model_module_version": "1.2.0",
          "state": {
            "_model_module": "@jupyter-widgets/base",
            "_model_module_version": "1.2.0",
            "_model_name": "LayoutModel",
            "_view_count": null,
            "_view_module": "@jupyter-widgets/base",
            "_view_module_version": "1.2.0",
            "_view_name": "LayoutView",
            "align_content": null,
            "align_items": null,
            "align_self": null,
            "border": null,
            "bottom": null,
            "display": null,
            "flex": null,
            "flex_flow": null,
            "grid_area": null,
            "grid_auto_columns": null,
            "grid_auto_flow": null,
            "grid_auto_rows": null,
            "grid_column": null,
            "grid_gap": null,
            "grid_row": null,
            "grid_template_areas": null,
            "grid_template_columns": null,
            "grid_template_rows": null,
            "height": null,
            "justify_content": null,
            "justify_items": null,
            "left": null,
            "margin": null,
            "max_height": null,
            "max_width": null,
            "min_height": null,
            "min_width": null,
            "object_fit": null,
            "object_position": null,
            "order": null,
            "overflow": null,
            "overflow_x": null,
            "overflow_y": null,
            "padding": null,
            "right": null,
            "top": null,
            "visibility": null,
            "width": null
          }
        },
        "480c190058ec45c0ac40f9522380b66c": {
          "model_module": "@jupyter-widgets/controls",
          "model_name": "ProgressStyleModel",
          "model_module_version": "1.5.0",
          "state": {
            "_model_module": "@jupyter-widgets/controls",
            "_model_module_version": "1.5.0",
            "_model_name": "ProgressStyleModel",
            "_view_count": null,
            "_view_module": "@jupyter-widgets/base",
            "_view_module_version": "1.2.0",
            "_view_name": "StyleView",
            "bar_color": null,
            "description_width": ""
          }
        },
        "42fe2944d90d42f5bf033066f744ed45": {
          "model_module": "@jupyter-widgets/base",
          "model_name": "LayoutModel",
          "model_module_version": "1.2.0",
          "state": {
            "_model_module": "@jupyter-widgets/base",
            "_model_module_version": "1.2.0",
            "_model_name": "LayoutModel",
            "_view_count": null,
            "_view_module": "@jupyter-widgets/base",
            "_view_module_version": "1.2.0",
            "_view_name": "LayoutView",
            "align_content": null,
            "align_items": null,
            "align_self": null,
            "border": null,
            "bottom": null,
            "display": null,
            "flex": null,
            "flex_flow": null,
            "grid_area": null,
            "grid_auto_columns": null,
            "grid_auto_flow": null,
            "grid_auto_rows": null,
            "grid_column": null,
            "grid_gap": null,
            "grid_row": null,
            "grid_template_areas": null,
            "grid_template_columns": null,
            "grid_template_rows": null,
            "height": null,
            "justify_content": null,
            "justify_items": null,
            "left": null,
            "margin": null,
            "max_height": null,
            "max_width": null,
            "min_height": null,
            "min_width": null,
            "object_fit": null,
            "object_position": null,
            "order": null,
            "overflow": null,
            "overflow_x": null,
            "overflow_y": null,
            "padding": null,
            "right": null,
            "top": null,
            "visibility": null,
            "width": null
          }
        },
        "0c7306819e4441409871923727720bdd": {
          "model_module": "@jupyter-widgets/controls",
          "model_name": "DescriptionStyleModel",
          "model_module_version": "1.5.0",
          "state": {
            "_model_module": "@jupyter-widgets/controls",
            "_model_module_version": "1.5.0",
            "_model_name": "DescriptionStyleModel",
            "_view_count": null,
            "_view_module": "@jupyter-widgets/base",
            "_view_module_version": "1.2.0",
            "_view_name": "StyleView",
            "description_width": ""
          }
        }
      }
    }
  },
  "nbformat": 4,
  "nbformat_minor": 0
}